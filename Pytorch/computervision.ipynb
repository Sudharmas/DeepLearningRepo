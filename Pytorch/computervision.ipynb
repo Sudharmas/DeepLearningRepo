{
 "cells": [
  {
   "metadata": {},
   "cell_type": "markdown",
   "source": [
    "1. `torchvision` base domain lib for computer vision\n",
    "2. `torchvision.datasets` for datasets and data loading fucntions\n",
    "3. `torchvision.models` get pretrained CV models that you can leverage for your own problems\n",
    "4. `torchvision.transforms` funtn for manipulating your ision data\n"
   ],
   "id": "6ccf00554d36b159"
  },
  {
   "metadata": {
    "ExecuteTime": {
     "end_time": "2025-08-18T14:41:00.123111Z",
     "start_time": "2025-08-18T14:40:58.712142Z"
    }
   },
   "cell_type": "code",
   "source": [
    "import numpy\n",
    "import torch\n",
    "from networkx.classes.filters import hide_edges\n",
    "from torch import nn\n",
    "\n",
    "import torchvision\n",
    "from torchvision import transforms,datasets\n",
    "from torchvision.transforms import ToTensor\n",
    "import matplotlib.pyplot as plt\n",
    "\n",
    "\n",
    "print(torch.__version__,torchvision.__version__)"
   ],
   "id": "57d563874cfdc06b",
   "outputs": [
    {
     "name": "stdout",
     "output_type": "stream",
     "text": [
      "2.9.0.dev20250813 0.24.0.dev20250813\n"
     ]
    }
   ],
   "execution_count": 1
  },
  {
   "metadata": {
    "ExecuteTime": {
     "end_time": "2025-08-18T14:41:00.175377Z",
     "start_time": "2025-08-18T14:41:00.150371Z"
    }
   },
   "cell_type": "code",
   "source": [
    "device = \"mps\" if torch.backends.mps.is_available() else \"cpu\"\n",
    "device"
   ],
   "id": "5cbaf73d41c9136a",
   "outputs": [
    {
     "data": {
      "text/plain": [
       "'mps'"
      ]
     },
     "execution_count": 2,
     "metadata": {},
     "output_type": "execute_result"
    }
   ],
   "execution_count": 2
  },
  {
   "metadata": {},
   "cell_type": "markdown",
   "source": [
    "# Getting dataset\n",
    "fasionMNIST dataset"
   ],
   "id": "9243377e4c976d02"
  },
  {
   "metadata": {
    "ExecuteTime": {
     "end_time": "2025-08-18T14:41:00.259283Z",
     "start_time": "2025-08-18T14:41:00.213136Z"
    }
   },
   "cell_type": "code",
   "source": [
    "traindata = datasets.FashionMNIST(\n",
    "    root=\"data\",\n",
    "    train=True,\n",
    "    download=True,\n",
    "    transform=ToTensor(),\n",
    "    target_transform=None\n",
    ")\n",
    "\n",
    "testdata = datasets.FashionMNIST(\n",
    "    root=\"data\",\n",
    "    train=False,\n",
    "    download=True,\n",
    "    transform=ToTensor(),\n",
    "    target_transform=None\n",
    ")"
   ],
   "id": "7b680b1116f2f1e2",
   "outputs": [],
   "execution_count": 3
  },
  {
   "metadata": {
    "ExecuteTime": {
     "end_time": "2025-08-18T14:41:00.273102Z",
     "start_time": "2025-08-18T14:41:00.270423Z"
    }
   },
   "cell_type": "code",
   "source": "len(traindata),len(testdata)",
   "id": "66944ab5469a7a68",
   "outputs": [
    {
     "data": {
      "text/plain": [
       "(60000, 10000)"
      ]
     },
     "execution_count": 4,
     "metadata": {},
     "output_type": "execute_result"
    }
   ],
   "execution_count": 4
  },
  {
   "metadata": {
    "ExecuteTime": {
     "end_time": "2025-08-18T14:41:00.290914Z",
     "start_time": "2025-08-18T14:41:00.284790Z"
    }
   },
   "cell_type": "code",
   "source": [
    "image , labels = traindata[0]\n",
    "image,labels"
   ],
   "id": "f8f26e2c042b20fd",
   "outputs": [
    {
     "data": {
      "text/plain": [
       "(tensor([[[0.0000, 0.0000, 0.0000, 0.0000, 0.0000, 0.0000, 0.0000, 0.0000,\n",
       "           0.0000, 0.0000, 0.0000, 0.0000, 0.0000, 0.0000, 0.0000, 0.0000,\n",
       "           0.0000, 0.0000, 0.0000, 0.0000, 0.0000, 0.0000, 0.0000, 0.0000,\n",
       "           0.0000, 0.0000, 0.0000, 0.0000],\n",
       "          [0.0000, 0.0000, 0.0000, 0.0000, 0.0000, 0.0000, 0.0000, 0.0000,\n",
       "           0.0000, 0.0000, 0.0000, 0.0000, 0.0000, 0.0000, 0.0000, 0.0000,\n",
       "           0.0000, 0.0000, 0.0000, 0.0000, 0.0000, 0.0000, 0.0000, 0.0000,\n",
       "           0.0000, 0.0000, 0.0000, 0.0000],\n",
       "          [0.0000, 0.0000, 0.0000, 0.0000, 0.0000, 0.0000, 0.0000, 0.0000,\n",
       "           0.0000, 0.0000, 0.0000, 0.0000, 0.0000, 0.0000, 0.0000, 0.0000,\n",
       "           0.0000, 0.0000, 0.0000, 0.0000, 0.0000, 0.0000, 0.0000, 0.0000,\n",
       "           0.0000, 0.0000, 0.0000, 0.0000],\n",
       "          [0.0000, 0.0000, 0.0000, 0.0000, 0.0000, 0.0000, 0.0000, 0.0000,\n",
       "           0.0000, 0.0000, 0.0000, 0.0000, 0.0039, 0.0000, 0.0000, 0.0510,\n",
       "           0.2863, 0.0000, 0.0000, 0.0039, 0.0157, 0.0000, 0.0000, 0.0000,\n",
       "           0.0000, 0.0039, 0.0039, 0.0000],\n",
       "          [0.0000, 0.0000, 0.0000, 0.0000, 0.0000, 0.0000, 0.0000, 0.0000,\n",
       "           0.0000, 0.0000, 0.0000, 0.0000, 0.0118, 0.0000, 0.1412, 0.5333,\n",
       "           0.4980, 0.2431, 0.2118, 0.0000, 0.0000, 0.0000, 0.0039, 0.0118,\n",
       "           0.0157, 0.0000, 0.0000, 0.0118],\n",
       "          [0.0000, 0.0000, 0.0000, 0.0000, 0.0000, 0.0000, 0.0000, 0.0000,\n",
       "           0.0000, 0.0000, 0.0000, 0.0000, 0.0235, 0.0000, 0.4000, 0.8000,\n",
       "           0.6902, 0.5255, 0.5647, 0.4824, 0.0902, 0.0000, 0.0000, 0.0000,\n",
       "           0.0000, 0.0471, 0.0392, 0.0000],\n",
       "          [0.0000, 0.0000, 0.0000, 0.0000, 0.0000, 0.0000, 0.0000, 0.0000,\n",
       "           0.0000, 0.0000, 0.0000, 0.0000, 0.0000, 0.0000, 0.6078, 0.9255,\n",
       "           0.8118, 0.6980, 0.4196, 0.6118, 0.6314, 0.4275, 0.2510, 0.0902,\n",
       "           0.3020, 0.5098, 0.2824, 0.0588],\n",
       "          [0.0000, 0.0000, 0.0000, 0.0000, 0.0000, 0.0000, 0.0000, 0.0000,\n",
       "           0.0000, 0.0000, 0.0000, 0.0039, 0.0000, 0.2706, 0.8118, 0.8745,\n",
       "           0.8549, 0.8471, 0.8471, 0.6392, 0.4980, 0.4745, 0.4784, 0.5725,\n",
       "           0.5529, 0.3451, 0.6745, 0.2588],\n",
       "          [0.0000, 0.0000, 0.0000, 0.0000, 0.0000, 0.0000, 0.0000, 0.0000,\n",
       "           0.0000, 0.0039, 0.0039, 0.0039, 0.0000, 0.7843, 0.9098, 0.9098,\n",
       "           0.9137, 0.8980, 0.8745, 0.8745, 0.8431, 0.8353, 0.6431, 0.4980,\n",
       "           0.4824, 0.7686, 0.8980, 0.0000],\n",
       "          [0.0000, 0.0000, 0.0000, 0.0000, 0.0000, 0.0000, 0.0000, 0.0000,\n",
       "           0.0000, 0.0000, 0.0000, 0.0000, 0.0000, 0.7176, 0.8824, 0.8471,\n",
       "           0.8745, 0.8941, 0.9216, 0.8902, 0.8784, 0.8706, 0.8784, 0.8667,\n",
       "           0.8745, 0.9608, 0.6784, 0.0000],\n",
       "          [0.0000, 0.0000, 0.0000, 0.0000, 0.0000, 0.0000, 0.0000, 0.0000,\n",
       "           0.0000, 0.0000, 0.0000, 0.0000, 0.0000, 0.7569, 0.8941, 0.8549,\n",
       "           0.8353, 0.7765, 0.7059, 0.8314, 0.8235, 0.8275, 0.8353, 0.8745,\n",
       "           0.8627, 0.9529, 0.7922, 0.0000],\n",
       "          [0.0000, 0.0000, 0.0000, 0.0000, 0.0000, 0.0000, 0.0000, 0.0000,\n",
       "           0.0000, 0.0039, 0.0118, 0.0000, 0.0471, 0.8588, 0.8627, 0.8314,\n",
       "           0.8549, 0.7529, 0.6627, 0.8902, 0.8157, 0.8549, 0.8784, 0.8314,\n",
       "           0.8863, 0.7725, 0.8196, 0.2039],\n",
       "          [0.0000, 0.0000, 0.0000, 0.0000, 0.0000, 0.0000, 0.0000, 0.0000,\n",
       "           0.0000, 0.0000, 0.0235, 0.0000, 0.3882, 0.9569, 0.8706, 0.8627,\n",
       "           0.8549, 0.7961, 0.7765, 0.8667, 0.8431, 0.8353, 0.8706, 0.8627,\n",
       "           0.9608, 0.4667, 0.6549, 0.2196],\n",
       "          [0.0000, 0.0000, 0.0000, 0.0000, 0.0000, 0.0000, 0.0000, 0.0000,\n",
       "           0.0000, 0.0157, 0.0000, 0.0000, 0.2157, 0.9255, 0.8941, 0.9020,\n",
       "           0.8941, 0.9412, 0.9098, 0.8353, 0.8549, 0.8745, 0.9176, 0.8510,\n",
       "           0.8510, 0.8196, 0.3608, 0.0000],\n",
       "          [0.0000, 0.0000, 0.0039, 0.0157, 0.0235, 0.0275, 0.0078, 0.0000,\n",
       "           0.0000, 0.0000, 0.0000, 0.0000, 0.9294, 0.8863, 0.8510, 0.8745,\n",
       "           0.8706, 0.8588, 0.8706, 0.8667, 0.8471, 0.8745, 0.8980, 0.8431,\n",
       "           0.8549, 1.0000, 0.3020, 0.0000],\n",
       "          [0.0000, 0.0118, 0.0000, 0.0000, 0.0000, 0.0000, 0.0000, 0.0000,\n",
       "           0.0000, 0.2431, 0.5686, 0.8000, 0.8941, 0.8118, 0.8353, 0.8667,\n",
       "           0.8549, 0.8157, 0.8275, 0.8549, 0.8784, 0.8745, 0.8588, 0.8431,\n",
       "           0.8784, 0.9569, 0.6235, 0.0000],\n",
       "          [0.0000, 0.0000, 0.0000, 0.0000, 0.0706, 0.1725, 0.3216, 0.4196,\n",
       "           0.7412, 0.8941, 0.8627, 0.8706, 0.8510, 0.8863, 0.7843, 0.8039,\n",
       "           0.8275, 0.9020, 0.8784, 0.9176, 0.6902, 0.7373, 0.9804, 0.9725,\n",
       "           0.9137, 0.9333, 0.8431, 0.0000],\n",
       "          [0.0000, 0.2235, 0.7333, 0.8157, 0.8784, 0.8667, 0.8784, 0.8157,\n",
       "           0.8000, 0.8392, 0.8157, 0.8196, 0.7843, 0.6235, 0.9608, 0.7569,\n",
       "           0.8078, 0.8745, 1.0000, 1.0000, 0.8667, 0.9176, 0.8667, 0.8275,\n",
       "           0.8627, 0.9098, 0.9647, 0.0000],\n",
       "          [0.0118, 0.7922, 0.8941, 0.8784, 0.8667, 0.8275, 0.8275, 0.8392,\n",
       "           0.8039, 0.8039, 0.8039, 0.8627, 0.9412, 0.3137, 0.5882, 1.0000,\n",
       "           0.8980, 0.8667, 0.7373, 0.6039, 0.7490, 0.8235, 0.8000, 0.8196,\n",
       "           0.8706, 0.8941, 0.8824, 0.0000],\n",
       "          [0.3843, 0.9137, 0.7765, 0.8235, 0.8706, 0.8980, 0.8980, 0.9176,\n",
       "           0.9765, 0.8627, 0.7608, 0.8431, 0.8510, 0.9451, 0.2549, 0.2863,\n",
       "           0.4157, 0.4588, 0.6588, 0.8588, 0.8667, 0.8431, 0.8510, 0.8745,\n",
       "           0.8745, 0.8784, 0.8980, 0.1137],\n",
       "          [0.2941, 0.8000, 0.8314, 0.8000, 0.7569, 0.8039, 0.8275, 0.8824,\n",
       "           0.8471, 0.7255, 0.7725, 0.8078, 0.7765, 0.8353, 0.9412, 0.7647,\n",
       "           0.8902, 0.9608, 0.9373, 0.8745, 0.8549, 0.8314, 0.8196, 0.8706,\n",
       "           0.8627, 0.8667, 0.9020, 0.2627],\n",
       "          [0.1882, 0.7961, 0.7176, 0.7608, 0.8353, 0.7725, 0.7255, 0.7451,\n",
       "           0.7608, 0.7529, 0.7922, 0.8392, 0.8588, 0.8667, 0.8627, 0.9255,\n",
       "           0.8824, 0.8471, 0.7804, 0.8078, 0.7294, 0.7098, 0.6941, 0.6745,\n",
       "           0.7098, 0.8039, 0.8078, 0.4510],\n",
       "          [0.0000, 0.4784, 0.8588, 0.7569, 0.7020, 0.6706, 0.7176, 0.7686,\n",
       "           0.8000, 0.8235, 0.8353, 0.8118, 0.8275, 0.8235, 0.7843, 0.7686,\n",
       "           0.7608, 0.7490, 0.7647, 0.7490, 0.7765, 0.7529, 0.6902, 0.6118,\n",
       "           0.6549, 0.6941, 0.8235, 0.3608],\n",
       "          [0.0000, 0.0000, 0.2902, 0.7412, 0.8314, 0.7490, 0.6863, 0.6745,\n",
       "           0.6863, 0.7098, 0.7255, 0.7373, 0.7412, 0.7373, 0.7569, 0.7765,\n",
       "           0.8000, 0.8196, 0.8235, 0.8235, 0.8275, 0.7373, 0.7373, 0.7608,\n",
       "           0.7529, 0.8471, 0.6667, 0.0000],\n",
       "          [0.0078, 0.0000, 0.0000, 0.0000, 0.2588, 0.7843, 0.8706, 0.9294,\n",
       "           0.9373, 0.9490, 0.9647, 0.9529, 0.9569, 0.8667, 0.8627, 0.7569,\n",
       "           0.7490, 0.7020, 0.7137, 0.7137, 0.7098, 0.6902, 0.6510, 0.6588,\n",
       "           0.3882, 0.2275, 0.0000, 0.0000],\n",
       "          [0.0000, 0.0000, 0.0000, 0.0000, 0.0000, 0.0000, 0.0000, 0.1569,\n",
       "           0.2392, 0.1725, 0.2824, 0.1608, 0.1373, 0.0000, 0.0000, 0.0000,\n",
       "           0.0000, 0.0000, 0.0000, 0.0000, 0.0000, 0.0000, 0.0000, 0.0000,\n",
       "           0.0000, 0.0000, 0.0000, 0.0000],\n",
       "          [0.0000, 0.0000, 0.0000, 0.0000, 0.0000, 0.0000, 0.0000, 0.0000,\n",
       "           0.0000, 0.0000, 0.0000, 0.0000, 0.0000, 0.0000, 0.0000, 0.0000,\n",
       "           0.0000, 0.0000, 0.0000, 0.0000, 0.0000, 0.0000, 0.0000, 0.0000,\n",
       "           0.0000, 0.0000, 0.0000, 0.0000],\n",
       "          [0.0000, 0.0000, 0.0000, 0.0000, 0.0000, 0.0000, 0.0000, 0.0000,\n",
       "           0.0000, 0.0000, 0.0000, 0.0000, 0.0000, 0.0000, 0.0000, 0.0000,\n",
       "           0.0000, 0.0000, 0.0000, 0.0000, 0.0000, 0.0000, 0.0000, 0.0000,\n",
       "           0.0000, 0.0000, 0.0000, 0.0000]]]),\n",
       " 9)"
      ]
     },
     "execution_count": 5,
     "metadata": {},
     "output_type": "execute_result"
    }
   ],
   "execution_count": 5
  },
  {
   "metadata": {
    "ExecuteTime": {
     "end_time": "2025-08-18T14:41:00.316091Z",
     "start_time": "2025-08-18T14:41:00.313604Z"
    }
   },
   "cell_type": "code",
   "source": [
    "classnames = traindata.classes\n",
    "classnames"
   ],
   "id": "2db8dcf4658db9d1",
   "outputs": [
    {
     "data": {
      "text/plain": [
       "['T-shirt/top',\n",
       " 'Trouser',\n",
       " 'Pullover',\n",
       " 'Dress',\n",
       " 'Coat',\n",
       " 'Sandal',\n",
       " 'Shirt',\n",
       " 'Sneaker',\n",
       " 'Bag',\n",
       " 'Ankle boot']"
      ]
     },
     "execution_count": 6,
     "metadata": {},
     "output_type": "execute_result"
    }
   ],
   "execution_count": 6
  },
  {
   "metadata": {
    "ExecuteTime": {
     "end_time": "2025-08-18T14:41:00.340751Z",
     "start_time": "2025-08-18T14:41:00.338100Z"
    }
   },
   "cell_type": "code",
   "source": [
    "classtoidx = traindata.class_to_idx\n",
    "classtoidx"
   ],
   "id": "6b4ddc5f1792e512",
   "outputs": [
    {
     "data": {
      "text/plain": [
       "{'T-shirt/top': 0,\n",
       " 'Trouser': 1,\n",
       " 'Pullover': 2,\n",
       " 'Dress': 3,\n",
       " 'Coat': 4,\n",
       " 'Sandal': 5,\n",
       " 'Shirt': 6,\n",
       " 'Sneaker': 7,\n",
       " 'Bag': 8,\n",
       " 'Ankle boot': 9}"
      ]
     },
     "execution_count": 7,
     "metadata": {},
     "output_type": "execute_result"
    }
   ],
   "execution_count": 7
  },
  {
   "metadata": {
    "ExecuteTime": {
     "end_time": "2025-08-18T14:41:00.362207Z",
     "start_time": "2025-08-18T14:41:00.359486Z"
    }
   },
   "cell_type": "code",
   "source": "traindata.targets",
   "id": "987eb0d2924f87aa",
   "outputs": [
    {
     "data": {
      "text/plain": [
       "tensor([9, 0, 0,  ..., 3, 0, 5])"
      ]
     },
     "execution_count": 8,
     "metadata": {},
     "output_type": "execute_result"
    }
   ],
   "execution_count": 8
  },
  {
   "metadata": {
    "ExecuteTime": {
     "end_time": "2025-08-18T14:41:00.376803Z",
     "start_time": "2025-08-18T14:41:00.373966Z"
    }
   },
   "cell_type": "code",
   "source": "image.shape,labels",
   "id": "24d4a47f67da284b",
   "outputs": [
    {
     "data": {
      "text/plain": [
       "(torch.Size([1, 28, 28]), 9)"
      ]
     },
     "execution_count": 9,
     "metadata": {},
     "output_type": "execute_result"
    }
   ],
   "execution_count": 9
  },
  {
   "metadata": {
    "ExecuteTime": {
     "end_time": "2025-08-18T14:41:00.468069Z",
     "start_time": "2025-08-18T14:41:00.391720Z"
    }
   },
   "cell_type": "code",
   "source": [
    "plt.imshow(image.squeeze(),cmap='gray')\n",
    "plt.title(classnames[labels])"
   ],
   "id": "3b94da3264c16427",
   "outputs": [
    {
     "data": {
      "text/plain": [
       "Text(0.5, 1.0, 'Ankle boot')"
      ]
     },
     "execution_count": 10,
     "metadata": {},
     "output_type": "execute_result"
    },
    {
     "data": {
      "text/plain": [
       "<Figure size 640x480 with 1 Axes>"
      ],
      "image/png": "[encoded data removed]"
     },
     "metadata": {},
     "output_type": "display_data"
    }
   ],
   "execution_count": 10
  },
  {
   "metadata": {
    "ExecuteTime": {
     "end_time": "2025-08-18T14:41:00.689916Z",
     "start_time": "2025-08-18T14:41:00.479242Z"
    }
   },
   "cell_type": "code",
   "source": [
    "torch.manual_seed(42)\n",
    "rows,cols = 4,4\n",
    "fig = plt.figure(figsize=(9,9))\n",
    "for i in range(1,rows*cols+1):\n",
    "    randomidx = torch.randint(0,len(traindata),size=[1]).item()\n",
    "    img , label = traindata[randomidx]\n",
    "    fig.add_subplot(rows,cols,i)\n",
    "    plt.imshow(img.squeeze(),cmap='gray')\n",
    "    plt.title(classnames[label])\n",
    "    plt.axis('off')"
   ],
   "id": "d4f1c3dc26499551",
   "outputs": [
    {
     "data": {
      "text/plain": [
       "<Figure size 900x900 with 16 Axes>"
      ],
      "image/png": "[encoded data removed]"
     },
     "metadata": {},
     "output_type": "display_data"
    }
   ],
   "execution_count": 11
  },
  {
   "metadata": {},
   "cell_type": "markdown",
   "source": [
    "# prepare dataloader\n",
    "turning above data to pytorch datasets <br>\n",
    "dtaloader turns our data into python iterable"
   ],
   "id": "f27f6fecf1fa74ce"
  },
  {
   "metadata": {
    "ExecuteTime": {
     "end_time": "2025-08-18T14:41:00.699685Z",
     "start_time": "2025-08-18T14:41:00.696892Z"
    }
   },
   "cell_type": "code",
   "source": [
    "from torch.utils.data import DataLoader, dataloader\n",
    "\n",
    "batchsize = 32\n",
    "traindataloader = DataLoader(traindata,batch_size=batchsize,shuffle=True)\n",
    "testdataloader = DataLoader(testdata,batch_size=batchsize,shuffle=False)\n",
    "len(traindataloader),len(testdataloader)"
   ],
   "id": "15ef505cd89a2b10",
   "outputs": [
    {
     "data": {
      "text/plain": [
       "(1875, 313)"
      ]
     },
     "execution_count": 12,
     "metadata": {},
     "output_type": "execute_result"
    }
   ],
   "execution_count": 12
  },
  {
   "metadata": {
    "ExecuteTime": {
     "end_time": "2025-08-18T14:41:00.721129Z",
     "start_time": "2025-08-18T14:41:00.714947Z"
    }
   },
   "cell_type": "code",
   "source": [
    "trainbatch,trainlabelbatch = next(iter(traindataloader))\n",
    "trainbatch.shape,trainlabelbatch.shape"
   ],
   "id": "ea9309b7190349e5",
   "outputs": [
    {
     "data": {
      "text/plain": [
       "(torch.Size([32, 1, 28, 28]), torch.Size([32]))"
      ]
     },
     "execution_count": 13,
     "metadata": {},
     "output_type": "execute_result"
    }
   ],
   "execution_count": 13
  },
  {
   "metadata": {
    "ExecuteTime": {
     "end_time": "2025-08-18T14:41:00.770079Z",
     "start_time": "2025-08-18T14:41:00.735962Z"
    }
   },
   "cell_type": "code",
   "source": [
    "torch.manual_seed(42)\n",
    "randidx = torch.randint(0,len(trainbatch),size=[1]).item()\n",
    "img ,label = trainbatch[randidx],trainlabelbatch[randidx]\n",
    "plt.imshow(img.squeeze(),cmap='gray')\n",
    "plt.title(classnames[label])\n",
    "plt.axis('off')"
   ],
   "id": "cea75640da62746a",
   "outputs": [
    {
     "data": {
      "text/plain": [
       "(np.float64(-0.5), np.float64(27.5), np.float64(27.5), np.float64(-0.5))"
      ]
     },
     "execution_count": 14,
     "metadata": {},
     "output_type": "execute_result"
    },
    {
     "data": {
      "text/plain": [
       "<Figure size 640x480 with 1 Axes>"
      ],
      "image/png": "[encoded data removed]"
     },
     "metadata": {},
     "output_type": "display_data"
    }
   ],
   "execution_count": 14
  },
  {
   "metadata": {},
   "cell_type": "markdown",
   "source": "baseline model",
   "id": "859ad2701c3a5517"
  },
  {
   "metadata": {
    "ExecuteTime": {
     "end_time": "2025-08-18T14:41:00.777898Z",
     "start_time": "2025-08-18T14:41:00.775507Z"
    }
   },
   "cell_type": "code",
   "source": [
    "flattenmodel = nn.Flatten()\n",
    "x = trainbatch[0]\n",
    "\n",
    "output = flattenmodel(x)\n",
    "\n",
    "print(x.shape,output.shape)\n",
    "#flattens the dimensions"
   ],
   "id": "158b12497790a1fa",
   "outputs": [
    {
     "name": "stdout",
     "output_type": "stream",
     "text": [
      "torch.Size([1, 28, 28]) torch.Size([1, 784])\n"
     ]
    }
   ],
   "execution_count": 15
  },
  {
   "metadata": {
    "ExecuteTime": {
     "end_time": "2025-08-18T14:41:00.791989Z",
     "start_time": "2025-08-18T14:41:00.789980Z"
    }
   },
   "cell_type": "code",
   "source": [
    "class fashinmnist(nn.Module):\n",
    "    def __init__(self,inputshape:int,outputshape:int,hiddenunits:int):\n",
    "        super().__init__()\n",
    "        self.layerstack = nn.Sequential(\n",
    "            nn.Flatten(),\n",
    "            nn.Linear(inputshape,hiddenunits),\n",
    "            nn.Linear(hiddenunits,outputshape),\n",
    "        )\n",
    "    def forward(self,x):\n",
    "        return self.layerstack(x)"
   ],
   "id": "6c593dffe971aee3",
   "outputs": [],
   "execution_count": 16
  },
  {
   "metadata": {
    "ExecuteTime": {
     "end_time": "2025-08-18T14:41:00.808223Z",
     "start_time": "2025-08-18T14:41:00.804617Z"
    }
   },
   "cell_type": "code",
   "source": [
    "torch.manual_seed(42)\n",
    "\n",
    "model_0 = fashinmnist(\n",
    "    inputshape=784,\n",
    "    hiddenunits=10,\n",
    "    outputshape=len(classnames)\n",
    ")\n",
    "model_0"
   ],
   "id": "5189b45821506f97",
   "outputs": [
    {
     "data": {
      "text/plain": [
       "fashinmnist(\n",
       "  (layerstack): Sequential(\n",
       "    (0): Flatten(start_dim=1, end_dim=-1)\n",
       "    (1): Linear(in_features=784, out_features=10, bias=True)\n",
       "    (2): Linear(in_features=10, out_features=10, bias=True)\n",
       "  )\n",
       ")"
      ]
     },
     "execution_count": 17,
     "metadata": {},
     "output_type": "execute_result"
    }
   ],
   "execution_count": 17
  },
  {
   "metadata": {
    "ExecuteTime": {
     "end_time": "2025-08-18T14:41:00.943802Z",
     "start_time": "2025-08-18T14:41:00.830596Z"
    }
   },
   "cell_type": "code",
   "source": [
    "dummy = torch.rand(1,1,28,28)\n",
    "model_0(dummy).to(device)\n",
    "#outputs will be logits of 10 nos."
   ],
   "id": "1a8542ae3fc5ba3e",
   "outputs": [
    {
     "data": {
      "text/plain": [
       "tensor([[-0.0315,  0.3171,  0.0531, -0.2525,  0.5959,  0.2112,  0.3233,  0.2694,\n",
       "         -0.1004,  0.0157]], device='mps:0', grad_fn=<ToCopyBackward0>)"
      ]
     },
     "execution_count": 18,
     "metadata": {},
     "output_type": "execute_result"
    }
   ],
   "execution_count": 18
  },
  {
   "metadata": {
    "ExecuteTime": {
     "end_time": "2025-08-18T14:41:01.018177Z",
     "start_time": "2025-08-18T14:41:00.971874Z"
    }
   },
   "cell_type": "code",
   "source": [
    "#loss and optimizer\n",
    "#downloading any required files from net\n",
    "import requests\n",
    "from pathlib import Path\n",
    "if Path(\"helper_functions.py\").is_file():\n",
    "    print(\"exists\")\n",
    "else:\n",
    "    print(\"downloading\")\n",
    "    request = requests.get(\"https://raw.githubusercontent.com/mrdbourke/pytorch-deep-learning/main/helper_functions.py\")\n",
    "    with open(\"helper_functions.py\",\"wb\") as f:\n",
    "        f.write(request.content)\n",
    "\n",
    "from helper_functions import plot_predictions,plot_decision_boundary"
   ],
   "id": "1d851cacbd2c176b",
   "outputs": [
    {
     "name": "stdout",
     "output_type": "stream",
     "text": [
      "exists\n"
     ]
    }
   ],
   "execution_count": 19
  },
  {
   "metadata": {
    "ExecuteTime": {
     "end_time": "2025-08-18T14:41:01.245540Z",
     "start_time": "2025-08-18T14:41:01.243931Z"
    }
   },
   "cell_type": "code",
   "source": "from helper_functions import accuracy_fn",
   "id": "e22ca536d670d859",
   "outputs": [],
   "execution_count": 20
  },
  {
   "metadata": {
    "ExecuteTime": {
     "end_time": "2025-08-18T14:41:01.450752Z",
     "start_time": "2025-08-18T14:41:01.448891Z"
    }
   },
   "cell_type": "code",
   "source": [
    "lossfn = nn.CrossEntropyLoss()\n",
    "optimizer = torch.optim.SGD(model_0.parameters(),lr=0.1)"
   ],
   "id": "709c4eb8f9a04b21",
   "outputs": [],
   "execution_count": 21
  },
  {
   "metadata": {
    "ExecuteTime": {
     "end_time": "2025-08-18T14:41:01.535945Z",
     "start_time": "2025-08-18T14:41:01.533989Z"
    }
   },
   "cell_type": "code",
   "source": [
    "from timeit import default_timer as timer\n",
    "\n",
    "def printtime(start:float,end:float,device:torch.device=None):\n",
    "    totaltime = end-start\n",
    "    print(f\"{totaltime:.4f}\")\n",
    "    return totaltime"
   ],
   "id": "b688ae1c6669a23c",
   "outputs": [],
   "execution_count": 22
  },
  {
   "metadata": {
    "ExecuteTime": {
     "end_time": "2025-08-18T14:41:01.550571Z",
     "start_time": "2025-08-18T14:41:01.548369Z"
    }
   },
   "cell_type": "code",
   "source": [
    "start = timer()\n",
    "end = timer()\n",
    "printtime(start,end,device=\"cpu\")"
   ],
   "id": "4f89434f039df810",
   "outputs": [
    {
     "name": "stdout",
     "output_type": "stream",
     "text": [
      "0.0000\n"
     ]
    },
    {
     "data": {
      "text/plain": [
       "1.2334000075497897e-05"
      ]
     },
     "execution_count": 23,
     "metadata": {},
     "output_type": "execute_result"
    }
   ],
   "execution_count": 23
  },
  {
   "metadata": {
    "ExecuteTime": {
     "end_time": "2025-08-18T14:41:06.922817Z",
     "start_time": "2025-08-18T14:41:01.570396Z"
    }
   },
   "cell_type": "code",
   "source": [
    "#to show progress bar we use tqdm\n",
    "from tqdm.auto import tqdm\n",
    "torch.manual_seed(42)\n",
    "trantimestart = timer()\n",
    "\n",
    "epochs = 3\n",
    "\n",
    "for epoch in tqdm(range(epochs)):\n",
    "    trainloss =0\n",
    "    for batch,(img,lab) in enumerate(traindataloader):\n",
    "        model_0.train()\n",
    "        yp = model_0(img)\n",
    "        loss = lossfn(yp,lab)\n",
    "        trainloss += loss\n",
    "        optimizer.zero_grad()\n",
    "        loss.backward()\n",
    "        optimizer.step()\n",
    "        if batch % 400 == 0:\n",
    "            print(f'looked at batch {batch*len(img)} / {len(traindataloader.dataset)} \\n')\n",
    "    trainloss/= len(traindataloader)\n",
    "    testloss, testacc =0,0\n",
    "    model_0.eval()\n",
    "    with torch.inference_mode():\n",
    "        for x,y in testdataloader:\n",
    "            testpred = model_0(x)\n",
    "            testloss += lossfn(testpred,y)\n",
    "            testacc += accuracy_fn(y_true=y,y_pred=testpred.argmax(dim=1))\n",
    "        testloss/=len(testdataloader)\n",
    "        testacc/=len(testdataloader)\n",
    "    print(f'train loss : {trainloss:.4f}, test loss : {testloss:.4f} , accuracy : {testacc:.4f}')\n",
    "    traintimeend = timer()\n",
    "    printtime(trantimestart,traintimeend,device=str(next(model_0.parameters()).device))"
   ],
   "id": "c9f57fa8d22265a9",
   "outputs": [
    {
     "name": "stderr",
     "output_type": "stream",
     "text": [
      "/Users/sudharmas/DeepLearning/.venv1/lib/python3.13/site-packages/tqdm/auto.py:21: TqdmWarning: IProgress not found. Please update jupyter and ipywidgets. See https://ipywidgets.readthedocs.io/en/stable/user_install.html\n",
      "  from .autonotebook import tqdm as notebook_tqdm\n",
      "  0%|          | 0/3 [00:00<?, ?it/s]"
     ]
    },
    {
     "name": "stdout",
     "output_type": "stream",
     "text": [
      "looked at batch 0 / 60000 \n",
      "\n",
      "looked at batch 12800 / 60000 \n",
      "\n",
      "looked at batch 25600 / 60000 \n",
      "\n",
      "looked at batch 38400 / 60000 \n",
      "\n",
      "looked at batch 51200 / 60000 \n",
      "\n"
     ]
    },
    {
     "name": "stderr",
     "output_type": "stream",
     "text": [
      " 33%|███▎      | 1/3 [00:01<00:03,  1.80s/it]"
     ]
    },
    {
     "name": "stdout",
     "output_type": "stream",
     "text": [
      "train loss : 0.5904, test loss : 0.5095 , accuracy : 82.0387\n",
      "1.8187\n",
      "looked at batch 0 / 60000 \n",
      "\n",
      "looked at batch 12800 / 60000 \n",
      "\n",
      "looked at batch 25600 / 60000 \n",
      "\n",
      "looked at batch 38400 / 60000 \n",
      "\n",
      "looked at batch 51200 / 60000 \n",
      "\n"
     ]
    },
    {
     "name": "stderr",
     "output_type": "stream",
     "text": [
      " 67%|██████▋   | 2/3 [00:03<00:01,  1.76s/it]"
     ]
    },
    {
     "name": "stdout",
     "output_type": "stream",
     "text": [
      "train loss : 0.4763, test loss : 0.4799 , accuracy : 83.1969\n",
      "3.5511\n",
      "looked at batch 0 / 60000 \n",
      "\n",
      "looked at batch 12800 / 60000 \n",
      "\n",
      "looked at batch 25600 / 60000 \n",
      "\n",
      "looked at batch 38400 / 60000 \n",
      "\n",
      "looked at batch 51200 / 60000 \n",
      "\n"
     ]
    },
    {
     "name": "stderr",
     "output_type": "stream",
     "text": [
      "100%|██████████| 3/3 [00:05<00:00,  1.78s/it]"
     ]
    },
    {
     "name": "stdout",
     "output_type": "stream",
     "text": [
      "train loss : 0.4550, test loss : 0.4766 , accuracy : 83.4265\n",
      "5.3445\n"
     ]
    },
    {
     "name": "stderr",
     "output_type": "stream",
     "text": [
      "\n"
     ]
    }
   ],
   "execution_count": 24
  },
  {
   "metadata": {},
   "cell_type": "markdown",
   "source": "# <h1> EvalModel",
   "id": "5fde8f17123f8f4d"
  },
  {
   "metadata": {
    "ExecuteTime": {
     "end_time": "2025-08-18T14:41:08.343856Z",
     "start_time": "2025-08-18T14:41:06.990753Z"
    }
   },
   "cell_type": "code",
   "source": [
    "torch.manual_seed(42)\n",
    "\n",
    "def evalmodel(model:torch.nn.Module,dataloader: torch.utils.data.DataLoader,lossfn:torch.nn.Module,accuracy_fn,device:torch.device=None):\n",
    "    loss,acc =0,0\n",
    "    model.eval()\n",
    "    with torch.inference_mode():\n",
    "        for x,y in tqdm(dataloader):\n",
    "            yprediction = model(x)\n",
    "            loss+= lossfn(yprediction,y)\n",
    "            acc += accuracy_fn(y_true=y,y_pred=yprediction.argmax(dim=1))\n",
    "        loss/=len(dataloader)\n",
    "        acc/=len(dataloader)\n",
    "    return {\"model:\" : model.__class__.__name__,\n",
    "            \"loss:\" : loss.item(),\n",
    "            \"accuracy:\" : acc}\n",
    "\n",
    "model0result = evalmodel(model_0,traindataloader,lossfn,accuracy_fn)\n",
    "model0result\n"
   ],
   "id": "b4e12dda8dc138e3",
   "outputs": [
    {
     "name": "stderr",
     "output_type": "stream",
     "text": [
      "100%|██████████| 1875/1875 [00:01<00:00, 1392.36it/s]\n"
     ]
    },
    {
     "data": {
      "text/plain": [
       "{'model:': 'fashinmnist',\n",
       " 'loss:': 0.4302608370780945,\n",
       " 'accuracy:': 84.94166666666666}"
      ]
     },
     "execution_count": 25,
     "metadata": {},
     "output_type": "execute_result"
    }
   ],
   "execution_count": 25
  },
  {
   "metadata": {
    "ExecuteTime": {
     "end_time": "2025-08-18T14:41:08.366929Z",
     "start_time": "2025-08-18T14:41:08.364176Z"
    }
   },
   "cell_type": "code",
   "source": [
    "torch.manual_seed(42)\n",
    "class fasionmnistv1(nn.Module):\n",
    "    def __init__(self,inputshape:int,hiddenunits:int,outputshape:int):\n",
    "        super().__init__()\n",
    "        self.layerstack = nn.Sequential(nn.Flatten(),\n",
    "                                        nn.Linear(inputshape,hiddenunits),\n",
    "                                        nn.ReLU(),\n",
    "                                        nn.Linear(hiddenunits,outputshape),\n",
    "                                        nn.ReLU())\n",
    "    def forward(self,x:torch.Tensor):\n",
    "        return self.layerstack(x)"
   ],
   "id": "6b0beb75b9233b58",
   "outputs": [],
   "execution_count": 26
  },
  {
   "metadata": {
    "ExecuteTime": {
     "end_time": "2025-08-18T14:41:08.374298Z",
     "start_time": "2025-08-18T14:41:08.370992Z"
    }
   },
   "cell_type": "code",
   "source": [
    "torch.manual_seed(42)\n",
    "\n",
    "model_1 = fasionmnistv1(inputshape=784,hiddenunits=10,outputshape=len(classnames))\n",
    "next(model_1.parameters())"
   ],
   "id": "7d7e4ac47cca0225",
   "outputs": [
    {
     "data": {
      "text/plain": [
       "Parameter containing:\n",
       "tensor([[ 0.0273,  0.0296, -0.0084,  ..., -0.0142,  0.0093,  0.0135],\n",
       "        [-0.0188, -0.0354,  0.0187,  ..., -0.0106, -0.0001,  0.0115],\n",
       "        [-0.0008,  0.0017,  0.0045,  ..., -0.0127, -0.0188,  0.0059],\n",
       "        ...,\n",
       "        [-0.0116,  0.0273, -0.0344,  ...,  0.0176,  0.0283, -0.0011],\n",
       "        [-0.0230,  0.0257,  0.0291,  ..., -0.0187, -0.0087,  0.0001],\n",
       "        [ 0.0176, -0.0147,  0.0053,  ..., -0.0336, -0.0221,  0.0205]],\n",
       "       requires_grad=True)"
      ]
     },
     "execution_count": 27,
     "metadata": {},
     "output_type": "execute_result"
    }
   ],
   "execution_count": 27
  },
  {
   "metadata": {
    "ExecuteTime": {
     "end_time": "2025-08-18T14:41:13.707126Z",
     "start_time": "2025-08-18T14:41:08.387033Z"
    }
   },
   "cell_type": "code",
   "source": [
    "#to show progress bar we use tqdm\n",
    "from tqdm.auto import tqdm\n",
    "torch.manual_seed(42)\n",
    "trantimestart = timer()\n",
    "\n",
    "epochs = 3\n",
    "\n",
    "for epoch in tqdm(range(epochs)):\n",
    "    trainloss =0\n",
    "    for batch,(img,lab) in enumerate(traindataloader):\n",
    "        model_1.train()\n",
    "        yp = model_1(img)\n",
    "        loss = lossfn(yp,lab)\n",
    "        trainloss += loss.item()\n",
    "        optimizer.zero_grad()\n",
    "        loss.backward()\n",
    "        optimizer.step()\n",
    "        if batch % 400 == 0:\n",
    "            print(f'looked at batch {batch*len(img)} / {len(traindataloader.dataset)} \\n')\n",
    "    trainloss/= len(traindataloader)\n",
    "    testloss, testacc =0,0\n",
    "    model_0.eval()\n",
    "    with torch.inference_mode():\n",
    "        for x,y in testdataloader:\n",
    "            testpred = model_1(x)\n",
    "            testloss += lossfn(testpred,y)\n",
    "            testacc += accuracy_fn(y_true=y,y_pred=testpred.argmax(dim=1))\n",
    "        testloss/=len(testdataloader)\n",
    "        testacc/=len(testdataloader)\n",
    "    print(f'train loss : {trainloss:.2f}, test loss : {testloss:.2f} , accuracy : {testacc:.2f}')\n",
    "    traintimeend = timer()\n",
    "    printtime(trantimestart,traintimeend,device=str(next(model_1.parameters()).device))"
   ],
   "id": "9f79b98360fcf922",
   "outputs": [
    {
     "name": "stderr",
     "output_type": "stream",
     "text": [
      "  0%|          | 0/3 [00:00<?, ?it/s]"
     ]
    },
    {
     "name": "stdout",
     "output_type": "stream",
     "text": [
      "looked at batch 0 / 60000 \n",
      "\n",
      "looked at batch 12800 / 60000 \n",
      "\n",
      "looked at batch 25600 / 60000 \n",
      "\n",
      "looked at batch 38400 / 60000 \n",
      "\n",
      "looked at batch 51200 / 60000 \n",
      "\n"
     ]
    },
    {
     "name": "stderr",
     "output_type": "stream",
     "text": [
      " 33%|███▎      | 1/3 [00:01<00:03,  1.84s/it]"
     ]
    },
    {
     "name": "stdout",
     "output_type": "stream",
     "text": [
      "train loss : 2.30, test loss : 2.30 , accuracy : 10.75\n",
      "1.8387\n",
      "looked at batch 0 / 60000 \n",
      "\n",
      "looked at batch 12800 / 60000 \n",
      "\n",
      "looked at batch 25600 / 60000 \n",
      "\n",
      "looked at batch 38400 / 60000 \n",
      "\n",
      "looked at batch 51200 / 60000 \n",
      "\n"
     ]
    },
    {
     "name": "stderr",
     "output_type": "stream",
     "text": [
      " 67%|██████▋   | 2/3 [00:03<00:01,  1.77s/it]"
     ]
    },
    {
     "name": "stdout",
     "output_type": "stream",
     "text": [
      "train loss : 2.30, test loss : 2.30 , accuracy : 10.75\n",
      "3.5633\n",
      "looked at batch 0 / 60000 \n",
      "\n",
      "looked at batch 12800 / 60000 \n",
      "\n",
      "looked at batch 25600 / 60000 \n",
      "\n",
      "looked at batch 38400 / 60000 \n",
      "\n",
      "looked at batch 51200 / 60000 \n",
      "\n"
     ]
    },
    {
     "name": "stderr",
     "output_type": "stream",
     "text": [
      "100%|██████████| 3/3 [00:05<00:00,  1.77s/it]"
     ]
    },
    {
     "name": "stdout",
     "output_type": "stream",
     "text": [
      "train loss : 2.30, test loss : 2.30 , accuracy : 10.75\n",
      "5.3151\n"
     ]
    },
    {
     "name": "stderr",
     "output_type": "stream",
     "text": [
      "\n"
     ]
    }
   ],
   "execution_count": 28
  },
  {
   "metadata": {
    "ExecuteTime": {
     "end_time": "2025-08-18T14:41:13.729795Z",
     "start_time": "2025-08-18T14:41:13.725344Z"
    }
   },
   "cell_type": "code",
   "source": [
    "torch.manual_seed(42)\n",
    "\n",
    "model_1 = fasionmnistv1(inputshape=784,hiddenunits=10,outputshape=len(classnames))\n",
    "next(model_1.parameters()).device"
   ],
   "id": "44767c6613c060fe",
   "outputs": [
    {
     "data": {
      "text/plain": [
       "device(type='cpu')"
      ]
     },
     "execution_count": 29,
     "metadata": {},
     "output_type": "execute_result"
    }
   ],
   "execution_count": 29
  },
  {
   "metadata": {
    "ExecuteTime": {
     "end_time": "2025-08-18T14:41:15.030130Z",
     "start_time": "2025-08-18T14:41:13.741572Z"
    }
   },
   "cell_type": "code",
   "source": [
    "model1result = evalmodel(model_1,traindataloader,lossfn,accuracy_fn)\n",
    "model1result"
   ],
   "id": "4a193ec3609a5136",
   "outputs": [
    {
     "name": "stderr",
     "output_type": "stream",
     "text": [
      "100%|██████████| 1875/1875 [00:01<00:00, 1459.37it/s]\n"
     ]
    },
    {
     "data": {
      "text/plain": [
       "{'model:': 'fasionmnistv1', 'loss:': 2.30165958404541, 'accuracy:': 11.315}"
      ]
     },
     "execution_count": 30,
     "metadata": {},
     "output_type": "execute_result"
    }
   ],
   "execution_count": 30
  },
  {
   "metadata": {},
   "cell_type": "markdown",
   "source": "# function for training model and testing model",
   "id": "41b5599135c4aca2"
  },
  {
   "metadata": {
    "ExecuteTime": {
     "end_time": "2025-08-18T14:41:15.052105Z",
     "start_time": "2025-08-18T14:41:15.050275Z"
    }
   },
   "cell_type": "code",
   "source": [
    "from helper_functions import accuracy_fn\n",
    "lossfn = nn.CrossEntropyLoss()\n",
    "optimizer = torch.optim.SGD(model_0.parameters(),lr=0.1)"
   ],
   "id": "49bd4e8c0a1db375",
   "outputs": [],
   "execution_count": 31
  },
  {
   "metadata": {
    "ExecuteTime": {
     "end_time": "2025-08-18T14:41:15.064793Z",
     "start_time": "2025-08-18T14:41:15.062300Z"
    }
   },
   "cell_type": "code",
   "source": [
    "#defining a function for traii=ning model univerrsally\n",
    "def trainstep(model:torch.nn.Module,\n",
    "              dataloader:torch.utils.data.DataLoader,\n",
    "              lossfn:torch.nn.Module,\n",
    "              optimizer:torch.optim.Optimizer,\n",
    "              accuracy_fn,\n",
    "              device:torch.device=device):\n",
    "    trainloss,trainacc =0,0\n",
    "    model.train()\n",
    "    for batch,(X,Y) in enumerate(dataloader):\n",
    "        X,Y = X.to(device),Y.to(device)\n",
    "        yp = model(X)\n",
    "        loss = lossfn(yp,Y)\n",
    "        trainloss += loss\n",
    "        trainacc += accuracy_fn(y_true=Y,y_pred=yp.argmax(dim=1))\n",
    "        optimizer.zero_grad()\n",
    "        loss.backward()\n",
    "        optimizer.step()\n",
    "        if batch % 400 == 0:\n",
    "            print(f'looked at batch {batch*len(img)} / {len(dataloader.dataset)} samples \\n')\n",
    "    trainloss /= len(dataloader)\n",
    "    trainacc /= len(dataloader)\n",
    "    print(f'train loss : {trainloss:.4f}, train acc : {trainacc:.2f}%')"
   ],
   "id": "56254501a431074d",
   "outputs": [],
   "execution_count": 32
  },
  {
   "metadata": {
    "ExecuteTime": {
     "end_time": "2025-08-18T14:41:15.071327Z",
     "start_time": "2025-08-18T14:41:15.069055Z"
    }
   },
   "cell_type": "code",
   "source": [
    "def teststep(model:torch.nn.Module,\n",
    "             dataloader:torch.utils.data.DataLoader,\n",
    "             lossfn:torch.nn.Module,\n",
    "             accuracy_fn,\n",
    "             device:torch.device=device):\n",
    "    testloss, testacc =0,0\n",
    "    model.eval()\n",
    "    with torch.inference_mode():\n",
    "        for x,y in dataloader:\n",
    "            x,y = x.to(device),y.to(device)\n",
    "            testpred = model(x)\n",
    "            testloss += lossfn(testpred,y)\n",
    "            testacc += accuracy_fn(y_true=y,y_pred=testpred.argmax(dim=1))\n",
    "        testloss/=len(dataloader)\n",
    "        testacc/=len(dataloader)\n",
    "    print(f' test loss : {testloss:.4f} , accuracy : {testacc:.2f}')\n"
   ],
   "id": "f4685892db53639b",
   "outputs": [],
   "execution_count": 33
  },
  {
   "metadata": {
    "ExecuteTime": {
     "end_time": "2025-08-18T14:41:20.332574Z",
     "start_time": "2025-08-18T14:41:15.075956Z"
    }
   },
   "cell_type": "code",
   "source": [
    "torch.manual_seed(42)\n",
    "\n",
    "from timeit import default_timer as timer\n",
    "traintimestartgpu = timer()\n",
    "epochs = 3\n",
    "for epoch in tqdm(range(epochs)):\n",
    "    trainstep(model_1,traindataloader,lossfn,optimizer,accuracy_fn,device=\"cpu\")\n",
    "    teststep(model_1,testdataloader,lossfn,accuracy_fn,device=\"cpu\")\n",
    "traintimeendgpu = timer()\n",
    "printtime(traintimestartgpu,traintimeendgpu,device=device)"
   ],
   "id": "9bf902a3df0fbd5b",
   "outputs": [
    {
     "name": "stderr",
     "output_type": "stream",
     "text": [
      "  0%|          | 0/3 [00:00<?, ?it/s]"
     ]
    },
    {
     "name": "stdout",
     "output_type": "stream",
     "text": [
      "looked at batch 0 / 60000 samples \n",
      "\n",
      "looked at batch 12800 / 60000 samples \n",
      "\n",
      "looked at batch 25600 / 60000 samples \n",
      "\n",
      "looked at batch 38400 / 60000 samples \n",
      "\n",
      "looked at batch 51200 / 60000 samples \n",
      "\n",
      "train loss : 2.3017, train acc : 11.31%\n"
     ]
    },
    {
     "name": "stderr",
     "output_type": "stream",
     "text": [
      " 33%|███▎      | 1/3 [00:01<00:03,  1.76s/it]"
     ]
    },
    {
     "name": "stdout",
     "output_type": "stream",
     "text": [
      " test loss : 2.3021 , accuracy : 10.75\n",
      "looked at batch 0 / 60000 samples \n",
      "\n",
      "looked at batch 12800 / 60000 samples \n",
      "\n",
      "looked at batch 25600 / 60000 samples \n",
      "\n",
      "looked at batch 38400 / 60000 samples \n",
      "\n",
      "looked at batch 51200 / 60000 samples \n",
      "\n",
      "train loss : 2.3017, train acc : 11.31%\n"
     ]
    },
    {
     "name": "stderr",
     "output_type": "stream",
     "text": [
      " 67%|██████▋   | 2/3 [00:03<00:01,  1.76s/it]"
     ]
    },
    {
     "name": "stdout",
     "output_type": "stream",
     "text": [
      " test loss : 2.3021 , accuracy : 10.75\n",
      "looked at batch 0 / 60000 samples \n",
      "\n",
      "looked at batch 12800 / 60000 samples \n",
      "\n",
      "looked at batch 25600 / 60000 samples \n",
      "\n",
      "looked at batch 38400 / 60000 samples \n",
      "\n",
      "looked at batch 51200 / 60000 samples \n",
      "\n",
      "train loss : 2.3017, train acc : 11.31%\n"
     ]
    },
    {
     "name": "stderr",
     "output_type": "stream",
     "text": [
      "100%|██████████| 3/3 [00:05<00:00,  1.75s/it]"
     ]
    },
    {
     "name": "stdout",
     "output_type": "stream",
     "text": [
      " test loss : 2.3021 , accuracy : 10.75\n",
      "5.2528\n"
     ]
    },
    {
     "name": "stderr",
     "output_type": "stream",
     "text": [
      "\n"
     ]
    },
    {
     "data": {
      "text/plain": [
       "5.252767124999991"
      ]
     },
     "execution_count": 34,
     "metadata": {},
     "output_type": "execute_result"
    }
   ],
   "execution_count": 34
  },
  {
   "metadata": {
    "ExecuteTime": {
     "end_time": "2025-08-18T14:41:20.356922Z",
     "start_time": "2025-08-18T14:41:20.354802Z"
    }
   },
   "cell_type": "code",
   "source": "model0result",
   "id": "47ce9b4af10a7931",
   "outputs": [
    {
     "data": {
      "text/plain": [
       "{'model:': 'fashinmnist',\n",
       " 'loss:': 0.4302608370780945,\n",
       " 'accuracy:': 84.94166666666666}"
      ]
     },
     "execution_count": 35,
     "metadata": {},
     "output_type": "execute_result"
    }
   ],
   "execution_count": 35
  },
  {
   "metadata": {},
   "cell_type": "markdown",
   "source": "# <h1>Model 1</h1>",
   "id": "abdc07486e92ddda"
  },
  {
   "metadata": {
    "ExecuteTime": {
     "end_time": "2025-08-18T14:41:37.564001Z",
     "start_time": "2025-08-18T14:41:20.370130Z"
    }
   },
   "cell_type": "code",
   "source": [
    "# Model with added ReLU activation and increased hidden units\n",
    "class FashionMNISTModelImproved(nn.Module):\n",
    "    def __init__(self, input_shape: int, hidden_units: int, output_shape: int):\n",
    "        super().__init__()\n",
    "        self.layer_stack = nn.Sequential(\n",
    "            nn.Flatten(),\n",
    "            nn.Linear(input_shape, hidden_units),\n",
    "            nn.ReLU(),  # Non-linear activation\n",
    "            nn.Linear(hidden_units, hidden_units),  # Added another hidden layer\n",
    "            nn.ReLU(),  # Non-linear activation\n",
    "            nn.Linear(hidden_units, output_shape),  # Output layer\n",
    "        )\n",
    "\n",
    "    def forward(self, x: torch.Tensor):\n",
    "        return self.layer_stack(x)\n",
    "\n",
    "\n",
    "# Initialize model, optimizer, and loss\n",
    "torch.manual_seed(42)\n",
    "model_1 = FashionMNISTModelImproved(\n",
    "    input_shape=28 * 28,\n",
    "    hidden_units=128,  # Increased hidden units\n",
    "    output_shape=len(classnames),\n",
    ").to(device)\n",
    "\n",
    "lossfn = nn.CrossEntropyLoss()  # Loss for classification\n",
    "optimizer = torch.optim.SGD(model_1.parameters(), lr=0.01)  # Reduced learning rate\n",
    "\n",
    "\n",
    "# Train function\n",
    "def train_step(\n",
    "        model: nn.Module,\n",
    "        dataloader: torch.utils.data.DataLoader,\n",
    "        lossfn: nn.Module,\n",
    "        optimizer: torch.optim.Optimizer,\n",
    "        accuracy_fn,\n",
    "        device: torch.device = \"mps\",\n",
    "):\n",
    "    train_loss, train_acc = 0, 0\n",
    "    model.train()\n",
    "    for batch, (images, labels) in enumerate(dataloader):\n",
    "        images, labels = images.to(device), labels.to(device)\n",
    "\n",
    "        # Forward pass\n",
    "        outputs = model(images)\n",
    "        loss = lossfn(outputs, labels)\n",
    "        train_loss += loss.item()\n",
    "        train_acc += accuracy_fn(y_true=labels, y_pred=outputs.argmax(dim=1))\n",
    "\n",
    "        # Backpropagation\n",
    "        optimizer.zero_grad()\n",
    "        loss.backward()\n",
    "        optimizer.step()\n",
    "\n",
    "    train_loss /= len(dataloader)\n",
    "    train_acc /= len(dataloader)\n",
    "    print(f\"Train Loss: {train_loss:.4f}, Train Accuracy: {train_acc:.2f}%\")\n",
    "\n",
    "\n",
    "# Test function\n",
    "def test_step(\n",
    "        model: nn.Module,\n",
    "        dataloader: torch.utils.data.DataLoader,\n",
    "        lossfn: nn.Module,\n",
    "        accuracy_fn,\n",
    "        device: torch.device = \"mps\",\n",
    "):\n",
    "    test_loss, test_acc = 0, 0\n",
    "    model.eval()\n",
    "    with torch.inference_mode():\n",
    "        for images, labels in dataloader:\n",
    "            images, labels = images.to(device), labels.to(device)\n",
    "\n",
    "            outputs = model(images)\n",
    "            loss = lossfn(outputs, labels)\n",
    "            test_loss += loss.item()\n",
    "            test_acc += accuracy_fn(y_true=labels, y_pred=outputs.argmax(dim=1))\n",
    "\n",
    "    test_loss /= len(dataloader)\n",
    "    test_acc /= len(dataloader)\n",
    "    print(f\"Test Loss: {test_loss:.4f}, Test Accuracy: {test_acc :.2f}%\")\n",
    "\n",
    "\n",
    "# Training loop\n",
    "epochs = 3  # Increase epochs for better training\n",
    "for epoch in range(epochs):\n",
    "    print(f\"Epoch {epoch + 1}/{epochs}:\")\n",
    "    train_step(model_1, traindataloader, lossfn, optimizer, accuracy_fn, device=\"mps\")\n",
    "    test_step(model_1, testdataloader, lossfn, accuracy_fn, device=\"mps\")\n",
    "\n"
   ],
   "id": "71497b3190b2d2f6",
   "outputs": [
    {
     "name": "stdout",
     "output_type": "stream",
     "text": [
      "Epoch 1/3:\n",
      "Train Loss: 1.0766, Train Accuracy: 62.59%\n",
      "Test Loss: 0.6692, Test Accuracy: 76.37%\n",
      "Epoch 2/3:\n",
      "Train Loss: 0.5851, Train Accuracy: 79.55%\n",
      "Test Loss: 0.5472, Test Accuracy: 80.69%\n",
      "Epoch 3/3:\n",
      "Train Loss: 0.5020, Train Accuracy: 82.51%\n",
      "Test Loss: 0.4991, Test Accuracy: 82.39%\n"
     ]
    }
   ],
   "execution_count": 36
  },
  {
   "metadata": {
    "ExecuteTime": {
     "end_time": "2025-08-18T14:41:37.584507Z",
     "start_time": "2025-08-18T14:41:37.583110Z"
    }
   },
   "cell_type": "code",
   "source": [
    "# model1results = evalmodel(model_1,testdataloader, lossfn, accuracy_fn, device=\"cpu\")\n",
    "# model1results"
   ],
   "id": "b5ea721f8523274d",
   "outputs": [],
   "execution_count": 37
  },
  {
   "metadata": {},
   "cell_type": "markdown",
   "source": "# Convolutional NN",
   "id": "e021a6a66d5506fe"
  },
  {
   "metadata": {
    "ExecuteTime": {
     "end_time": "2025-08-18T14:41:37.593168Z",
     "start_time": "2025-08-18T14:41:37.590707Z"
    }
   },
   "cell_type": "code",
   "source": [
    "from torch import nn\n",
    "class CNN(nn.Module):\n",
    "    def __init__(self,input_shape, hidden_units, output_shape):\n",
    "        super().__init__()\n",
    "        self.convblock = nn.Sequential(\n",
    "            nn.Conv2d(input_shape, hidden_units, kernel_size=3,stride=1, padding=1),\n",
    "            nn.ReLU(),\n",
    "            nn.Conv2d(hidden_units, hidden_units, kernel_size=3,stride=1, padding=1),\n",
    "            nn.ReLU(),\n",
    "            nn.MaxPool2d(kernel_size=2),\n",
    "        )\n",
    "        self.convblock2 = nn.Sequential(\n",
    "            nn.Conv2d(hidden_units, hidden_units, kernel_size=3,stride=1, padding=1),\n",
    "            nn.ReLU(),\n",
    "            nn.Conv2d(hidden_units, hidden_units, kernel_size=3,stride=1, padding=1),\n",
    "            nn.ReLU(),\n",
    "            nn.MaxPool2d(kernel_size=2),\n",
    "        )\n",
    "        #to flatten the output from above blocks\n",
    "        self.classifier = nn.Sequential(\n",
    "            nn.Flatten(),\n",
    "            nn.Linear(hidden_units*7*7, output_shape) # here mutiplying the number will change when shape changes,so we need to do it many times\n",
    "        )\n",
    "\n",
    "    def forward(self,x):\n",
    "        x = self.convblock(x)\n",
    "        # print(x.shape)\n",
    "        x = self.convblock2(x)\n",
    "        # print(x.shape)\n",
    "        x = self.classifier(x)\n",
    "        # print(x.shape)\n",
    "        return x\n"
   ],
   "id": "ddfa908829e92165",
   "outputs": [],
   "execution_count": 38
  },
  {
   "metadata": {
    "ExecuteTime": {
     "end_time": "2025-08-18T14:41:37.604814Z",
     "start_time": "2025-08-18T14:41:37.597501Z"
    }
   },
   "cell_type": "code",
   "source": [
    "import torch\n",
    "torch.manual_seed(42)\n",
    "\n",
    "cnnmodel1 = CNN(input_shape=1,hidden_units=10,output_shape=len(classnames)).to(device)\n",
    "cnnmodel1"
   ],
   "id": "e02979212c6a3f81",
   "outputs": [
    {
     "data": {
      "text/plain": [
       "CNN(\n",
       "  (convblock): Sequential(\n",
       "    (0): Conv2d(1, 10, kernel_size=(3, 3), stride=(1, 1), padding=(1, 1))\n",
       "    (1): ReLU()\n",
       "    (2): Conv2d(10, 10, kernel_size=(3, 3), stride=(1, 1), padding=(1, 1))\n",
       "    (3): ReLU()\n",
       "    (4): MaxPool2d(kernel_size=2, stride=2, padding=0, dilation=1, ceil_mode=False)\n",
       "  )\n",
       "  (convblock2): Sequential(\n",
       "    (0): Conv2d(10, 10, kernel_size=(3, 3), stride=(1, 1), padding=(1, 1))\n",
       "    (1): ReLU()\n",
       "    (2): Conv2d(10, 10, kernel_size=(3, 3), stride=(1, 1), padding=(1, 1))\n",
       "    (3): ReLU()\n",
       "    (4): MaxPool2d(kernel_size=2, stride=2, padding=0, dilation=1, ceil_mode=False)\n",
       "  )\n",
       "  (classifier): Sequential(\n",
       "    (0): Flatten(start_dim=1, end_dim=-1)\n",
       "    (1): Linear(in_features=490, out_features=10, bias=True)\n",
       "  )\n",
       ")"
      ]
     },
     "execution_count": 39,
     "metadata": {},
     "output_type": "execute_result"
    }
   ],
   "execution_count": 39
  },
  {
   "metadata": {
    "ExecuteTime": {
     "end_time": "2025-08-18T14:41:37.612063Z",
     "start_time": "2025-08-18T14:41:37.610117Z"
    }
   },
   "cell_type": "code",
   "source": "ranimagetensor = torch.randn(size=(1,28,28))",
   "id": "77bc239aab7c837c",
   "outputs": [],
   "execution_count": 40
  },
  {
   "metadata": {
    "ExecuteTime": {
     "end_time": "2025-08-18T14:41:38.086886Z",
     "start_time": "2025-08-18T14:41:37.621548Z"
    }
   },
   "cell_type": "code",
   "source": "cnnmodel1(ranimagetensor.unsqueeze(0).to(device))",
   "id": "934d226570effc67",
   "outputs": [
    {
     "data": {
      "text/plain": [
       "tensor([[ 0.0366, -0.0940,  0.0686, -0.0485,  0.0068,  0.0290,  0.0132,  0.0084,\n",
       "         -0.0030, -0.0185]], device='mps:0', grad_fn=<LinearBackward0>)"
      ]
     },
     "execution_count": 41,
     "metadata": {},
     "output_type": "execute_result"
    }
   ],
   "execution_count": 41
  },
  {
   "metadata": {},
   "cell_type": "markdown",
   "source": "# ----------------",
   "id": "5bfa4c241b5a0430"
  },
  {
   "metadata": {
    "ExecuteTime": {
     "end_time": "2025-08-18T14:41:38.118307Z",
     "start_time": "2025-08-18T14:41:38.111293Z"
    }
   },
   "cell_type": "code",
   "source": [
    "torch.manual_seed(42)\n",
    "\n",
    "images = torch.randn(size=(32,3,64,64))\n",
    "testimage = images[0]"
   ],
   "id": "c9c12f2b7835899c",
   "outputs": [],
   "execution_count": 42
  },
  {
   "metadata": {
    "ExecuteTime": {
     "end_time": "2025-08-18T14:41:38.160507Z",
     "start_time": "2025-08-18T14:41:38.158168Z"
    }
   },
   "cell_type": "code",
   "source": "images.shape,testimage.shape",
   "id": "ec2ffbcf639d3832",
   "outputs": [
    {
     "data": {
      "text/plain": [
       "(torch.Size([32, 3, 64, 64]), torch.Size([3, 64, 64]))"
      ]
     },
     "execution_count": 43,
     "metadata": {},
     "output_type": "execute_result"
    }
   ],
   "execution_count": 43
  },
  {
   "metadata": {
    "ExecuteTime": {
     "end_time": "2025-08-18T14:41:38.187827Z",
     "start_time": "2025-08-18T14:41:38.184647Z"
    }
   },
   "cell_type": "code",
   "source": [
    "convlayer = nn.Conv2d(in_channels=3,out_channels=10,kernel_size=(3,3),stride=1,padding=1)\n",
    "convout = convlayer(testimage.unsqueeze(0))\n",
    "convout.shape"
   ],
   "id": "f12dde54ab1ff8b8",
   "outputs": [
    {
     "data": {
      "text/plain": [
       "torch.Size([1, 10, 64, 64])"
      ]
     },
     "execution_count": 44,
     "metadata": {},
     "output_type": "execute_result"
    }
   ],
   "execution_count": 44
  },
  {
   "metadata": {
    "ExecuteTime": {
     "end_time": "2025-08-18T14:41:38.203093Z",
     "start_time": "2025-08-18T14:41:38.200034Z"
    }
   },
   "cell_type": "code",
   "source": "testimage.shape,testimage.unsqueeze(0).shape",
   "id": "2922f42eab358d49",
   "outputs": [
    {
     "data": {
      "text/plain": [
       "(torch.Size([3, 64, 64]), torch.Size([1, 3, 64, 64]))"
      ]
     },
     "execution_count": 45,
     "metadata": {},
     "output_type": "execute_result"
    }
   ],
   "execution_count": 45
  },
  {
   "metadata": {
    "ExecuteTime": {
     "end_time": "2025-08-18T14:41:38.210936Z",
     "start_time": "2025-08-18T14:41:38.209465Z"
    }
   },
   "cell_type": "code",
   "source": "maxpoollayer = nn.MaxPool2d(kernel_size=4)",
   "id": "5e2c08f69fa2bfb5",
   "outputs": [],
   "execution_count": 46
  },
  {
   "metadata": {
    "ExecuteTime": {
     "end_time": "2025-08-18T14:41:38.222988Z",
     "start_time": "2025-08-18T14:41:38.220637Z"
    }
   },
   "cell_type": "code",
   "source": [
    "testimagethrughconv = convlayer(testimage.unsqueeze(dim=0))\n",
    "testimagethrughconv.shape"
   ],
   "id": "d70e4df4dcf8c29d",
   "outputs": [
    {
     "data": {
      "text/plain": [
       "torch.Size([1, 10, 64, 64])"
      ]
     },
     "execution_count": 47,
     "metadata": {},
     "output_type": "execute_result"
    }
   ],
   "execution_count": 47
  },
  {
   "metadata": {
    "ExecuteTime": {
     "end_time": "2025-08-18T14:41:38.231980Z",
     "start_time": "2025-08-18T14:41:38.229979Z"
    }
   },
   "cell_type": "code",
   "source": [
    "testimagethroughconvandmax = maxpoollayer(testimagethrughconv)\n",
    "testimagethroughconvandmax.shape"
   ],
   "id": "df67a10b0e5a0727",
   "outputs": [
    {
     "data": {
      "text/plain": [
       "torch.Size([1, 10, 16, 16])"
      ]
     },
     "execution_count": 48,
     "metadata": {},
     "output_type": "execute_result"
    }
   ],
   "execution_count": 48
  },
  {
   "metadata": {
    "ExecuteTime": {
     "end_time": "2025-08-18T14:41:38.281909Z",
     "start_time": "2025-08-18T14:41:38.241117Z"
    }
   },
   "cell_type": "code",
   "source": "plt.imshow(image.squeeze(),cmap=\"gray\")",
   "id": "aff194336febc117",
   "outputs": [
    {
     "data": {
      "text/plain": [
       "<matplotlib.image.AxesImage at 0x1489e2210>"
      ]
     },
     "execution_count": 49,
     "metadata": {},
     "output_type": "execute_result"
    },
    {
     "data": {
      "text/plain": [
       "<Figure size 640x480 with 1 Axes>"
      ],
      "image/png": "[encoded data removed]"
     },
     "metadata": {},
     "output_type": "display_data"
    }
   ],
   "execution_count": 49
  },
  {
   "metadata": {},
   "cell_type": "markdown",
   "source": "# ---------------",
   "id": "6fc3795a5633c67a"
  },
  {
   "metadata": {},
   "cell_type": "markdown",
   "source": "loss funtions and optimizer",
   "id": "e60b58934b77534f"
  },
  {
   "metadata": {
    "ExecuteTime": {
     "end_time": "2025-08-18T14:41:38.293872Z",
     "start_time": "2025-08-18T14:41:38.291187Z"
    }
   },
   "cell_type": "code",
   "source": [
    "from helper_functions import accuracy_fn\n",
    "from tqdm.auto import tqdm\n",
    "lossftn = nn.CrossEntropyLoss()\n",
    "optimizer = torch.optim.SGD(cnnmodel1.parameters(), lr=0.01)"
   ],
   "id": "606a7b2b32c9c50",
   "outputs": [],
   "execution_count": 50
  },
  {
   "metadata": {
    "ExecuteTime": {
     "end_time": "2025-08-18T14:42:07.828984Z",
     "start_time": "2025-08-18T14:41:38.298650Z"
    }
   },
   "cell_type": "code",
   "source": [
    "torch.manual_seed(42)\n",
    "torch.mps.manual_seed(42)\n",
    "\n",
    "from timeit import default_timer as timer\n",
    "traintime = timer()\n",
    "\n",
    "epochs = 3\n",
    "for epoch in tqdm(range(epochs)):\n",
    "    trainstep(cnnmodel1,traindataloader,lossfn,optimizer,accuracy_fn,device=device)\n",
    "    teststep(cnnmodel1,testdataloader,lossfn,accuracy_fn,device=device)\n",
    "\n",
    "traintimeend = timer()\n",
    "printtime(traintime,traintimeend,device=device)"
   ],
   "id": "4f4830985c949a55",
   "outputs": [
    {
     "name": "stderr",
     "output_type": "stream",
     "text": [
      "  0%|          | 0/3 [00:00<?, ?it/s]"
     ]
    },
    {
     "name": "stdout",
     "output_type": "stream",
     "text": [
      "looked at batch 0 / 60000 samples \n",
      "\n",
      "looked at batch 12800 / 60000 samples \n",
      "\n",
      "looked at batch 25600 / 60000 samples \n",
      "\n",
      "looked at batch 38400 / 60000 samples \n",
      "\n",
      "looked at batch 51200 / 60000 samples \n",
      "\n",
      "train loss : 1.0378, train acc : 62.33%\n"
     ]
    },
    {
     "name": "stderr",
     "output_type": "stream",
     "text": [
      " 33%|███▎      | 1/3 [00:10<00:21, 10.54s/it]"
     ]
    },
    {
     "name": "stdout",
     "output_type": "stream",
     "text": [
      " test loss : 0.6256 , accuracy : 76.91\n",
      "looked at batch 0 / 60000 samples \n",
      "\n",
      "looked at batch 12800 / 60000 samples \n",
      "\n",
      "looked at batch 25600 / 60000 samples \n",
      "\n",
      "looked at batch 38400 / 60000 samples \n",
      "\n",
      "looked at batch 51200 / 60000 samples \n",
      "\n",
      "train loss : 0.5494, train acc : 80.01%\n"
     ]
    },
    {
     "name": "stderr",
     "output_type": "stream",
     "text": [
      " 67%|██████▋   | 2/3 [00:19<00:09,  9.90s/it]"
     ]
    },
    {
     "name": "stdout",
     "output_type": "stream",
     "text": [
      " test loss : 0.4983 , accuracy : 81.57\n",
      "looked at batch 0 / 60000 samples \n",
      "\n",
      "looked at batch 12800 / 60000 samples \n",
      "\n",
      "looked at batch 25600 / 60000 samples \n",
      "\n",
      "looked at batch 38400 / 60000 samples \n",
      "\n",
      "looked at batch 51200 / 60000 samples \n",
      "\n",
      "train loss : 0.4558, train acc : 83.52%\n"
     ]
    },
    {
     "name": "stderr",
     "output_type": "stream",
     "text": [
      "100%|██████████| 3/3 [00:29<00:00,  9.84s/it]"
     ]
    },
    {
     "name": "stdout",
     "output_type": "stream",
     "text": [
      " test loss : 0.4403 , accuracy : 84.24\n",
      "29.5267\n"
     ]
    },
    {
     "name": "stderr",
     "output_type": "stream",
     "text": [
      "\n"
     ]
    },
    {
     "data": {
      "text/plain": [
       "29.526727542000117"
      ]
     },
     "execution_count": 51,
     "metadata": {},
     "output_type": "execute_result"
    }
   ],
   "execution_count": 51
  },
  {
   "metadata": {},
   "cell_type": "markdown",
   "source": "# EvalGPU",
   "id": "29b05e0da3eedfad"
  },
  {
   "metadata": {
    "ExecuteTime": {
     "end_time": "2025-08-18T14:42:09.103237Z",
     "start_time": "2025-08-18T14:42:07.857844Z"
    }
   },
   "cell_type": "code",
   "source": [
    "torch.manual_seed(42)\n",
    "\n",
    "def evalmodelgpu(model:torch.nn.Module,dataloader: torch.utils.data.DataLoader,lossfn:torch.nn.Module,accuracy_fn,device:torch.device):\n",
    "    loss,acc =0,0\n",
    "    model.eval().to(device)\n",
    "    with torch.inference_mode():\n",
    "        for x,y in tqdm(dataloader):\n",
    "            x,y = x.to(device),y.to(device)\n",
    "            yprediction = model(x).to(device)\n",
    "            loss+= lossfn(yprediction,y)\n",
    "            acc += accuracy_fn(y_true=y,y_pred=yprediction.argmax(dim=1))\n",
    "        loss/=len(dataloader)\n",
    "        acc/=len(dataloader)\n",
    "    return {\"model:\" : model.__class__.__name__,\n",
    "            \"loss:\" : loss.item(),\n",
    "            \"accuracy:\" : acc}\n",
    "\n",
    "modelresult = evalmodel(model_0,traindataloader,lossfn,accuracy_fn,device)\n",
    "modelresult\n"
   ],
   "id": "26914be54747136d",
   "outputs": [
    {
     "name": "stderr",
     "output_type": "stream",
     "text": [
      "100%|██████████| 1875/1875 [00:01<00:00, 1512.82it/s]\n"
     ]
    },
    {
     "data": {
      "text/plain": [
       "{'model:': 'fashinmnist',\n",
       " 'loss:': 0.4302608370780945,\n",
       " 'accuracy:': 84.94166666666666}"
      ]
     },
     "execution_count": 52,
     "metadata": {},
     "output_type": "execute_result"
    }
   ],
   "execution_count": 52
  },
  {
   "metadata": {
    "ExecuteTime": {
     "end_time": "2025-08-18T14:42:09.908266Z",
     "start_time": "2025-08-18T14:42:09.130262Z"
    }
   },
   "cell_type": "code",
   "source": [
    "cnnresult = evalmodelgpu(cnnmodel1,testdataloader,lossfn,accuracy_fn,device=device)\n",
    "cnnresult"
   ],
   "id": "9f91960568025750",
   "outputs": [
    {
     "name": "stderr",
     "output_type": "stream",
     "text": [
      "100%|██████████| 313/313 [00:00<00:00, 404.43it/s]\n"
     ]
    },
    {
     "data": {
      "text/plain": [
       "{'model:': 'CNN', 'loss:': 0.4402695298194885, 'accuracy:': 84.23522364217253}"
      ]
     },
     "execution_count": 53,
     "metadata": {},
     "output_type": "execute_result"
    }
   ],
   "execution_count": 53
  },
  {
   "metadata": {
    "ExecuteTime": {
     "end_time": "2025-08-18T14:42:10.523204Z",
     "start_time": "2025-08-18T14:42:09.939810Z"
    }
   },
   "cell_type": "code",
   "source": [
    "#Ai model_1\n",
    "model_1result = evalmodelgpu(model_1, testdataloader, lossfn, accuracy_fn,device=device)\n",
    "model_1result"
   ],
   "id": "38dc168f8d4a515e",
   "outputs": [
    {
     "name": "stderr",
     "output_type": "stream",
     "text": [
      "100%|██████████| 313/313 [00:00<00:00, 539.89it/s]\n"
     ]
    },
    {
     "data": {
      "text/plain": [
       "{'model:': 'FashionMNISTModelImproved',\n",
       " 'loss:': 0.4990769028663635,\n",
       " 'accuracy:': 82.38817891373802}"
      ]
     },
     "execution_count": 54,
     "metadata": {},
     "output_type": "execute_result"
    }
   ],
   "execution_count": 54
  },
  {
   "metadata": {
    "ExecuteTime": {
     "end_time": "2025-08-18T14:42:10.531122Z",
     "start_time": "2025-08-18T14:42:10.528802Z"
    }
   },
   "cell_type": "code",
   "source": [
    "import pandas as pd\n",
    "compareresults = pd.DataFrame([modelresult,model_1result,cnnresult],columns=[\"model:\",\"loss:\",\"accuracy:\"])"
   ],
   "id": "a3d89b26378b463f",
   "outputs": [],
   "execution_count": 55
  },
  {
   "metadata": {
    "ExecuteTime": {
     "end_time": "2025-08-18T14:42:10.554338Z",
     "start_time": "2025-08-18T14:42:10.548319Z"
    }
   },
   "cell_type": "code",
   "source": "compareresults",
   "id": "901fc3145e9c98bf",
   "outputs": [
    {
     "data": {
      "text/plain": [
       "                      model:     loss:  accuracy:\n",
       "0                fashinmnist  0.430261  84.941667\n",
       "1  FashionMNISTModelImproved  0.499077  82.388179\n",
       "2                        CNN  0.440270  84.235224"
      ],
      "text/html": [
       "<div>\n",
       "<style scoped>\n",
       "    .dataframe tbody tr th:only-of-type {\n",
       "        vertical-align: middle;\n",
       "    }\n",
       "\n",
       "    .dataframe tbody tr th {\n",
       "        vertical-align: top;\n",
       "    }\n",
       "\n",
       "    .dataframe thead th {\n",
       "        text-align: right;\n",
       "    }\n",
       "</style>\n",
       "<table border=\"1\" class=\"dataframe\">\n",
       "  <thead>\n",
       "    <tr style=\"text-align: right;\">\n",
       "      <th></th>\n",
       "      <th>model:</th>\n",
       "      <th>loss:</th>\n",
       "      <th>accuracy:</th>\n",
       "    </tr>\n",
       "  </thead>\n",
       "  <tbody>\n",
       "    <tr>\n",
       "      <th>0</th>\n",
       "      <td>fashinmnist</td>\n",
       "      <td>0.430261</td>\n",
       "      <td>84.941667</td>\n",
       "    </tr>\n",
       "    <tr>\n",
       "      <th>1</th>\n",
       "      <td>FashionMNISTModelImproved</td>\n",
       "      <td>0.499077</td>\n",
       "      <td>82.388179</td>\n",
       "    </tr>\n",
       "    <tr>\n",
       "      <th>2</th>\n",
       "      <td>CNN</td>\n",
       "      <td>0.440270</td>\n",
       "      <td>84.235224</td>\n",
       "    </tr>\n",
       "  </tbody>\n",
       "</table>\n",
       "</div>"
      ]
     },
     "execution_count": 56,
     "metadata": {},
     "output_type": "execute_result"
    }
   ],
   "execution_count": 56
  },
  {
   "metadata": {
    "ExecuteTime": {
     "end_time": "2025-08-18T14:42:10.566646Z",
     "start_time": "2025-08-18T14:42:10.564102Z"
    }
   },
   "cell_type": "code",
   "source": [
    "def makeprediction(model:torch.nn.Module,\n",
    "                   data:list,\n",
    "                   device:torch.device=device):\n",
    "    predprobs = []\n",
    "    model.to(device)\n",
    "    model.eval()\n",
    "    with torch.inference_mode():\n",
    "        for sample in tqdm(data):\n",
    "            sample = torch.unsqueeze(sample,0).to(device)\n",
    "            predlogit = model(sample)\n",
    "            predprob = torch.softmax(predlogit.squeeze(),dim=0)\n",
    "            predprobs.append(predprob)\n",
    "    return torch.stack(predprobs)\n"
   ],
   "id": "b8596e98ee8d2402",
   "outputs": [],
   "execution_count": 57
  },
  {
   "metadata": {
    "ExecuteTime": {
     "end_time": "2025-08-18T14:42:10.830069Z",
     "start_time": "2025-08-18T14:42:10.610971Z"
    }
   },
   "cell_type": "code",
   "source": [
    "import random\n",
    "random.seed(42)\n",
    "testsamples =[]\n",
    "testlabels=[]\n",
    "for sample,label in random.sample(list(testdata),k=9):\n",
    "    testsamples.append(sample)\n",
    "    testlabels.append(label)\n"
   ],
   "id": "43ba431b01480bfe",
   "outputs": [],
   "execution_count": 58
  },
  {
   "metadata": {
    "ExecuteTime": {
     "end_time": "2025-08-18T14:42:10.905365Z",
     "start_time": "2025-08-18T14:42:10.856445Z"
    }
   },
   "cell_type": "code",
   "source": "plt.imshow(testsamples[0].squeeze(),cmap=\"gray\")",
   "id": "6cbe5b0739affec3",
   "outputs": [
    {
     "data": {
      "text/plain": [
       "<matplotlib.image.AxesImage at 0x149554190>"
      ]
     },
     "execution_count": 59,
     "metadata": {},
     "output_type": "execute_result"
    },
    {
     "data": {
      "text/plain": [
       "<Figure size 640x480 with 1 Axes>"
      ],
      "image/png": "[encoded data removed]"
     },
     "metadata": {},
     "output_type": "display_data"
    }
   ],
   "execution_count": 59
  },
  {
   "metadata": {
    "ExecuteTime": {
     "end_time": "2025-08-18T14:42:11.100965Z",
     "start_time": "2025-08-18T14:42:10.931878Z"
    }
   },
   "cell_type": "code",
   "source": [
    "predprobs = makeprediction(cnnmodel1,testsamples)\n",
    "predprobs"
   ],
   "id": "aadecf5e96bff953",
   "outputs": [
    {
     "name": "stderr",
     "output_type": "stream",
     "text": [
      "100%|██████████| 9/9 [00:00<00:00, 101.58it/s]\n"
     ]
    },
    {
     "data": {
      "text/plain": [
       "tensor([[1.3779e-07, 2.5421e-08, 5.3114e-08, 5.1959e-08, 9.6978e-09, 9.6610e-01,\n",
       "         6.9227e-08, 6.7270e-05, 4.4343e-04, 3.3390e-02],\n",
       "        [2.9299e-02, 7.6462e-01, 7.2421e-04, 1.9395e-01, 7.5274e-03, 5.8352e-05,\n",
       "         3.0239e-03, 1.2707e-04, 6.6838e-04, 3.4535e-06],\n",
       "        [1.5853e-06, 1.8182e-07, 1.0032e-06, 3.0328e-06, 2.5963e-07, 5.8972e-03,\n",
       "         2.0194e-06, 6.8210e-01, 3.7146e-03, 3.0828e-01],\n",
       "        [3.3154e-03, 2.6176e-04, 5.1980e-01, 5.5761e-03, 4.5716e-01, 1.5041e-08,\n",
       "         1.3391e-02, 4.3729e-09, 5.0057e-04, 5.4199e-09],\n",
       "        [5.2283e-02, 1.9085e-04, 4.3228e-05, 9.3954e-01, 8.0879e-05, 4.9855e-08,\n",
       "         7.8411e-03, 4.8515e-06, 1.7644e-05, 3.9099e-06],\n",
       "        [7.1946e-01, 1.0525e-03, 1.4726e-03, 9.9870e-03, 1.8036e-03, 2.3621e-08,\n",
       "         2.6618e-01, 3.4567e-08, 4.1212e-05, 2.7013e-08],\n",
       "        [8.5795e-05, 1.4420e-04, 1.0041e-02, 2.5284e-06, 9.7441e-01, 2.3675e-07,\n",
       "         1.5232e-02, 1.1963e-11, 8.3539e-05, 3.0392e-09],\n",
       "        [8.3502e-05, 2.9637e-04, 1.3540e-04, 1.9013e-04, 4.1973e-05, 1.9397e-02,\n",
       "         1.1243e-04, 9.7146e-01, 7.2944e-03, 9.9348e-04],\n",
       "        [2.6084e-05, 9.9808e-01, 6.2768e-07, 1.8809e-03, 1.4707e-05, 1.2956e-07,\n",
       "         2.8482e-07, 4.1510e-08, 5.3953e-07, 8.7969e-09]], device='mps:0')"
      ]
     },
     "execution_count": 60,
     "metadata": {},
     "output_type": "execute_result"
    }
   ],
   "execution_count": 60
  },
  {
   "metadata": {
    "ExecuteTime": {
     "end_time": "2025-08-18T14:42:11.226762Z",
     "start_time": "2025-08-18T14:42:11.218197Z"
    }
   },
   "cell_type": "code",
   "source": [
    "predclasses = predprobs.argmax(dim=1)\n",
    "predclasses"
   ],
   "id": "d7a13aa0cb29dcbb",
   "outputs": [
    {
     "data": {
      "text/plain": [
       "tensor([5, 1, 7, 2, 3, 0, 4, 7, 1], device='mps:0')"
      ]
     },
     "execution_count": 61,
     "metadata": {},
     "output_type": "execute_result"
    }
   ],
   "execution_count": 61
  },
  {
   "metadata": {
    "ExecuteTime": {
     "end_time": "2025-08-18T14:42:11.445715Z",
     "start_time": "2025-08-18T14:42:11.294079Z"
    }
   },
   "cell_type": "code",
   "source": [
    "#plot predictions\n",
    "plt.figure(figsize=(9,9))\n",
    "nrow = 3\n",
    "ncol = 3\n",
    "for i,sample in enumerate(testsamples):\n",
    "    plt.subplot(nrow,ncol,i+1)\n",
    "    plt.imshow(sample.squeeze(),cmap=\"gray\")\n",
    "    predlabel = classnames[predclasses[i]]\n",
    "    truthlable = classnames[testlabels[i]]\n",
    "    titletext = f\"prediction: {predlabel} | truth: {truthlable}\"\n",
    "    if predlabel == truthlable:\n",
    "        plt.title(titletext,fontsize=8,c='g')\n",
    "    else:\n",
    "        plt.title(titletext,fontsize=8,c='r')\n",
    "    plt.axis('off')"
   ],
   "id": "42d9d6c809756494",
   "outputs": [
    {
     "data": {
      "text/plain": [
       "<Figure size 900x900 with 9 Axes>"
      ],
      "image/png": "[encoded data removed]"
     },
     "metadata": {},
     "output_type": "display_data"
    }
   ],
   "execution_count": 62
  },
  {
   "metadata": {},
   "cell_type": "markdown",
   "source": "## confusion matrix",
   "id": "450952e1fa1794b2"
  },
  {
   "metadata": {
    "ExecuteTime": {
     "end_time": "2025-08-18T14:42:11.453923Z",
     "start_time": "2025-08-18T14:42:11.451519Z"
    }
   },
   "cell_type": "code",
   "source": "import mlxtend",
   "id": "27ff35fb75592f2b",
   "outputs": [],
   "execution_count": 63
  },
  {
   "metadata": {
    "ExecuteTime": {
     "end_time": "2025-08-18T14:42:12.080145Z",
     "start_time": "2025-08-18T14:42:11.465357Z"
    }
   },
   "cell_type": "code",
   "source": [
    "ypreds = []\n",
    "cnnmodel1.eval()\n",
    "with torch.inference_mode():\n",
    "    for x,y in tqdm(testdataloader):\n",
    "        x,y = x.to(device),y.to(device)\n",
    "        ylogit = cnnmodel1(x)\n",
    "        ypred = torch.softmax(ylogit, dim=1).argmax(dim=1)\n",
    "        ypreds.append(ypred)\n",
    "ypredtensor = torch.cat(ypreds)\n",
    "print(len(ypreds))\n",
    "print(len(ypredtensor))"
   ],
   "id": "ae379d39ec537c2b",
   "outputs": [
    {
     "name": "stderr",
     "output_type": "stream",
     "text": [
      "100%|██████████| 313/313 [00:00<00:00, 535.74it/s]\n"
     ]
    },
    {
     "name": "stdout",
     "output_type": "stream",
     "text": [
      "313\n",
      "10000\n"
     ]
    }
   ],
   "execution_count": 64
  },
  {
   "metadata": {
    "ExecuteTime": {
     "end_time": "2025-08-18T14:42:15.350860Z",
     "start_time": "2025-08-18T14:42:12.085370Z"
    }
   },
   "cell_type": "code",
   "source": [
    "from torchmetrics import ConfusionMatrix\n",
    "from mlxtend.plotting import plot_confusion_matrix\n",
    "\n",
    "confmat = ConfusionMatrix(num_classes=len(classnames),task=\"multiclass\").to(device)\n",
    "confmattensor = confmat(preds=ypredtensor, target=testdata.targets.to(device)).to(device)\n",
    "\n",
    "fig,ax = plot_confusion_matrix(conf_mat=confmattensor.cpu().numpy(),\n",
    "                               class_names=classnames,\n",
    "                               figsize=(10,7))"
   ],
   "id": "3f843acf3863872c",
   "outputs": [
    {
     "data": {
      "text/plain": [
       "<Figure size 1000x700 with 1 Axes>"
      ],
      "image/png": "[encoded data removed]"
     },
     "metadata": {},
     "output_type": "display_data"
    }
   ],
   "execution_count": 65
  },
  {
   "metadata": {
    "ExecuteTime": {
     "end_time": "2025-08-18T14:43:15.603964Z",
     "start_time": "2025-08-18T14:43:15.575139Z"
    }
   },
   "cell_type": "code",
   "source": "confmattensor",
   "id": "3457405611785b34",
   "outputs": [
    {
     "data": {
      "text/plain": [
       "tensor([[823,   2,   7,  81,   7,   2,  65,   0,  13,   0],\n",
       "        [  5, 939,   2,  46,   5,   1,   0,   0,   2,   0],\n",
       "        [ 18,   3, 636,  18, 188,   1, 130,   0,   6,   0],\n",
       "        [ 23,   7,   3, 902,  25,   0,  37,   0,   3,   0],\n",
       "        [  1,   0,  58,  54, 799,   0,  83,   0,   5,   0],\n",
       "        [  0,   0,   0,   1,   0, 942,   0,  40,   3,  14],\n",
       "        [185,   2,  66,  64, 118,   2, 540,   0,  23,   0],\n",
       "        [  0,   0,   0,   0,   0,  22,   0, 947,   0,  31],\n",
       "        [  5,   2,   6,  10,   3,   4,  17,   4, 949,   0],\n",
       "        [  0,   0,   0,   0,   0,  11,   0,  43,   1, 945]], device='mps:0')"
      ]
     },
     "execution_count": 66,
     "metadata": {},
     "output_type": "execute_result"
    }
   ],
   "execution_count": 66
  },
  {
   "metadata": {
    "ExecuteTime": {
     "end_time": "2025-08-18T14:47:04.260844Z",
     "start_time": "2025-08-18T14:47:04.250331Z"
    }
   },
   "cell_type": "code",
   "source": [
    "from pathlib import Path\n",
    "modelpath = Path(\"model\")\n",
    "modelpath.mkdir(parents=True,exist_ok=True)\n",
    "modelname = \"CNNModel.pth\"\n",
    "modelsavepath = modelpath/modelname\n",
    "\n",
    "torch.save(obj=cnnmodel1.state_dict(),f=modelsavepath)"
   ],
   "id": "229428c61a4fba5e",
   "outputs": [],
   "execution_count": 68
  },
  {
   "metadata": {
    "ExecuteTime": {
     "end_time": "2025-08-18T15:03:18.087873Z",
     "start_time": "2025-08-18T15:03:18.084684Z"
    }
   },
   "cell_type": "code",
   "source": "loadedcnnmodel =CNN(input_shape=1,hidden_units=10,output_shape=len(classnames))",
   "id": "4ec7dcd12b2e44a4",
   "outputs": [],
   "execution_count": 69
  },
  {
   "metadata": {
    "ExecuteTime": {
     "end_time": "2025-08-18T15:03:29.662973Z",
     "start_time": "2025-08-18T15:03:29.650203Z"
    }
   },
   "cell_type": "code",
   "source": "loadedcnnmodel.load_state_dict(torch.load(modelsavepath))",
   "id": "2666fdb060003b0d",
   "outputs": [
    {
     "data": {
      "text/plain": [
       "<All keys matched successfully>"
      ]
     },
     "execution_count": 70,
     "metadata": {},
     "output_type": "execute_result"
    }
   ],
   "execution_count": 70
  },
  {
   "metadata": {
    "ExecuteTime": {
     "end_time": "2025-08-18T15:03:40.089964Z",
     "start_time": "2025-08-18T15:03:40.083783Z"
    }
   },
   "cell_type": "code",
   "source": "loadedcnnmodel.to(device)",
   "id": "f7041cd437d3cb37",
   "outputs": [
    {
     "data": {
      "text/plain": [
       "CNN(\n",
       "  (convblock): Sequential(\n",
       "    (0): Conv2d(1, 10, kernel_size=(3, 3), stride=(1, 1), padding=(1, 1))\n",
       "    (1): ReLU()\n",
       "    (2): Conv2d(10, 10, kernel_size=(3, 3), stride=(1, 1), padding=(1, 1))\n",
       "    (3): ReLU()\n",
       "    (4): MaxPool2d(kernel_size=2, stride=2, padding=0, dilation=1, ceil_mode=False)\n",
       "  )\n",
       "  (convblock2): Sequential(\n",
       "    (0): Conv2d(10, 10, kernel_size=(3, 3), stride=(1, 1), padding=(1, 1))\n",
       "    (1): ReLU()\n",
       "    (2): Conv2d(10, 10, kernel_size=(3, 3), stride=(1, 1), padding=(1, 1))\n",
       "    (3): ReLU()\n",
       "    (4): MaxPool2d(kernel_size=2, stride=2, padding=0, dilation=1, ceil_mode=False)\n",
       "  )\n",
       "  (classifier): Sequential(\n",
       "    (0): Flatten(start_dim=1, end_dim=-1)\n",
       "    (1): Linear(in_features=490, out_features=10, bias=True)\n",
       "  )\n",
       ")"
      ]
     },
     "execution_count": 71,
     "metadata": {},
     "output_type": "execute_result"
    }
   ],
   "execution_count": 71
  },
  {
   "metadata": {
    "ExecuteTime": {
     "end_time": "2025-08-18T15:11:46.651915Z",
     "start_time": "2025-08-18T15:11:45.831823Z"
    }
   },
   "cell_type": "code",
   "source": [
    "from helper_functions import accuracy_fn\n",
    "torch.manual_seed(42)\n",
    "loadedcnnmodelresult = evalmodelgpu(model=loadedcnnmodel,dataloader=testdataloader,lossfn=lossftn,accuracy_fn=accuracy_fn,device=device)"
   ],
   "id": "63ffb76c7fb18a3e",
   "outputs": [
    {
     "name": "stderr",
     "output_type": "stream",
     "text": [
      "100%|██████████| 313/313 [00:00<00:00, 384.68it/s]\n"
     ]
    }
   ],
   "execution_count": 82
  },
  {
   "metadata": {
    "ExecuteTime": {
     "end_time": "2025-08-18T15:11:54.447126Z",
     "start_time": "2025-08-18T15:11:54.444419Z"
    }
   },
   "cell_type": "code",
   "source": "loadedcnnmodelresult",
   "id": "6ae3f1dc2b4c3ecf",
   "outputs": [
    {
     "data": {
      "text/plain": [
       "{'model:': 'CNN', 'loss:': 0.4402695298194885, 'accuracy:': 84.23522364217253}"
      ]
     },
     "execution_count": 83,
     "metadata": {},
     "output_type": "execute_result"
    }
   ],
   "execution_count": 83
  },
  {
   "metadata": {
    "ExecuteTime": {
     "end_time": "2025-08-18T15:24:34.776791Z",
     "start_time": "2025-08-18T15:24:34.772477Z"
    }
   },
   "cell_type": "code",
   "source": [
    "torch.isclose(torch.tensor(cnnresult[\"loss:\"]),\n",
    "              torch.tensor(loadedcnnmodelresult[\"loss:\"]),\n",
    "              atol=1e-02)"
   ],
   "id": "a290259067825f7f",
   "outputs": [
    {
     "data": {
      "text/plain": [
       "tensor(True)"
      ]
     },
     "execution_count": 91,
     "metadata": {},
     "output_type": "execute_result"
    }
   ],
   "execution_count": 91
  },
  {
   "metadata": {},
   "cell_type": "code",
   "outputs": [],
   "execution_count": null,
   "source": "",
   "id": "da7aba07e12cbac3"
  }
 ],
 "metadata": {
  "kernelspec": {
   "display_name": "Python 3",
   "language": "python",
   "name": "python3"
  },
  "language_info": {
   "codemirror_mode": {
    "name": "ipython",
    "version": 2
   },
   "file_extension": ".py",
   "mimetype": "text/x-python",
   "name": "python",
   "nbconvert_exporter": "python",
   "pygments_lexer": "ipython2",
   "version": "2.7.6"
  }
 },
 "nbformat": 4,
 "nbformat_minor": 5
}
