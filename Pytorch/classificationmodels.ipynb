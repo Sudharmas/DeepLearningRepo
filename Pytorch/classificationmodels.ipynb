{
 "cells": [
  {
   "metadata": {
    "collapsed": true
   },
   "cell_type": "code",
   "source": [
    "import sklearn\n",
    "from scipy.ndimage import label\n",
    "from sklearn.datasets import make_circles\n",
    "from sympy import unpolarify\n",
    "from sympy.printing.pytorch import torch\n",
    "\n"
   ],
   "id": "cd79315a416aaad8",
   "outputs": [],
   "execution_count": null
  },
  {
   "metadata": {},
   "cell_type": "code",
   "source": [
    "nsamples = 1000\n",
    "x,y = make_circles(n_samples=nsamples,noise=0.03,random_state=42)\n"
   ],
   "id": "679288936500333a",
   "outputs": [],
   "execution_count": null
  },
  {
   "metadata": {},
   "cell_type": "code",
   "source": "len(x),len(y)",
   "id": "d0d34b51ca2140e5",
   "outputs": [],
   "execution_count": null
  },
  {
   "metadata": {},
   "cell_type": "code",
   "source": "import pandas as pd",
   "id": "f98a25599aea673d",
   "outputs": [],
   "execution_count": null
  },
  {
   "metadata": {},
   "cell_type": "code",
   "source": [
    "circles = pd.DataFrame({'x1':x[:,0],'x2':x[:,1],\"label\":y})\n",
    "circles.head()"
   ],
   "id": "d8687d3e643f7541",
   "outputs": [],
   "execution_count": null
  },
  {
   "metadata": {},
   "cell_type": "code",
   "source": [
    "import matplotlib.pyplot as plt\n",
    "\n",
    "plt.scatter(x=x[:,0],y=x[:,1],c=y,cmap=plt.cm.RdYlBu)"
   ],
   "id": "2b90b9d6be28ed8d",
   "outputs": [],
   "execution_count": null
  },
  {
   "metadata": {},
   "cell_type": "code",
   "source": "x.shape,y.shape",
   "id": "23051a5f22b42627",
   "outputs": [],
   "execution_count": null
  },
  {
   "metadata": {},
   "cell_type": "code",
   "source": [
    "xsample = x[0]\n",
    "ysample = y[0]\n",
    "xsample.shape,ysample.shape"
   ],
   "id": "70201074d6848f2b",
   "outputs": [],
   "execution_count": null
  },
  {
   "metadata": {},
   "cell_type": "code",
   "source": "type(x)",
   "id": "79d848c04bfe3960",
   "outputs": [],
   "execution_count": null
  },
  {
   "metadata": {},
   "cell_type": "code",
   "source": [
    "import torch\n",
    "from torch import nn, inference_mode"
   ],
   "id": "c33da1dc7c0ee5fc",
   "outputs": [],
   "execution_count": null
  },
  {
   "metadata": {},
   "cell_type": "code",
   "source": [
    "x = torch.from_numpy(x).type(torch.float)\n",
    "y=torch.from_numpy(y).type(torch.float)"
   ],
   "id": "b1b8b6a30320bafa",
   "outputs": [],
   "execution_count": null
  },
  {
   "metadata": {},
   "cell_type": "code",
   "source": [
    "type(x)\n",
    "x.shape,y.shape"
   ],
   "id": "fab6d24f90e6c292",
   "outputs": [],
   "execution_count": null
  },
  {
   "metadata": {},
   "cell_type": "code",
   "source": "from sklearn.model_selection import train_test_split",
   "id": "512086cdf86939e5",
   "outputs": [],
   "execution_count": null
  },
  {
   "metadata": {},
   "cell_type": "code",
   "source": "xtrain,xtest,ytrain,ytest = train_test_split(x,y,test_size=0.2,random_state=42)",
   "id": "f262d8ed9fdc4809",
   "outputs": [],
   "execution_count": null
  },
  {
   "metadata": {},
   "cell_type": "code",
   "source": "len(xtrain),len(xtest),len(ytrain),len(ytest)",
   "id": "55cce3c474cb3980",
   "outputs": [],
   "execution_count": null
  },
  {
   "metadata": {},
   "cell_type": "code",
   "source": [
    "#accessing GPU (mps) for training\n",
    "device = \"mps\" if torch.backends.mps.is_available() else \"cpu\"\n",
    "device"
   ],
   "id": "990b5f054f1c803d",
   "outputs": [],
   "execution_count": null
  },
  {
   "metadata": {},
   "cell_type": "markdown",
   "source": [
    "subclass -> `nn.module` ,almost all models in PY ssubclassess `nn.Module` <br>\n",
    "create 2 `nn.Linear` layers that are capable of handling shapes of our data <br>\n",
    "define a `forward()` method that outlines forward pass <br>\n",
    "instantiate our model and send it o target device (mps)"
   ],
   "id": "2946a252ed2145e9"
  },
  {
   "metadata": {},
   "cell_type": "code",
   "source": [
    "class circlemodelv0(nn.Module):\n",
    "    def __init__(self):\n",
    "        super().__init__()\n",
    "        self.layer1 = nn.Linear(in_features=2,out_features=5)\n",
    "        self.layer2 = nn.Linear(in_features=5,out_features=1)\n",
    "\n",
    "    def forward(self,x):\n",
    "        return self.layer2(self.layer1(x))\n",
    "\n",
    "model_0 = circlemodelv0().to(device)\n",
    "model_0\n"
   ],
   "id": "324cce59e8f762d9",
   "outputs": [],
   "execution_count": null
  },
  {
   "metadata": {},
   "cell_type": "code",
   "source": "next(model_0.parameters())",
   "id": "957b8c34ed725c61",
   "outputs": [],
   "execution_count": null
  },
  {
   "metadata": {},
   "cell_type": "code",
   "source": [
    "model_0 = nn.Sequential(nn.Linear(in_features=2,out_features=5),nn.Linear(in_features=5,out_features=1)).to(device)\n",
    "model_0"
   ],
   "id": "c5e5752043d15f9d",
   "outputs": [],
   "execution_count": null
  },
  {
   "metadata": {},
   "cell_type": "code",
   "source": "model_0.state_dict()",
   "id": "52cef69e519ea21f",
   "outputs": [],
   "execution_count": null
  },
  {
   "metadata": {},
   "cell_type": "code",
   "source": "xtest[:10],ytest[:10]",
   "id": "b5c1e6bf620d6677",
   "outputs": [],
   "execution_count": null
  },
  {
   "metadata": {},
   "cell_type": "code",
   "source": "untrainedpred = model_0(xtest.to(device))",
   "id": "8ae34e24862b8afc",
   "outputs": [],
   "execution_count": null
  },
  {
   "metadata": {},
   "cell_type": "code",
   "source": "untrainedpred.shape",
   "id": "c47edaeda26dd8d7",
   "outputs": [],
   "execution_count": null
  },
  {
   "metadata": {},
   "cell_type": "code",
   "source": "lossfn = nn.BCEWithLogitsLoss()",
   "id": "541229f88825f798",
   "outputs": [],
   "execution_count": null
  },
  {
   "metadata": {},
   "cell_type": "code",
   "source": "optimizer = torch.optim.SGD(params=model_0.parameters(), lr=0.1)",
   "id": "889c56bfa2877cff",
   "outputs": [],
   "execution_count": null
  },
  {
   "metadata": {},
   "cell_type": "code",
   "source": [
    "def accuracyfn(ytrue,ypred):\n",
    "    corret = torch.eq(ytrue,ypred).sum().item()\n",
    "    acc = (corret/len(ytrue))*100\n",
    "    return acc"
   ],
   "id": "ba52275dfe75753c",
   "outputs": [],
   "execution_count": null
  },
  {
   "metadata": {},
   "cell_type": "code",
   "source": [
    "model_0.eval()\n",
    "with torch.inference_mode():\n",
    "    ylogits = model_0(xtest.to(device))[:5]\n",
    "ylogits"
   ],
   "id": "88d222d94753ac90",
   "outputs": [],
   "execution_count": null
  },
  {
   "metadata": {},
   "cell_type": "code",
   "source": [
    "#using sigmoid to convert logits into prediction probability\n",
    "ypredprob = torch.sigmoid(ylogits)\n",
    "ypredprob"
   ],
   "id": "79eda1407b5ae9d9",
   "outputs": [],
   "execution_count": null
  },
  {
   "metadata": {},
   "cell_type": "code",
   "source": [
    "#pred prob into tensors\n",
    "ypred = torch.round(ypredprob)\n",
    "ypredlables = torch.round(torch.sigmoid(model_0(xtest.to(device))[:5]))\n",
    "\n",
    "print(torch.eq(ypred.squeeze(),ypredlables.squeeze()))\n",
    "\n",
    "ypred.squeeze()"
   ],
   "id": "b4fbfdd570808109",
   "outputs": [],
   "execution_count": null
  },
  {
   "metadata": {},
   "cell_type": "code",
   "source": "ytest[:5]",
   "id": "200b413a13ae4bee",
   "outputs": [],
   "execution_count": null
  },
  {
   "metadata": {},
   "cell_type": "code",
   "source": [
    "torch.manual_seed(42)\n",
    "torch.mps.manual_seed(42)\n",
    "epochs = 100\n",
    "\n",
    "xtrain,ytrain,xtest,ytest = xtrain.to(device),ytrain.to(device),xtest.to(device),ytest.to(device)\n",
    "\n",
    "for epoch in range(epochs):\n",
    "    #training\n",
    "    model_0.train()\n",
    "    #forward pass\n",
    "    ylogits = model_0(xtrain).squeeze()\n",
    "    ypredprob = torch.sigmoid(ylogits)\n",
    "    ypred = torch.round(ypredprob)\n",
    "    #loss and optimize\n",
    "    loss = lossfn(ylogits,ytrain)#BCEwithloh=gitsloss needs logt=its as input,BCEwloss needs pred prob as inputs\n",
    "    acc = accuracyfn(ytrain,ypred)\n",
    "    optimizer.zero_grad()\n",
    "    #loss backward\n",
    "    loss.backward()\n",
    "    optimizer.step()\n",
    "    #evaluate model ,testing\n",
    "    model_0.eval()\n",
    "    with torch.inference_mode():\n",
    "        testlogits = model_0(xtest).squeeze()\n",
    "        testpredprob = torch.sigmoid(testlogits)\n",
    "        testpred = torch.round(testpredprob)\n",
    "        testloss = lossfn(testlogits,ytest)\n",
    "        testacc = accuracyfn(ytest,testpred)\n",
    "    if epoch % 10 == 0:\n",
    "        print(f'epoch: {epoch}, loss: {loss}, acc: {acc} , testloss: {testloss}, testacc: {testacc}')\n"
   ],
   "id": "8e30a5a0c68f866e",
   "outputs": [],
   "execution_count": null
  },
  {
   "metadata": {},
   "cell_type": "markdown",
   "source": "`plot_decision_boundary`",
   "id": "52bc3ae0055cd2c"
  },
  {
   "metadata": {},
   "cell_type": "code",
   "source": [
    "import requests\n",
    "from pathlib import Path"
   ],
   "id": "3df431e9d6db4990",
   "outputs": [],
   "execution_count": null
  },
  {
   "metadata": {},
   "cell_type": "code",
   "source": [
    "#downloading any required files from net\n",
    "if Path(\"helper_functions.py\").is_file():\n",
    "    print(\"exists\")\n",
    "else:\n",
    "    print(\"downloading\")\n",
    "    request = requests.get(\"https://raw.githubusercontent.com/mrdbourke/pytorch-deep-learning/main/helper_functions.py\")\n",
    "    with open(\"helper_functions.py\",\"wb\") as f:\n",
    "        f.write(request.content)\n",
    "\n",
    "from helper_functions import plot_predictions,plot_decision_boundary"
   ],
   "id": "fbcf5bbb3d5b4a48",
   "outputs": [],
   "execution_count": null
  },
  {
   "metadata": {},
   "cell_type": "code",
   "source": [
    "plt.figure(figsize=(12,6))\n",
    "plt.subplot(1,2,1)\n",
    "plt.title(\"training data\")\n",
    "plot_decision_boundary(model_0,xtrain,ytrain)\n",
    "plt.subplot(1,2,2)\n",
    "plt.title(\"testing data\")\n",
    "plot_decision_boundary(model_0,xtest,ytest)"
   ],
   "id": "c185c7b011b27b60",
   "outputs": [],
   "execution_count": null
  },
  {
   "metadata": {},
   "cell_type": "markdown",
   "source": [
    "# improving the model\n",
    "1. add more layers\n",
    "2. add more hidden units\n",
    "3. fit for longer\n",
    "4. change activation fn\n",
    "5. chnage lr rate\n",
    "6. change loss fn"
   ],
   "id": "9de87a363623d4b0"
  },
  {
   "metadata": {},
   "cell_type": "code",
   "source": "model_0.state_dict()",
   "id": "6a33840aacc2e0a1",
   "outputs": [],
   "execution_count": null
  },
  {
   "metadata": {},
   "cell_type": "code",
   "source": [
    "class circlemodelv1(nn.Module):\n",
    "    def __init__(self):\n",
    "        super().__init__()\n",
    "        self.layer1 = nn.Linear(in_features=2,out_features=10)\n",
    "        self.layer2 = nn.Linear(in_features=10,out_features=10)\n",
    "        self.layer3 = nn.Linear(in_features=10,out_features=1)\n",
    "\n",
    "    def forward(self,x):\n",
    "        z = self.layer1(x)\n",
    "        z = self.layer2(z)\n",
    "        z = self.layer3(z)\n",
    "        return z\n",
    "\n",
    "model_1 = circlemodelv1().to(device)\n",
    "model_1\n",
    "\n"
   ],
   "id": "940642c5ad984aa2",
   "outputs": [],
   "execution_count": null
  },
  {
   "metadata": {},
   "cell_type": "code",
   "source": "model_1.state_dict()",
   "id": "e33a93ad8e2f289a",
   "outputs": [],
   "execution_count": null
  },
  {
   "metadata": {},
   "cell_type": "code",
   "source": [
    "lossfn = nn.BCEWithLogitsLoss()\n",
    "optimizer = torch.optim.SGD(params=model_1.parameters(), lr=0.1)"
   ],
   "id": "438e9713ce816411",
   "outputs": [],
   "execution_count": null
  },
  {
   "metadata": {},
   "cell_type": "code",
   "source": [
    "torch.manual_seed(42)\n",
    "torch.mps.manual_seed(42)\n",
    "\n",
    "epochs = 1000\n",
    "xtrain,ytrain,xtest,ytest = xtrain.to(device),ytrain.to(device),xtest.to(device),ytest.to(device)\n",
    "for epoch in range(epochs):\n",
    "    model_1.train()\n",
    "    ylogits = model_1(xtrain).squeeze()\n",
    "    ypredprob = torch.sigmoid(ylogits)\n",
    "    ypred = torch.round(ypredprob)\n",
    "    loss = lossfn(ylogits,ytrain)\n",
    "    acc = accuracyfn(ytrain,ypred)\n",
    "    optimizer.zero_grad()\n",
    "    loss.backward()\n",
    "    optimizer.step()\n",
    "    model_1.eval()\n",
    "    with torch.inference_mode():\n",
    "        testlogits = model_1(xtest).squeeze()\n",
    "        testpredprob = torch.sigmoid(testlogits)\n",
    "        testpred = torch.round(testpredprob)\n",
    "        testloss = lossfn(testlogits,ytest)\n",
    "        testacc = accuracyfn(ytest,testpred)\n",
    "    if epoch % 10 == 0:\n",
    "        print(f'loss: {loss}, acc: {acc}, testloss: {testloss}, testacc: {testacc:.2f}%')"
   ],
   "id": "58cf1aecaf015196",
   "outputs": [],
   "execution_count": null
  },
  {
   "metadata": {},
   "cell_type": "code",
   "source": [
    "plt.figure(figsize=(12,6))\n",
    "plt.subplot(1,2,1)\n",
    "plt.title(\"training data\")\n",
    "plot_decision_boundary(model_1,xtrain,ytrain)\n",
    "plt.subplot(1,2,2)\n",
    "plt.title(\"testing data\")\n",
    "plot_decision_boundary(model_1,xtest,ytest)"
   ],
   "id": "d4816b2dc61a7627",
   "outputs": [],
   "execution_count": null
  },
  {
   "metadata": {},
   "cell_type": "code",
   "source": [
    "weight = 0.7\n",
    "bias = 0.3\n",
    "\n",
    "start =0\n",
    "end =1\n",
    "step = 0.01\n",
    "\n",
    "xreg = torch.arange(start,end,step).unsqueeze(dim=1)\n",
    "yreg = weight * xreg + bias\n"
   ],
   "id": "512ca3de80a54c8e",
   "outputs": [],
   "execution_count": null
  },
  {
   "metadata": {},
   "cell_type": "code",
   "source": [
    "trainplit = int(0.8 *len(xreg))\n",
    "xtrain,ytrain = xreg[:trainplit],yreg[:trainplit]\n",
    "xtest,ytest = yreg[trainplit:],yreg[trainplit:]\n",
    "len(xtrain),len(xtest),len(ytrain),len(ytest)"
   ],
   "id": "35ae78cd98afd6b9",
   "outputs": [],
   "execution_count": null
  },
  {
   "metadata": {},
   "cell_type": "code",
   "source": "plot_predictions(xtrain,ytrain,xtest,ytest)",
   "id": "9d769b33c81a3d02",
   "outputs": [],
   "execution_count": null
  },
  {
   "metadata": {},
   "cell_type": "code",
   "source": [
    "#adjusting model_1 to fit for straight line\n",
    "model_2 = nn.Sequential(nn.Linear(in_features=1,out_features=10),\n",
    "                        nn.Linear(in_features=10,out_features=10),\n",
    "                        nn.Linear(in_features=10,out_features=1)).to(device)\n",
    "model_2"
   ],
   "id": "5eff6318125d850a",
   "outputs": [],
   "execution_count": null
  },
  {
   "metadata": {},
   "cell_type": "code",
   "source": [
    "lossfn = nn.L1Loss()\n",
    "optimizer = torch.optim.SGD(params=model_2.parameters(), lr=0.01)"
   ],
   "id": "351fe957ed5d1269",
   "outputs": [],
   "execution_count": null
  },
  {
   "metadata": {},
   "cell_type": "code",
   "source": [
    "torch.manual_seed(42)\n",
    "torch.mps.manual_seed(42)\n",
    "epochs = 1000\n",
    "\n",
    "xtrain,ytrain,xtest,ytest = xtrain.to(device),ytrain.to(device),xtest.to(device),ytest.to(device)\n",
    "\n",
    "for epoch in range(epochs):\n",
    "    model_2.train()\n",
    "    ypred = model_2(xtrain)\n",
    "    loss = lossfn(ypred,ytrain)\n",
    "    optimizer.zero_grad()\n",
    "    loss.backward()\n",
    "    optimizer.step()\n",
    "    model_2.eval()\n",
    "    with torch.inference_mode():\n",
    "        testpred = model_2(xtest)\n",
    "        testloss = lossfn(testpred,ytest)\n",
    "    if epoch %100==0:\n",
    "        print(f'loss: {loss}, testloss: {testloss:.2f}%')"
   ],
   "id": "99f6cfa8b7c2d94",
   "outputs": [],
   "execution_count": null
  },
  {
   "metadata": {},
   "cell_type": "code",
   "source": "model_2.state_dict()",
   "id": "5807a1ffbb092d32",
   "outputs": [],
   "execution_count": null
  },
  {
   "metadata": {},
   "cell_type": "code",
   "source": [
    "model_2.eval()\n",
    "with torch.inference_mode():\n",
    "    testpred = model_2(xtest)\n",
    "\n",
    "plot_predictions(xtrain.cpu(),ytrain.cpu(),xtest.cpu(),ytest.cpu(),predictions=testpred.cpu())"
   ],
   "id": "97b03c37776e6fa9",
   "outputs": [],
   "execution_count": null
  },
  {
   "metadata": {},
   "cell_type": "markdown",
   "source": "Non-linearity",
   "id": "8e6bfe5484014049"
  },
  {
   "metadata": {},
   "cell_type": "code",
   "source": [
    "import matplotlib.pyplot as plt\n",
    "from sklearn.datasets import make_circles\n",
    "\n",
    "nsamples = 1000\n",
    "\n",
    "x,y = make_circles(n_samples=nsamples,noise=0.03,random_state=42)\n",
    "plt.scatter(x[:,0],x[:,1], c=y,cmap=plt.cm.RdYlBu)"
   ],
   "id": "1745452b43d1fab9",
   "outputs": [],
   "execution_count": null
  },
  {
   "metadata": {},
   "cell_type": "code",
   "source": [
    "import torch\n",
    "from sklearn.model_selection import train_test_split\n",
    "\n",
    "x =torch.from_numpy(x).type(torch.float)\n",
    "y = torch.from_numpy(y).type(torch.float)\n",
    "\n",
    "xtrain,ytrain,xtest,ytest = train_test_split(x,y,test_size=0.2,random_state=42)"
   ],
   "id": "a0b2fde19b1d3235",
   "outputs": [],
   "execution_count": null
  },
  {
   "metadata": {},
   "cell_type": "code",
   "source": [
    "from torch import nn\n",
    "\n",
    "class circlemodelv2(nn.Module):\n",
    "    def __init__(self):\n",
    "        super().__init__()\n",
    "        self.layer1  = nn.Linear(in_features=2,out_features=10)\n",
    "        self.layer2 = nn.Linear(in_features=10,out_features=10)\n",
    "        self.layer3 = nn.Linear(in_features=10,out_features=1)\n",
    "        self.relu = nn.ReLU() #relu is a activation funtion\n",
    "\n",
    "    def forward(self,x):\n",
    "       return self.layer3(self.relu(self.layer2(self.relu(self.layer1(x)))))\n",
    "\n",
    "model_3 = circlemodelv2().to(device)\n",
    "model_3"
   ],
   "id": "70db4e241ab7df17",
   "outputs": [],
   "execution_count": null
  },
  {
   "metadata": {},
   "cell_type": "code",
   "source": [
    "lossfn = nn.BCEWithLogitsLoss()\n",
    "optimizer = torch.optim.SGD(params=model_3.parameters(), lr=0.1)"
   ],
   "id": "5a5a1dce2c629167",
   "outputs": [],
   "execution_count": null
  },
  {
   "metadata": {},
   "cell_type": "code",
   "source": "ytrain",
   "id": "1246ce128362e59f",
   "outputs": [],
   "execution_count": null
  },
  {
   "metadata": {},
   "cell_type": "code",
   "source": [
    "torch.manual_seed(42)\n",
    "torch.mps.manual_seed(42)\n",
    "\n",
    "epochs = 1000\n",
    "xtrain,ytrain,xtest,ytest = xtrain.to(device),ytrain.to(device),xtest.to(device),ytest.to(device)\n",
    "for epoch in range(epochs):\n",
    "    model_3.train()\n",
    "    y_logits = model_3(xtrain).squeeze()\n",
    "    ypredprob = torch.sigmoid(y_logits)\n",
    "    ypred = torch.round(ypredprob)\n",
    "    loss = lossfn(y_logits,ytrain)\n",
    "    acc = accuracyfn(ytrain,ypred)\n",
    "    optimizer.zero_grad()\n",
    "    loss.backward()\n",
    "    optimizer.step()\n",
    "    model_1.eval()\n",
    "    with torch.inference_mode():\n",
    "        testlogits = model_3(xtest).squeeze()\n",
    "        testpredprob = torch.sigmoid(testlogits)\n",
    "        testpred = torch.round(testpredprob)\n",
    "        testloss = lossfn(testlogits,ytest)\n",
    "        testacc = accuracyfn(ytest,testpred)\n",
    "    if epoch % 10 == 0:\n",
    "        print(f'loss: {loss}, acc: {acc}, testloss: {testloss}, testacc: {testacc:.2f}%')"
   ],
   "id": "f968767f3c8c5501",
   "outputs": [],
   "execution_count": null
  },
  {
   "metadata": {},
   "cell_type": "code",
   "source": [
    "model_3.eval()\n",
    "with torch.inference_mode():\n",
    "    testlogits = model_3(xtest).squeeze()\n",
    "    testpredprob = torch.sigmoid(testlogits)\n",
    "    testpred = torch.round(testpredprob)"
   ],
   "id": "fb008958873ec7ad",
   "outputs": [],
   "execution_count": null
  },
  {
   "metadata": {},
   "cell_type": "code",
   "source": [
    "plt.figure(figsize=(12,6))\n",
    "plt.subplot(1,2,1)\n",
    "plt.title(\"training data\")\n",
    "plot_decision_boundary(model_1,xtrain,ytrain) # linear model\n",
    "plt.subplot(1,2,2)\n",
    "plt.title(\"testing data\")\n",
    "plot_decision_boundary(model_3,xtest,ytest) # non linear modelS"
   ],
   "id": "a75917de99064f86",
   "outputs": [],
   "execution_count": null
  },
  {
   "metadata": {},
   "cell_type": "markdown",
   "source": "replicting non linear activation funtions",
   "id": "c6e86586c1bbc9a1"
  },
  {
   "metadata": {},
   "cell_type": "code",
   "source": [
    "A = torch.arange(-10,10,1,dtype=torch.float)\n",
    "A.dtype"
   ],
   "id": "d0ee8a7e4cad7d1b",
   "outputs": [],
   "execution_count": null
  },
  {
   "metadata": {},
   "cell_type": "code",
   "source": "A",
   "id": "97da0f041f011c18",
   "outputs": [],
   "execution_count": null
  },
  {
   "metadata": {},
   "cell_type": "code",
   "source": "plt.plot(A)",
   "id": "767ae5906caabf15",
   "outputs": [],
   "execution_count": null
  },
  {
   "metadata": {},
   "cell_type": "code",
   "source": "plt.plot(torch.relu(A))",
   "id": "622698edb166ad40",
   "outputs": [],
   "execution_count": null
  },
  {
   "metadata": {},
   "cell_type": "code",
   "source": [
    "def relu(x)->torch.Tensor:\n",
    "    return torch.maximum(torch.tensor(0),x)"
   ],
   "id": "bd6ba755b1a0796b",
   "outputs": [],
   "execution_count": null
  },
  {
   "metadata": {},
   "cell_type": "code",
   "source": "relu(A)",
   "id": "5c20c612570f614",
   "outputs": [],
   "execution_count": null
  },
  {
   "metadata": {},
   "cell_type": "markdown",
   "source": "Multiclasss classification",
   "id": "48aea709486067b4"
  },
  {
   "metadata": {},
   "cell_type": "code",
   "source": [
    "import torch\n",
    "from sklearn.datasets import make_blobs\n",
    "import matplotlib.pyplot as plt\n",
    "from sklearn.model_selection import train_test_split\n",
    "\n",
    "numclass = 4\n",
    "numfeatures = 2\n",
    "randomseed = 42\n",
    "\n",
    "xblob , yblob = make_blobs(n_samples=1000,n_features=numfeatures,random_state=randomseed,centers=numclass,cluster_std=1.5)\n",
    "\n",
    "xblob = torch.from_numpy(xblob).type(torch.float)\n",
    "yblob = torch.from_numpy(yblob).type(torch.float)"
   ],
   "id": "73e48cd550c540a1",
   "outputs": [],
   "execution_count": null
  },
  {
   "metadata": {},
   "cell_type": "code",
   "source": "xblobtrain,xtestblob,yblobtrain,ytestblob = train_test_split(xblob,yblob,test_size=0.2,random_state=42)",
   "id": "ecd2f6eb3c701ebd",
   "outputs": [],
   "execution_count": null
  },
  {
   "metadata": {},
   "cell_type": "code",
   "source": [
    "plt.figure(figsize=(12,6))\n",
    "plt.scatter(xblob[:,0],xblob[:,1],c=yblob,cmap=plt.cm.RdYlBu)"
   ],
   "id": "116fea35ff13b766",
   "outputs": [],
   "execution_count": null
  },
  {
   "metadata": {},
   "cell_type": "code",
   "source": [
    "#multiclass classification model\n",
    "class blobModel(nn.Module):\n",
    "    def __init__(self,input_features,output_features,hidden_units = 8):\n",
    "        super().__init__()\n",
    "        self.linearlayerstack = nn.Sequential(nn.Linear(in_features=input_features,out_features=hidden_units),\n",
    "                                              nn.ReLU(),\n",
    "                                              nn.Linear(in_features=hidden_units,out_features=hidden_units),\n",
    "                                              nn.ReLU(),\n",
    "                                              nn.Linear(in_features=hidden_units,out_features=output_features))\n",
    "    def forward(self,x):\n",
    "        return self.linearlayerstack(x)\n",
    "\n",
    "model_4 = blobModel(2,4,8).to(device)\n",
    "model_4"
   ],
   "id": "f7ff567ac3b929be",
   "outputs": [],
   "execution_count": null
  },
  {
   "metadata": {},
   "cell_type": "code",
   "source": "xtrain.shape,ytrain.shape",
   "id": "c82b73bc5546792",
   "outputs": [],
   "execution_count": null
  },
  {
   "metadata": {},
   "cell_type": "code",
   "source": [
    "lossfuntion = nn.CrossEntropyLoss()\n",
    "optimizer = torch.optim.SGD(params=model_4.parameters(), lr=0.1)"
   ],
   "id": "7e9eaea5f465c893",
   "outputs": [],
   "execution_count": null
  },
  {
   "metadata": {},
   "cell_type": "code",
   "source": [
    "model_4.eval()\n",
    "with torch.inference_mode():\n",
    "    ylogits = model_4(xtestblob.to(device))"
   ],
   "id": "b4c8221ae7724d1d",
   "outputs": [],
   "execution_count": null
  },
  {
   "metadata": {},
   "cell_type": "code",
   "source": "ypredprob = torch.softmax(ylogits,dim=1)",
   "id": "efeb336402e90e12",
   "outputs": [],
   "execution_count": null
  },
  {
   "metadata": {},
   "cell_type": "code",
   "source": [
    "ypred = torch.argmax(ypredprob,dim=1)\n",
    "ypred"
   ],
   "id": "901956cd55adf3ee",
   "outputs": [],
   "execution_count": null
  },
  {
   "metadata": {},
   "cell_type": "code",
   "source": [
    "#training and testing loop for multiclass model\n",
    "torch.manual_seed(42)\n",
    "torch.mps.manual_seed(42)\n",
    "\n",
    "epochs = 100\n",
    "\n",
    "xblobtrain,yblobtrain,xtestblob,ytestblob = xblobtrain.to(device),yblobtrain.to(device),xtestblob.to(device),ytestblob.to(device)\n",
    "\n",
    "for epoch in range(epochs):\n",
    "    model_4.train()\n",
    "    ylogits = model_4(xblobtrain)\n",
    "    ypred = torch.softmax(ylogits,dim=1).argmax(dim=1)\n",
    "    loss = lossfuntion(ylogits,yblobtrain)\n",
    "    acc = accuracyfn(yblobtrain,ypred)\n",
    "    optimizer.zero_grad()\n",
    "    loss.backward()\n",
    "    optimizer.step()\n",
    "    model_4.eval()\n",
    "    with torch.inference_mode():\n",
    "        testlogits = model_4(xtestblob)\n",
    "        testpred = torch.softmax(testlogits,dim=1).argmax(dim=1)\n",
    "        testloss = lossfuntion(testlogits,ytestblob)\n",
    "    if epoch % 10 == 0:\n",
    "        print(f'loss : {loss}, acc: {acc:.2f}% ')"
   ],
   "id": "cd7d968509aa59e2",
   "outputs": [],
   "execution_count": null
  },
  {
   "metadata": {},
   "cell_type": "code",
   "source": [
    "model_4.eval()\n",
    "with torch.inference_mode():\n",
    "    ylogits = model_4(xtestblob)\n",
    "ylogits"
   ],
   "id": "5c6c6ec942884160",
   "outputs": [],
   "execution_count": null
  },
  {
   "metadata": {},
   "cell_type": "code",
   "source": [
    "ypredprod = torch.softmax(ylogits,dim=1)\n",
    "ypred = torch.argmax(ypredprob,dim=1)"
   ],
   "id": "b3dfeb5f435229f4",
   "outputs": [],
   "execution_count": null
  },
  {
   "metadata": {},
   "cell_type": "code",
   "source": "ypred[:10]",
   "id": "df37720c1644d2d7",
   "outputs": [],
   "execution_count": null
  },
  {
   "metadata": {},
   "cell_type": "code",
   "source": [
    "plt.figure(figsize=(12,6))\n",
    "plt.subplot(1,2,1)\n",
    "plt.title(\"training data\")\n",
    "plot_decision_boundary(model_4,xtestblob,ytestblob)\n",
    "plt.subplot(1,2,2)\n",
    "plt.title(\"testing data\")\n",
    "plot_decision_boundary(model_4,xtestblob,ytestblob)"
   ],
   "id": "6bdd4b631fb24f19",
   "outputs": [],
   "execution_count": null
  },
  {
   "metadata": {},
   "cell_type": "code",
   "source": "from torchmetrics import Accuracy\n",
   "id": "1cd7f55655501e9",
   "outputs": [],
   "execution_count": null
  },
  {
   "metadata": {},
   "cell_type": "code",
   "source": [
    "torchmetricacc = Accuracy(task=\"multiclass\",num_classes=numclass).to(device)\n",
    "torchmetricacc(ypred,ytestblob)"
   ],
   "id": "5752a17abbfe9d00",
   "outputs": [],
   "execution_count": null
  },
  {
   "metadata": {},
   "cell_type": "code",
   "source": "",
   "id": "9b688784108e23a4",
   "outputs": [],
   "execution_count": null
  },
  {
   "metadata": {},
   "cell_type": "code",
   "source": "",
   "id": "b4279352d4eedf21",
   "outputs": [],
   "execution_count": null
  },
  {
   "metadata": {},
   "cell_type": "code",
   "source": "",
   "id": "b0edb22493ee083e",
   "outputs": [],
   "execution_count": null
  },
  {
   "metadata": {},
   "cell_type": "code",
   "source": "",
   "id": "2da76b8ba48b5e8c",
   "outputs": [],
   "execution_count": null
  },
  {
   "metadata": {},
   "cell_type": "code",
   "source": "",
   "id": "3500de2aa82f640a",
   "outputs": [],
   "execution_count": null
  },
  {
   "metadata": {},
   "cell_type": "code",
   "source": "",
   "id": "f761328155edf04a",
   "outputs": [],
   "execution_count": null
  },
  {
   "metadata": {},
   "cell_type": "code",
   "source": "",
   "id": "21b0d28f0f7b8b07",
   "outputs": [],
   "execution_count": null
  },
  {
   "metadata": {},
   "cell_type": "code",
   "source": "",
   "id": "6ef7c6c9e6061389",
   "outputs": [],
   "execution_count": null
  },
  {
   "metadata": {},
   "cell_type": "code",
   "source": "",
   "id": "dcd376516bba0e17",
   "outputs": [],
   "execution_count": null
  },
  {
   "metadata": {},
   "cell_type": "code",
   "source": "",
   "id": "8542d4096810c6cf",
   "outputs": [],
   "execution_count": null
  },
  {
   "metadata": {},
   "cell_type": "code",
   "source": "",
   "id": "9cfab828a912cae4",
   "outputs": [],
   "execution_count": null
  },
  {
   "metadata": {},
   "cell_type": "code",
   "source": "",
   "id": "6610edac45c647a3",
   "outputs": [],
   "execution_count": null
  },
  {
   "metadata": {},
   "cell_type": "code",
   "source": "",
   "id": "f4b32a8ff1036ebd",
   "outputs": [],
   "execution_count": null
  }
 ],
 "metadata": {
  "kernelspec": {
   "display_name": "Python 3",
   "language": "python",
   "name": "python3"
  },
  "language_info": {
   "codemirror_mode": {
    "name": "ipython",
    "version": 2
   },
   "file_extension": ".py",
   "mimetype": "text/x-python",
   "name": "python",
   "nbconvert_exporter": "python",
   "pygments_lexer": "ipython2",
   "version": "2.7.6"
  }
 },
 "nbformat": 4,
 "nbformat_minor": 5
}
