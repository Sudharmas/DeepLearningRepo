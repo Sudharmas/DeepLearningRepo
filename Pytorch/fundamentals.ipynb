{
 "cells": [
  {
   "cell_type": "code",
   "id": "initial_id",
   "metadata": {
    "collapsed": true,
    "jupyter": {
     "outputs_hidden": true
    },
    "ExecuteTime": {
     "end_time": "2025-08-15T09:31:51.498406Z",
     "start_time": "2025-08-15T09:31:50.885100Z"
    }
   },
   "source": [
    "import torch\n",
    "from mpmath import arange\n",
    "from torch import dtype\n",
    "\n",
    "print(\"Hello World\")"
   ],
   "outputs": [
    {
     "name": "stdout",
     "output_type": "stream",
     "text": [
      "Hello World\n"
     ]
    }
   ],
   "execution_count": 1
  },
  {
   "cell_type": "code",
   "id": "8aa7275333f4bb24",
   "metadata": {
    "ExecuteTime": {
     "end_time": "2025-08-15T09:31:51.509347Z",
     "start_time": "2025-08-15T09:31:51.507787Z"
    }
   },
   "source": [
    "# pip install --pre torch torchvision torchaudio --extra-index-url https://download.pytorch.org/whl/nightly/cpu"
   ],
   "outputs": [],
   "execution_count": 2
  },
  {
   "cell_type": "code",
   "id": "7090eccc8e96781f",
   "metadata": {
    "ExecuteTime": {
     "end_time": "2025-08-15T09:31:51.606181Z",
     "start_time": "2025-08-15T09:31:51.515530Z"
    }
   },
   "source": [
    "import torch\n",
    "\n",
    "if torch.backends.mps.is_available():\n",
    "    mps_device = torch.device(\"mps\")\n",
    "    x = torch.ones(1, device=mps_device)\n",
    "    print (\"MPS device is available:\", x)\n",
    "else:\n",
    "    print (\"MPS device not found.\")\n",
    "\n"
   ],
   "outputs": [
    {
     "name": "stdout",
     "output_type": "stream",
     "text": [
      "MPS device is available: tensor([1.], device='mps:0')\n"
     ]
    }
   ],
   "execution_count": 3
  },
  {
   "cell_type": "code",
   "id": "71a0e39a8643e849",
   "metadata": {
    "ExecuteTime": {
     "end_time": "2025-08-15T09:31:51.612606Z",
     "start_time": "2025-08-15T09:31:51.610814Z"
    }
   },
   "source": [
    "import torch\n",
    "\n",
    "if torch.backends.mps.is_available():\n",
    "    device = torch.device(\"mps\")\n",
    "    print(\"Using MPS (Metal Performance Shaders) for GPU acceleration\")\n",
    "else:\n",
    "    device = torch.device(\"cpu\")\n",
    "    print(\"MPS not available, falling back to CPU\")"
   ],
   "outputs": [
    {
     "name": "stdout",
     "output_type": "stream",
     "text": [
      "Using MPS (Metal Performance Shaders) for GPU acceleration\n"
     ]
    }
   ],
   "execution_count": 4
  },
  {
   "cell_type": "code",
   "id": "f41a3775b453292b",
   "metadata": {
    "ExecuteTime": {
     "end_time": "2025-08-15T09:31:51.632013Z",
     "start_time": "2025-08-15T09:31:51.620955Z"
    }
   },
   "source": [
    "import torch\n",
    "import time\n",
    "\n",
    "def check_pytorch_device():\n",
    "    \"\"\"\n",
    "    Checks if PyTorch is configured to use the GPU (MPS) or CPU,\n",
    "    and performs a simple tensor operation to demonstrate.\n",
    "    \"\"\"\n",
    "\n",
    "    # 1. Determine the device to use\n",
    "    if torch.backends.mps.is_available():\n",
    "        device = torch.device(\"mps\")\n",
    "        print(\"MPS (Metal Performance Shaders) backend is available.\")\n",
    "        print(\"Using GPU for computations.\")\n",
    "    else:\n",
    "        device = torch.device(\"cpu\")\n",
    "        print(\"MPS backend not available.\")\n",
    "        print(\"Using CPU for computations.\")\n",
    "\n",
    "    # 2. Perform a sample tensor operation on the chosen device\n",
    "    try:\n",
    "        # Create tensors on the determined device\n",
    "        tensor_a = torch.randn(1000, 1000, device=device)\n",
    "        tensor_b = torch.randn(1000, 1000, device=device)\n",
    "\n",
    "        # Perform a matrix multiplication\n",
    "        start_time = time.time()\n",
    "        result = torch.matmul(tensor_a, tensor_b)\n",
    "        end_time = time.time()\n",
    "\n",
    "        print(f\"\\nPerformed a 1000x1000 matrix multiplication on {device.type}.\")\n",
    "        print(f\"Time taken: {end_time - start_time:.4f} seconds.\")\n",
    "        print(f\"Result device: {result.device}\")\n",
    "\n",
    "        # You can add more complex operations here to test further\n",
    "        # For example, create a simple neural network and run a forward pass\n",
    "\n",
    "    except RuntimeError as e:\n",
    "        print(f\"\\nAn error occurred during tensor operations: {e}\")\n",
    "        print(\"This might indicate issues with your PyTorch/MPS setup.\")\n",
    "        print(\"Double-check your PyTorch installation and environment configuration.\")\n",
    "\n",
    "if __name__ == \"__main__\":\n",
    "    check_pytorch_device()\n",
    "\n"
   ],
   "outputs": [
    {
     "name": "stdout",
     "output_type": "stream",
     "text": [
      "MPS (Metal Performance Shaders) backend is available.\n",
      "Using GPU for computations.\n",
      "\n",
      "Performed a 1000x1000 matrix multiplication on mps.\n",
      "Time taken: 0.0045 seconds.\n",
      "Result device: mps:0\n"
     ]
    }
   ],
   "execution_count": 5
  },
  {
   "cell_type": "code",
   "id": "91b07c5e40c2dd36",
   "metadata": {
    "ExecuteTime": {
     "end_time": "2025-08-15T09:31:51.638768Z",
     "start_time": "2025-08-15T09:31:51.636071Z"
    }
   },
   "source": [
    "import torch\n",
    "if torch.backends.mps.is_available():\n",
    "    device = torch.device(\"mps\")\n",
    "    print(\"Using MPS (Metal Performance Shaders) backend.\")\n",
    "# Allocate some tensors to demonstrate memory usage\n",
    "    x = torch.randn(1000, 1000, device=device)\n",
    "    y = torch.randn(1000, 1000, device=device)\n",
    "    print(f\"Current allocated memory: {torch.mps.driver_allocated_memory() / (10242):.2f} MB\")\n",
    "    print(f\"Current reserved memory: {torch.mps.current_allocated_memory() / (10242):.2f} MB\")\n",
    "else:\n",
    "    print(\"MPS backend not available.\")"
   ],
   "outputs": [
    {
     "name": "stdout",
     "output_type": "stream",
     "text": [
      "Using MPS (Metal Performance Shaders) backend.\n",
      "Current allocated memory: 5160.59 MB\n",
      "Current reserved memory: 781.10 MB\n"
     ]
    }
   ],
   "execution_count": 6
  },
  {
   "cell_type": "code",
   "id": "3b4bffce89027c3",
   "metadata": {
    "ExecuteTime": {
     "end_time": "2025-08-15T09:31:51.649779Z",
     "start_time": "2025-08-15T09:31:51.648493Z"
    }
   },
   "source": [],
   "outputs": [],
   "execution_count": null
  },
  {
   "cell_type": "code",
   "id": "898acde0627cfa3b",
   "metadata": {
    "ExecuteTime": {
     "end_time": "2025-08-15T09:31:51.660654Z",
     "start_time": "2025-08-15T09:31:51.658943Z"
    }
   },
   "source": [
    "print(torch.__version__)"
   ],
   "outputs": [
    {
     "name": "stdout",
     "output_type": "stream",
     "text": [
      "2.9.0.dev20250813\n"
     ]
    }
   ],
   "execution_count": 7
  },
  {
   "cell_type": "code",
   "id": "98be06bc0ab082cb",
   "metadata": {
    "ExecuteTime": {
     "end_time": "2025-08-15T09:31:51.674701Z",
     "start_time": "2025-08-15T09:31:51.671360Z"
    }
   },
   "source": [
    "scalar = torch.tensor(7)\n",
    "scalar"
   ],
   "outputs": [
    {
     "data": {
      "text/plain": [
       "tensor(7)"
      ]
     },
     "execution_count": 8,
     "metadata": {},
     "output_type": "execute_result"
    }
   ],
   "execution_count": 8
  },
  {
   "cell_type": "code",
   "id": "2ddbaf49374c0ef9",
   "metadata": {
    "ExecuteTime": {
     "end_time": "2025-08-15T09:31:51.685152Z",
     "start_time": "2025-08-15T09:31:51.682916Z"
    }
   },
   "source": [
    "scalar.ndim"
   ],
   "outputs": [
    {
     "data": {
      "text/plain": [
       "0"
      ]
     },
     "execution_count": 9,
     "metadata": {},
     "output_type": "execute_result"
    }
   ],
   "execution_count": 9
  },
  {
   "cell_type": "code",
   "id": "3fa5c16c97cd66c5",
   "metadata": {
    "ExecuteTime": {
     "end_time": "2025-08-15T09:31:51.695352Z",
     "start_time": "2025-08-15T09:31:51.692829Z"
    }
   },
   "source": [
    "vector = torch.tensor([1, 2, 3])\n",
    "vector"
   ],
   "outputs": [
    {
     "data": {
      "text/plain": [
       "tensor([1, 2, 3])"
      ]
     },
     "execution_count": 10,
     "metadata": {},
     "output_type": "execute_result"
    }
   ],
   "execution_count": 10
  },
  {
   "cell_type": "code",
   "id": "6bc91168a76cec82",
   "metadata": {
    "ExecuteTime": {
     "end_time": "2025-08-15T09:31:51.705462Z",
     "start_time": "2025-08-15T09:31:51.703124Z"
    }
   },
   "source": [
    "vector.shape"
   ],
   "outputs": [
    {
     "data": {
      "text/plain": [
       "torch.Size([3])"
      ]
     },
     "execution_count": 11,
     "metadata": {},
     "output_type": "execute_result"
    }
   ],
   "execution_count": 11
  },
  {
   "cell_type": "code",
   "id": "fb172a980e1ecea9",
   "metadata": {
    "ExecuteTime": {
     "end_time": "2025-08-15T09:31:51.715112Z",
     "start_time": "2025-08-15T09:31:51.712540Z"
    }
   },
   "source": [
    "matrix = torch.tensor([[1, 2, 3], [4, 5, 6]])\n",
    "matrix"
   ],
   "outputs": [
    {
     "data": {
      "text/plain": [
       "tensor([[1, 2, 3],\n",
       "        [4, 5, 6]])"
      ]
     },
     "execution_count": 12,
     "metadata": {},
     "output_type": "execute_result"
    }
   ],
   "execution_count": 12
  },
  {
   "cell_type": "code",
   "id": "5ca768fcaa7bcbff",
   "metadata": {
    "ExecuteTime": {
     "end_time": "2025-08-15T09:31:51.749448Z",
     "start_time": "2025-08-15T09:31:51.747095Z"
    }
   },
   "source": [
    "matrix.shape"
   ],
   "outputs": [
    {
     "data": {
      "text/plain": [
       "torch.Size([2, 3])"
      ]
     },
     "execution_count": 13,
     "metadata": {},
     "output_type": "execute_result"
    }
   ],
   "execution_count": 13
  },
  {
   "cell_type": "code",
   "id": "4b2806afc541b2df",
   "metadata": {
    "ExecuteTime": {
     "end_time": "2025-08-15T09:31:51.791491Z",
     "start_time": "2025-08-15T09:31:51.788460Z"
    }
   },
   "source": [
    "tensors = torch.tensor([[[1, 2, 3], [4, 5, 6], [7, 8, 9]]])\n",
    "tensors"
   ],
   "outputs": [
    {
     "data": {
      "text/plain": [
       "tensor([[[1, 2, 3],\n",
       "         [4, 5, 6],\n",
       "         [7, 8, 9]]])"
      ]
     },
     "execution_count": 14,
     "metadata": {},
     "output_type": "execute_result"
    }
   ],
   "execution_count": 14
  },
  {
   "cell_type": "code",
   "id": "366d67ab28d4c1",
   "metadata": {
    "ExecuteTime": {
     "end_time": "2025-08-15T09:31:51.810702Z",
     "start_time": "2025-08-15T09:31:51.808570Z"
    }
   },
   "source": [
    "tensors.shape"
   ],
   "outputs": [
    {
     "data": {
      "text/plain": [
       "torch.Size([1, 3, 3])"
      ]
     },
     "execution_count": 15,
     "metadata": {},
     "output_type": "execute_result"
    }
   ],
   "execution_count": 15
  },
  {
   "cell_type": "code",
   "id": "3ea4f11e5ee2ad9",
   "metadata": {
    "ExecuteTime": {
     "end_time": "2025-08-15T09:31:51.822211Z",
     "start_time": "2025-08-15T09:31:51.819784Z"
    }
   },
   "source": [
    "tensors.ndim"
   ],
   "outputs": [
    {
     "data": {
      "text/plain": [
       "3"
      ]
     },
     "execution_count": 16,
     "metadata": {},
     "output_type": "execute_result"
    }
   ],
   "execution_count": 16
  },
  {
   "cell_type": "code",
   "id": "b23c12025e2f8319",
   "metadata": {
    "ExecuteTime": {
     "end_time": "2025-08-15T09:31:51.833303Z",
     "start_time": "2025-08-15T09:31:51.830779Z"
    }
   },
   "source": [
    "tensors = torch.tensor([[[1,2,3],[4,5,6]],[[7,8,9],[10,11,12]],[[13,14,15],[16,17,18]]])\n",
    "tensors"
   ],
   "outputs": [
    {
     "data": {
      "text/plain": [
       "tensor([[[ 1,  2,  3],\n",
       "         [ 4,  5,  6]],\n",
       "\n",
       "        [[ 7,  8,  9],\n",
       "         [10, 11, 12]],\n",
       "\n",
       "        [[13, 14, 15],\n",
       "         [16, 17, 18]]])"
      ]
     },
     "execution_count": 17,
     "metadata": {},
     "output_type": "execute_result"
    }
   ],
   "execution_count": 17
  },
  {
   "cell_type": "code",
   "id": "fb8217f064f0af44",
   "metadata": {
    "ExecuteTime": {
     "end_time": "2025-08-15T09:31:51.844635Z",
     "start_time": "2025-08-15T09:31:51.842594Z"
    }
   },
   "source": [
    "tensors.shape,tensors.ndim"
   ],
   "outputs": [
    {
     "data": {
      "text/plain": [
       "(torch.Size([3, 2, 3]), 3)"
      ]
     },
     "execution_count": 18,
     "metadata": {},
     "output_type": "execute_result"
    }
   ],
   "execution_count": 18
  },
  {
   "cell_type": "code",
   "id": "4a6ab63b1e21b2d3",
   "metadata": {
    "ExecuteTime": {
     "end_time": "2025-08-15T09:31:51.854506Z",
     "start_time": "2025-08-15T09:31:51.852681Z"
    }
   },
   "source": "random_temsor = torch.randn(3,4)",
   "outputs": [],
   "execution_count": 19
  },
  {
   "metadata": {
    "ExecuteTime": {
     "end_time": "2025-08-15T09:31:51.863107Z",
     "start_time": "2025-08-15T09:31:51.859921Z"
    }
   },
   "cell_type": "code",
   "source": "random_temsor",
   "id": "c4097b7e3e415be8",
   "outputs": [
    {
     "data": {
      "text/plain": [
       "tensor([[ 0.0134, -0.7032,  0.7596,  0.4736],\n",
       "        [-0.3888,  1.3041, -0.1236,  0.0691],\n",
       "        [-0.2939,  0.9703, -0.5888, -2.2722]])"
      ]
     },
     "execution_count": 20,
     "metadata": {},
     "output_type": "execute_result"
    }
   ],
   "execution_count": 20
  },
  {
   "metadata": {
    "ExecuteTime": {
     "end_time": "2025-08-15T09:31:51.890428Z",
     "start_time": "2025-08-15T09:31:51.888058Z"
    }
   },
   "cell_type": "code",
   "source": [
    "zeros =torch.zeros(3,4)\n",
    "zeros"
   ],
   "id": "72f4d1702aa205be",
   "outputs": [
    {
     "data": {
      "text/plain": [
       "tensor([[0., 0., 0., 0.],\n",
       "        [0., 0., 0., 0.],\n",
       "        [0., 0., 0., 0.]])"
      ]
     },
     "execution_count": 21,
     "metadata": {},
     "output_type": "execute_result"
    }
   ],
   "execution_count": 21
  },
  {
   "metadata": {
    "ExecuteTime": {
     "end_time": "2025-08-15T09:31:51.970368Z",
     "start_time": "2025-08-15T09:31:51.967382Z"
    }
   },
   "cell_type": "code",
   "source": [
    "ones =torch.ones(3,4)\n",
    "ones"
   ],
   "id": "8979ac47be321a56",
   "outputs": [
    {
     "data": {
      "text/plain": [
       "tensor([[1., 1., 1., 1.],\n",
       "        [1., 1., 1., 1.],\n",
       "        [1., 1., 1., 1.]])"
      ]
     },
     "execution_count": 22,
     "metadata": {},
     "output_type": "execute_result"
    }
   ],
   "execution_count": 22
  },
  {
   "metadata": {
    "ExecuteTime": {
     "end_time": "2025-08-15T09:31:52.012093Z",
     "start_time": "2025-08-15T09:31:52.009071Z"
    }
   },
   "cell_type": "code",
   "source": "torch.arange(0,10)",
   "id": "3afbbd83170d6cff",
   "outputs": [
    {
     "data": {
      "text/plain": [
       "tensor([0, 1, 2, 3, 4, 5, 6, 7, 8, 9])"
      ]
     },
     "execution_count": 23,
     "metadata": {},
     "output_type": "execute_result"
    }
   ],
   "execution_count": 23
  },
  {
   "metadata": {
    "ExecuteTime": {
     "end_time": "2025-08-15T09:31:52.054987Z",
     "start_time": "2025-08-15T09:31:52.053418Z"
    }
   },
   "cell_type": "code",
   "source": "",
   "id": "a32415701ccde1bd",
   "outputs": [],
   "execution_count": null
  },
  {
   "metadata": {
    "ExecuteTime": {
     "end_time": "2025-08-15T09:31:52.078684Z",
     "start_time": "2025-08-15T09:31:52.075307Z"
    }
   },
   "cell_type": "code",
   "source": [
    "onetoten = torch.arange(start=1,end=11,step=1)\n",
    "onetoten"
   ],
   "id": "f2f900f86ca676de",
   "outputs": [
    {
     "data": {
      "text/plain": [
       "tensor([ 1,  2,  3,  4,  5,  6,  7,  8,  9, 10])"
      ]
     },
     "execution_count": 24,
     "metadata": {},
     "output_type": "execute_result"
    }
   ],
   "execution_count": 24
  },
  {
   "metadata": {
    "ExecuteTime": {
     "end_time": "2025-08-15T09:31:52.091806Z",
     "start_time": "2025-08-15T09:31:52.089138Z"
    }
   },
   "cell_type": "code",
   "source": [
    "zeroes = torch.zeros_like(input=onetoten)\n",
    "zeroes"
   ],
   "id": "7611945cee03eb2f",
   "outputs": [
    {
     "data": {
      "text/plain": [
       "tensor([0, 0, 0, 0, 0, 0, 0, 0, 0, 0])"
      ]
     },
     "execution_count": 25,
     "metadata": {},
     "output_type": "execute_result"
    }
   ],
   "execution_count": 25
  },
  {
   "metadata": {
    "ExecuteTime": {
     "end_time": "2025-08-15T09:31:52.101537Z",
     "start_time": "2025-08-15T09:31:52.099229Z"
    }
   },
   "cell_type": "code",
   "source": [
    "float32 = torch.tensor([1.0,2.0,3.0],dtype=None,device=None,requires_grad=False)\n",
    "float32.dtype\n",
    "# even dtype is given ,default is float"
   ],
   "id": "89ca4efca4e70f78",
   "outputs": [
    {
     "data": {
      "text/plain": [
       "torch.float32"
      ]
     },
     "execution_count": 26,
     "metadata": {},
     "output_type": "execute_result"
    }
   ],
   "execution_count": 26
  },
  {
   "metadata": {
    "ExecuteTime": {
     "end_time": "2025-08-15T09:31:52.113189Z",
     "start_time": "2025-08-15T09:31:52.111180Z"
    }
   },
   "cell_type": "code",
   "source": "print(f\"{float32.device}\")",
   "id": "aed583ef2330d64d",
   "outputs": [
    {
     "name": "stdout",
     "output_type": "stream",
     "text": [
      "cpu\n"
     ]
    }
   ],
   "execution_count": 27
  },
  {
   "metadata": {
    "ExecuteTime": {
     "end_time": "2025-08-15T09:31:52.122040Z",
     "start_time": "2025-08-15T09:31:52.120111Z"
    }
   },
   "cell_type": "code",
   "source": "tensor = torch.tensor([1,2,3])",
   "id": "525f7bac418dcb7d",
   "outputs": [],
   "execution_count": 28
  },
  {
   "metadata": {
    "ExecuteTime": {
     "end_time": "2025-08-15T09:31:52.134892Z",
     "start_time": "2025-08-15T09:31:52.131893Z"
    }
   },
   "cell_type": "code",
   "source": "tensor+10",
   "id": "21f772d9a763cfcc",
   "outputs": [
    {
     "data": {
      "text/plain": [
       "tensor([11, 12, 13])"
      ]
     },
     "execution_count": 29,
     "metadata": {},
     "output_type": "execute_result"
    }
   ],
   "execution_count": 29
  },
  {
   "metadata": {
    "ExecuteTime": {
     "end_time": "2025-08-15T09:31:52.145793Z",
     "start_time": "2025-08-15T09:31:52.143511Z"
    }
   },
   "cell_type": "code",
   "source": "tensor*10",
   "id": "d02a865c2be81e85",
   "outputs": [
    {
     "data": {
      "text/plain": [
       "tensor([10, 20, 30])"
      ]
     },
     "execution_count": 30,
     "metadata": {},
     "output_type": "execute_result"
    }
   ],
   "execution_count": 30
  },
  {
   "metadata": {
    "ExecuteTime": {
     "end_time": "2025-08-15T09:31:52.158185Z",
     "start_time": "2025-08-15T09:31:52.155730Z"
    }
   },
   "cell_type": "code",
   "source": "tensor-10",
   "id": "b684fd1c1fea2e54",
   "outputs": [
    {
     "data": {
      "text/plain": [
       "tensor([-9, -8, -7])"
      ]
     },
     "execution_count": 31,
     "metadata": {},
     "output_type": "execute_result"
    }
   ],
   "execution_count": 31
  },
  {
   "metadata": {
    "ExecuteTime": {
     "end_time": "2025-08-15T09:31:52.167109Z",
     "start_time": "2025-08-15T09:31:52.165084Z"
    }
   },
   "cell_type": "code",
   "source": [
    "#inbuilt functions\n",
    "torch.mul(tensor,10)"
   ],
   "id": "126267d1d02518d9",
   "outputs": [
    {
     "data": {
      "text/plain": [
       "tensor([10, 20, 30])"
      ]
     },
     "execution_count": 32,
     "metadata": {},
     "output_type": "execute_result"
    }
   ],
   "execution_count": 32
  },
  {
   "metadata": {
    "ExecuteTime": {
     "end_time": "2025-08-15T09:31:52.176322Z",
     "start_time": "2025-08-15T09:31:52.174263Z"
    }
   },
   "cell_type": "code",
   "source": "torch.add(tensor,10)",
   "id": "4d3d0ae35a58710a",
   "outputs": [
    {
     "data": {
      "text/plain": [
       "tensor([11, 12, 13])"
      ]
     },
     "execution_count": 33,
     "metadata": {},
     "output_type": "execute_result"
    }
   ],
   "execution_count": 33
  },
  {
   "metadata": {
    "ExecuteTime": {
     "end_time": "2025-08-15T09:31:52.186646Z",
     "start_time": "2025-08-15T09:31:52.184474Z"
    }
   },
   "cell_type": "code",
   "source": "torch.sub(tensor,10)",
   "id": "9662e59d0407e3a",
   "outputs": [
    {
     "data": {
      "text/plain": [
       "tensor([-9, -8, -7])"
      ]
     },
     "execution_count": 34,
     "metadata": {},
     "output_type": "execute_result"
    }
   ],
   "execution_count": 34
  },
  {
   "metadata": {
    "ExecuteTime": {
     "end_time": "2025-08-15T09:31:52.198015Z",
     "start_time": "2025-08-15T09:31:52.195446Z"
    }
   },
   "cell_type": "code",
   "source": "torch.pow(tensor,2)",
   "id": "c345c20fc343aad8",
   "outputs": [
    {
     "data": {
      "text/plain": [
       "tensor([1, 4, 9])"
      ]
     },
     "execution_count": 35,
     "metadata": {},
     "output_type": "execute_result"
    }
   ],
   "execution_count": 35
  },
  {
   "metadata": {
    "ExecuteTime": {
     "end_time": "2025-08-15T09:31:52.207637Z",
     "start_time": "2025-08-15T09:31:52.205204Z"
    }
   },
   "cell_type": "code",
   "source": [
    "#marix multiplication,dot product of matrixes (@)\n",
    "torch.matmul(tensor,tensor)"
   ],
   "id": "7eb2ca89efea7c1",
   "outputs": [
    {
     "data": {
      "text/plain": [
       "tensor(14)"
      ]
     },
     "execution_count": 36,
     "metadata": {},
     "output_type": "execute_result"
    }
   ],
   "execution_count": 36
  },
  {
   "metadata": {
    "ExecuteTime": {
     "end_time": "2025-08-15T09:31:52.217381Z",
     "start_time": "2025-08-15T09:31:52.214966Z"
    }
   },
   "cell_type": "code",
   "source": "tensor@tensor",
   "id": "32d343d6883bd06e",
   "outputs": [
    {
     "data": {
      "text/plain": [
       "tensor(14)"
      ]
     },
     "execution_count": 37,
     "metadata": {},
     "output_type": "execute_result"
    }
   ],
   "execution_count": 37
  },
  {
   "metadata": {
    "ExecuteTime": {
     "end_time": "2025-08-15T09:31:52.226060Z",
     "start_time": "2025-08-15T09:31:52.223884Z"
    }
   },
   "cell_type": "code",
   "source": [
    "x = torch.arange(0,100,10)\n",
    "x.dtype"
   ],
   "id": "37ab0fc5cd28d82f",
   "outputs": [
    {
     "data": {
      "text/plain": [
       "torch.int64"
      ]
     },
     "execution_count": 38,
     "metadata": {},
     "output_type": "execute_result"
    }
   ],
   "execution_count": 38
  },
  {
   "metadata": {
    "ExecuteTime": {
     "end_time": "2025-08-15T09:31:52.236610Z",
     "start_time": "2025-08-15T09:31:52.234331Z"
    }
   },
   "cell_type": "code",
   "source": "torch.min(x)",
   "id": "e77629c4aae1a1b",
   "outputs": [
    {
     "data": {
      "text/plain": [
       "tensor(0)"
      ]
     },
     "execution_count": 39,
     "metadata": {},
     "output_type": "execute_result"
    }
   ],
   "execution_count": 39
  },
  {
   "metadata": {
    "ExecuteTime": {
     "end_time": "2025-08-15T09:31:52.247109Z",
     "start_time": "2025-08-15T09:31:52.244655Z"
    }
   },
   "cell_type": "code",
   "source": "torch.max(x)",
   "id": "4a8b6164f2841bb1",
   "outputs": [
    {
     "data": {
      "text/plain": [
       "tensor(90)"
      ]
     },
     "execution_count": 40,
     "metadata": {},
     "output_type": "execute_result"
    }
   ],
   "execution_count": 40
  },
  {
   "metadata": {
    "ExecuteTime": {
     "end_time": "2025-08-15T09:31:52.257710Z",
     "start_time": "2025-08-15T09:31:52.255323Z"
    }
   },
   "cell_type": "code",
   "source": [
    "torch.mean(x.type(torch.float32))\n",
    "#this may give datatype erroe bcz x is int,so convert it into float"
   ],
   "id": "e9c5e1bce8b4e00c",
   "outputs": [
    {
     "data": {
      "text/plain": [
       "tensor(45.)"
      ]
     },
     "execution_count": 41,
     "metadata": {},
     "output_type": "execute_result"
    }
   ],
   "execution_count": 41
  },
  {
   "metadata": {
    "ExecuteTime": {
     "end_time": "2025-08-15T09:31:52.267198Z",
     "start_time": "2025-08-15T09:31:52.264754Z"
    }
   },
   "cell_type": "code",
   "source": "torch.sum(x)",
   "id": "4ea9ad2fbee25582",
   "outputs": [
    {
     "data": {
      "text/plain": [
       "tensor(450)"
      ]
     },
     "execution_count": 42,
     "metadata": {},
     "output_type": "execute_result"
    }
   ],
   "execution_count": 42
  },
  {
   "metadata": {
    "ExecuteTime": {
     "end_time": "2025-08-15T09:31:52.275813Z",
     "start_time": "2025-08-15T09:31:52.273782Z"
    }
   },
   "cell_type": "code",
   "source": "x.argmin()",
   "id": "362d57e8a6995a01",
   "outputs": [
    {
     "data": {
      "text/plain": [
       "tensor(0)"
      ]
     },
     "execution_count": 43,
     "metadata": {},
     "output_type": "execute_result"
    }
   ],
   "execution_count": 43
  },
  {
   "metadata": {
    "ExecuteTime": {
     "end_time": "2025-08-15T09:31:52.285588Z",
     "start_time": "2025-08-15T09:31:52.283607Z"
    }
   },
   "cell_type": "code",
   "source": "x[0]",
   "id": "7292b033cc82312e",
   "outputs": [
    {
     "data": {
      "text/plain": [
       "tensor(0)"
      ]
     },
     "execution_count": 44,
     "metadata": {},
     "output_type": "execute_result"
    }
   ],
   "execution_count": 44
  },
  {
   "metadata": {
    "ExecuteTime": {
     "end_time": "2025-08-15T09:31:52.295213Z",
     "start_time": "2025-08-15T09:31:52.292833Z"
    }
   },
   "cell_type": "code",
   "source": "x.argmax()",
   "id": "edc5f47b67e64166",
   "outputs": [
    {
     "data": {
      "text/plain": [
       "tensor(9)"
      ]
     },
     "execution_count": 45,
     "metadata": {},
     "output_type": "execute_result"
    }
   ],
   "execution_count": 45
  },
  {
   "metadata": {
    "ExecuteTime": {
     "end_time": "2025-08-15T09:31:52.303099Z",
     "start_time": "2025-08-15T09:31:52.301721Z"
    }
   },
   "cell_type": "code",
   "source": "import torch",
   "id": "cc97cfff0c8037d",
   "outputs": [],
   "execution_count": 46
  },
  {
   "metadata": {
    "ExecuteTime": {
     "end_time": "2025-08-15T09:31:52.314823Z",
     "start_time": "2025-08-15T09:31:52.313039Z"
    }
   },
   "cell_type": "code",
   "source": "x = torch.arange(1,10)",
   "id": "507ec90287480bfc",
   "outputs": [],
   "execution_count": 47
  },
  {
   "metadata": {
    "ExecuteTime": {
     "end_time": "2025-08-15T09:31:52.321008Z",
     "start_time": "2025-08-15T09:31:52.319270Z"
    }
   },
   "cell_type": "code",
   "source": [
    "xreshaped = x.reshape(9,1)\n",
    "xreshaped.shape"
   ],
   "id": "8d3f6296aaab4490",
   "outputs": [
    {
     "data": {
      "text/plain": [
       "torch.Size([9, 1])"
      ]
     },
     "execution_count": 48,
     "metadata": {},
     "output_type": "execute_result"
    }
   ],
   "execution_count": 48
  },
  {
   "metadata": {
    "ExecuteTime": {
     "end_time": "2025-08-15T09:31:52.332421Z",
     "start_time": "2025-08-15T09:31:52.330064Z"
    }
   },
   "cell_type": "code",
   "source": [
    "z = x.view(1,9)\n",
    "z,z.shape"
   ],
   "id": "91fcb3f6abf38a46",
   "outputs": [
    {
     "data": {
      "text/plain": [
       "(tensor([[1, 2, 3, 4, 5, 6, 7, 8, 9]]), torch.Size([1, 9]))"
      ]
     },
     "execution_count": 49,
     "metadata": {},
     "output_type": "execute_result"
    }
   ],
   "execution_count": 49
  },
  {
   "metadata": {
    "ExecuteTime": {
     "end_time": "2025-08-15T09:31:52.341570Z",
     "start_time": "2025-08-15T09:31:52.339266Z"
    }
   },
   "cell_type": "code",
   "source": [
    "z[:,0]=5\n",
    "z,x\n",
    "#change in z will change the x as well"
   ],
   "id": "238513e8c70c6fc3",
   "outputs": [
    {
     "data": {
      "text/plain": [
       "(tensor([[5, 2, 3, 4, 5, 6, 7, 8, 9]]), tensor([5, 2, 3, 4, 5, 6, 7, 8, 9]))"
      ]
     },
     "execution_count": 50,
     "metadata": {},
     "output_type": "execute_result"
    }
   ],
   "execution_count": 50
  },
  {
   "metadata": {
    "ExecuteTime": {
     "end_time": "2025-08-15T09:31:52.350531Z",
     "start_time": "2025-08-15T09:31:52.349025Z"
    }
   },
   "cell_type": "code",
   "source": "xstacked = torch.stack([x,x,x,x],dim=1)",
   "id": "46f17462ea79a6eb",
   "outputs": [],
   "execution_count": 51
  },
  {
   "metadata": {
    "ExecuteTime": {
     "end_time": "2025-08-15T09:31:52.357924Z",
     "start_time": "2025-08-15T09:31:52.355859Z"
    }
   },
   "cell_type": "code",
   "source": "xstacked",
   "id": "801925b2e5c1c9ab",
   "outputs": [
    {
     "data": {
      "text/plain": [
       "tensor([[5, 5, 5, 5],\n",
       "        [2, 2, 2, 2],\n",
       "        [3, 3, 3, 3],\n",
       "        [4, 4, 4, 4],\n",
       "        [5, 5, 5, 5],\n",
       "        [6, 6, 6, 6],\n",
       "        [7, 7, 7, 7],\n",
       "        [8, 8, 8, 8],\n",
       "        [9, 9, 9, 9]])"
      ]
     },
     "execution_count": 52,
     "metadata": {},
     "output_type": "execute_result"
    }
   ],
   "execution_count": 52
  },
  {
   "metadata": {
    "ExecuteTime": {
     "end_time": "2025-08-15T09:32:51.918745Z",
     "start_time": "2025-08-15T09:32:51.913258Z"
    }
   },
   "cell_type": "code",
   "source": "xreshaped.squeeze()",
   "id": "dfbc1c5994faab56",
   "outputs": [
    {
     "data": {
      "text/plain": [
       "tensor([5, 2, 3, 4, 5, 6, 7, 8, 9])"
      ]
     },
     "execution_count": 53,
     "metadata": {},
     "output_type": "execute_result"
    }
   ],
   "execution_count": 53
  },
  {
   "metadata": {
    "ExecuteTime": {
     "end_time": "2025-08-15T09:33:11.179107Z",
     "start_time": "2025-08-15T09:33:11.175871Z"
    }
   },
   "cell_type": "code",
   "source": "xreshaped.squeeze().shape",
   "id": "a7d6c860f9a13952",
   "outputs": [
    {
     "data": {
      "text/plain": [
       "torch.Size([9])"
      ]
     },
     "execution_count": 54,
     "metadata": {},
     "output_type": "execute_result"
    }
   ],
   "execution_count": 54
  },
  {
   "metadata": {
    "ExecuteTime": {
     "end_time": "2025-08-15T09:37:54.992787Z",
     "start_time": "2025-08-15T09:37:54.990224Z"
    }
   },
   "cell_type": "code",
   "source": "xsqueezed = xreshaped.squeeze()",
   "id": "d5317bbba43021e4",
   "outputs": [],
   "execution_count": 55
  },
  {
   "metadata": {
    "ExecuteTime": {
     "end_time": "2025-08-15T09:38:02.361560Z",
     "start_time": "2025-08-15T09:38:02.359014Z"
    }
   },
   "cell_type": "code",
   "source": "xsqueezed.shape",
   "id": "64f390d6dfff4783",
   "outputs": [
    {
     "data": {
      "text/plain": [
       "torch.Size([9])"
      ]
     },
     "execution_count": 56,
     "metadata": {},
     "output_type": "execute_result"
    }
   ],
   "execution_count": 56
  },
  {
   "metadata": {
    "ExecuteTime": {
     "end_time": "2025-08-15T09:38:16.402910Z",
     "start_time": "2025-08-15T09:38:16.399947Z"
    }
   },
   "cell_type": "code",
   "source": "xunsq = xsqueezed.unsqueeze(dim=0)",
   "id": "174b216d51f2f6bb",
   "outputs": [],
   "execution_count": 57
  },
  {
   "metadata": {
    "ExecuteTime": {
     "end_time": "2025-08-15T09:38:24.482050Z",
     "start_time": "2025-08-15T09:38:24.478738Z"
    }
   },
   "cell_type": "code",
   "source": "xunsq.shape",
   "id": "1d3de0b4f6dfc698",
   "outputs": [
    {
     "data": {
      "text/plain": [
       "torch.Size([1, 9])"
      ]
     },
     "execution_count": 59,
     "metadata": {},
     "output_type": "execute_result"
    }
   ],
   "execution_count": 59
  },
  {
   "metadata": {
    "ExecuteTime": {
     "end_time": "2025-08-15T09:41:24.193137Z",
     "start_time": "2025-08-15T09:41:24.189996Z"
    }
   },
   "cell_type": "code",
   "source": [
    "xoriginal = torch.rand(size=(224,224,3))\n",
    "xoriginal.shape"
   ],
   "id": "7aa74fde29f1806",
   "outputs": [
    {
     "data": {
      "text/plain": [
       "torch.Size([224, 224, 3])"
      ]
     },
     "execution_count": 64,
     "metadata": {},
     "output_type": "execute_result"
    }
   ],
   "execution_count": 64
  },
  {
   "metadata": {
    "ExecuteTime": {
     "end_time": "2025-08-15T09:41:29.738370Z",
     "start_time": "2025-08-15T09:41:29.735389Z"
    }
   },
   "cell_type": "code",
   "source": [
    "xpermuted = xoriginal.permute(2,0,1)\n",
    "#shifts axis\n",
    "xpermuted.shape"
   ],
   "id": "15fb3bce7bd186c",
   "outputs": [
    {
     "data": {
      "text/plain": [
       "torch.Size([3, 224, 224])"
      ]
     },
     "execution_count": 65,
     "metadata": {},
     "output_type": "execute_result"
    }
   ],
   "execution_count": 65
  },
  {
   "metadata": {
    "ExecuteTime": {
     "end_time": "2025-08-15T09:40:00.265689Z",
     "start_time": "2025-08-15T09:40:00.259250Z"
    }
   },
   "cell_type": "code",
   "source": "xoriginal",
   "id": "7f3f8eb1fe211748",
   "outputs": [
    {
     "data": {
      "text/plain": [
       "tensor([[[0.5542, 0.0271, 0.7929],\n",
       "         [0.2724, 0.9363, 0.6718],\n",
       "         [0.5663, 0.0972, 0.5152],\n",
       "         ...,\n",
       "         [0.3046, 0.0301, 0.5047],\n",
       "         [0.8057, 0.1802, 0.8501],\n",
       "         [0.2199, 0.2751, 0.1492]],\n",
       "\n",
       "        [[0.9298, 0.8194, 0.2173],\n",
       "         [0.3682, 0.1780, 0.9036],\n",
       "         [0.3811, 0.3227, 0.3859],\n",
       "         ...,\n",
       "         [0.2396, 0.6984, 0.1021],\n",
       "         [0.1405, 0.5871, 0.3972],\n",
       "         [0.4169, 0.5379, 0.9056]],\n",
       "\n",
       "        [[0.2243, 0.3559, 0.8445],\n",
       "         [0.0319, 0.8556, 0.3692],\n",
       "         [0.8651, 0.9809, 0.9560],\n",
       "         ...,\n",
       "         [0.4516, 0.9294, 0.4657],\n",
       "         [0.1655, 0.5453, 0.0990],\n",
       "         [0.3286, 0.7178, 0.9399]],\n",
       "\n",
       "        ...,\n",
       "\n",
       "        [[0.4873, 0.7577, 0.9033],\n",
       "         [0.5388, 0.7104, 0.4445],\n",
       "         [0.7928, 0.5753, 0.5983],\n",
       "         ...,\n",
       "         [0.6190, 0.4798, 0.6260],\n",
       "         [0.8234, 0.2321, 0.9343],\n",
       "         [0.3219, 0.3137, 0.4392]],\n",
       "\n",
       "        [[0.2237, 0.7921, 0.7298],\n",
       "         [0.5041, 0.0814, 0.8610],\n",
       "         [0.8481, 0.7300, 0.1361],\n",
       "         ...,\n",
       "         [0.4306, 0.1073, 0.7340],\n",
       "         [0.7345, 0.5864, 0.8148],\n",
       "         [0.0034, 0.5943, 0.2603]],\n",
       "\n",
       "        [[0.8794, 0.6626, 0.3817],\n",
       "         [0.1915, 0.6728, 0.8179],\n",
       "         [0.3747, 0.3427, 0.9537],\n",
       "         ...,\n",
       "         [0.3280, 0.3830, 0.9400],\n",
       "         [0.3143, 0.9204, 0.5150],\n",
       "         [0.7443, 0.9710, 0.0598]]])"
      ]
     },
     "execution_count": 63,
     "metadata": {},
     "output_type": "execute_result"
    }
   ],
   "execution_count": 63
  },
  {
   "metadata": {
    "ExecuteTime": {
     "end_time": "2025-08-15T09:39:40.601124Z",
     "start_time": "2025-08-15T09:39:40.597337Z"
    }
   },
   "cell_type": "code",
   "source": "xpermuted",
   "id": "dc3261ce45adfa9",
   "outputs": [
    {
     "data": {
      "text/plain": [
       "tensor([[[0.5542, 0.2724, 0.5663,  ..., 0.3046, 0.8057, 0.2199],\n",
       "         [0.9298, 0.3682, 0.3811,  ..., 0.2396, 0.1405, 0.4169],\n",
       "         [0.2243, 0.0319, 0.8651,  ..., 0.4516, 0.1655, 0.3286],\n",
       "         ...,\n",
       "         [0.4873, 0.5388, 0.7928,  ..., 0.6190, 0.8234, 0.3219],\n",
       "         [0.2237, 0.5041, 0.8481,  ..., 0.4306, 0.7345, 0.0034],\n",
       "         [0.8794, 0.1915, 0.3747,  ..., 0.3280, 0.3143, 0.7443]],\n",
       "\n",
       "        [[0.0271, 0.9363, 0.0972,  ..., 0.0301, 0.1802, 0.2751],\n",
       "         [0.8194, 0.1780, 0.3227,  ..., 0.6984, 0.5871, 0.5379],\n",
       "         [0.3559, 0.8556, 0.9809,  ..., 0.9294, 0.5453, 0.7178],\n",
       "         ...,\n",
       "         [0.7577, 0.7104, 0.5753,  ..., 0.4798, 0.2321, 0.3137],\n",
       "         [0.7921, 0.0814, 0.7300,  ..., 0.1073, 0.5864, 0.5943],\n",
       "         [0.6626, 0.6728, 0.3427,  ..., 0.3830, 0.9204, 0.9710]],\n",
       "\n",
       "        [[0.7929, 0.6718, 0.5152,  ..., 0.5047, 0.8501, 0.1492],\n",
       "         [0.2173, 0.9036, 0.3859,  ..., 0.1021, 0.3972, 0.9056],\n",
       "         [0.8445, 0.3692, 0.9560,  ..., 0.4657, 0.0990, 0.9399],\n",
       "         ...,\n",
       "         [0.9033, 0.4445, 0.5983,  ..., 0.6260, 0.9343, 0.4392],\n",
       "         [0.7298, 0.8610, 0.1361,  ..., 0.7340, 0.8148, 0.2603],\n",
       "         [0.3817, 0.8179, 0.9537,  ..., 0.9400, 0.5150, 0.0598]]])"
      ]
     },
     "execution_count": 62,
     "metadata": {},
     "output_type": "execute_result"
    }
   ],
   "execution_count": 62
  },
  {
   "metadata": {
    "ExecuteTime": {
     "end_time": "2025-08-15T09:45:04.398465Z",
     "start_time": "2025-08-15T09:45:04.396250Z"
    }
   },
   "cell_type": "code",
   "source": "x = torch.arange(1,10).reshape(1,3,3)",
   "id": "4bbc5dbcb28cd68a",
   "outputs": [],
   "execution_count": 66
  },
  {
   "metadata": {
    "ExecuteTime": {
     "end_time": "2025-08-15T09:45:06.021044Z",
     "start_time": "2025-08-15T09:45:06.017599Z"
    }
   },
   "cell_type": "code",
   "source": "x",
   "id": "b0275b20308b63be",
   "outputs": [
    {
     "data": {
      "text/plain": [
       "tensor([[[1, 2, 3],\n",
       "         [4, 5, 6],\n",
       "         [7, 8, 9]]])"
      ]
     },
     "execution_count": 67,
     "metadata": {},
     "output_type": "execute_result"
    }
   ],
   "execution_count": 67
  },
  {
   "metadata": {
    "ExecuteTime": {
     "end_time": "2025-08-15T09:45:09.665750Z",
     "start_time": "2025-08-15T09:45:09.663102Z"
    }
   },
   "cell_type": "code",
   "source": "x[0]",
   "id": "90626801c77ce934",
   "outputs": [
    {
     "data": {
      "text/plain": [
       "tensor([[1, 2, 3],\n",
       "        [4, 5, 6],\n",
       "        [7, 8, 9]])"
      ]
     },
     "execution_count": 68,
     "metadata": {},
     "output_type": "execute_result"
    }
   ],
   "execution_count": 68
  },
  {
   "metadata": {
    "ExecuteTime": {
     "end_time": "2025-08-15T09:45:12.515904Z",
     "start_time": "2025-08-15T09:45:12.512249Z"
    }
   },
   "cell_type": "code",
   "source": "x[0][0]",
   "id": "611de9d6c3fc077",
   "outputs": [
    {
     "data": {
      "text/plain": [
       "tensor([1, 2, 3])"
      ]
     },
     "execution_count": 69,
     "metadata": {},
     "output_type": "execute_result"
    }
   ],
   "execution_count": 69
  },
  {
   "metadata": {
    "ExecuteTime": {
     "end_time": "2025-08-15T09:45:18.332409Z",
     "start_time": "2025-08-15T09:45:18.328887Z"
    }
   },
   "cell_type": "code",
   "source": "x[0][0][0]",
   "id": "6d489503380713bb",
   "outputs": [
    {
     "data": {
      "text/plain": [
       "tensor(1)"
      ]
     },
     "execution_count": 70,
     "metadata": {},
     "output_type": "execute_result"
    }
   ],
   "execution_count": 70
  },
  {
   "metadata": {
    "ExecuteTime": {
     "end_time": "2025-08-15T09:56:45.414230Z",
     "start_time": "2025-08-15T09:56:45.412080Z"
    }
   },
   "cell_type": "code",
   "source": [
    "import torch\n",
    "import numpy as np\n",
    "#numpy to tensor"
   ],
   "id": "369d3a815c98e2b",
   "outputs": [],
   "execution_count": 82
  },
  {
   "metadata": {
    "ExecuteTime": {
     "end_time": "2025-08-15T09:53:48.200477Z",
     "start_time": "2025-08-15T09:53:48.197992Z"
    }
   },
   "cell_type": "code",
   "source": "array = np.arange(1.,8.);",
   "id": "d047d48e670523af",
   "outputs": [],
   "execution_count": 72
  },
  {
   "metadata": {
    "ExecuteTime": {
     "end_time": "2025-08-15T09:54:30.620825Z",
     "start_time": "2025-08-15T09:54:30.619038Z"
    }
   },
   "cell_type": "code",
   "source": "tensor = torch.from_numpy(array)",
   "id": "f5af6b6aa8bd9ef6",
   "outputs": [],
   "execution_count": 76
  },
  {
   "metadata": {
    "ExecuteTime": {
     "end_time": "2025-08-15T09:54:43.131378Z",
     "start_time": "2025-08-15T09:54:43.127921Z"
    }
   },
   "cell_type": "code",
   "source": "array,tensor",
   "id": "7979aedb25fae6e4",
   "outputs": [
    {
     "data": {
      "text/plain": [
       "(array([1., 2., 3., 4., 5., 6., 7.]),\n",
       " tensor([1., 2., 3., 4., 5., 6., 7.], dtype=torch.float64))"
      ]
     },
     "execution_count": 77,
     "metadata": {},
     "output_type": "execute_result"
    }
   ],
   "execution_count": 77
  },
  {
   "metadata": {
    "ExecuteTime": {
     "end_time": "2025-08-15T09:55:13.003234Z",
     "start_time": "2025-08-15T09:55:13.000945Z"
    }
   },
   "cell_type": "code",
   "source": "array = array + 1",
   "id": "9bd36755fcd176b9",
   "outputs": [],
   "execution_count": 78
  },
  {
   "metadata": {
    "ExecuteTime": {
     "end_time": "2025-08-15T09:55:31.019531Z",
     "start_time": "2025-08-15T09:55:31.016839Z"
    }
   },
   "cell_type": "code",
   "source": "array,tensor",
   "id": "11f2e313bdd48ddc",
   "outputs": [
    {
     "data": {
      "text/plain": [
       "(array([2., 3., 4., 5., 6., 7., 8.]),\n",
       " tensor([1., 2., 3., 4., 5., 6., 7.], dtype=torch.float64))"
      ]
     },
     "execution_count": 81,
     "metadata": {},
     "output_type": "execute_result"
    }
   ],
   "execution_count": 81
  },
  {
   "metadata": {
    "ExecuteTime": {
     "end_time": "2025-08-15T09:57:16.480032Z",
     "start_time": "2025-08-15T09:57:16.477533Z"
    }
   },
   "cell_type": "code",
   "source": [
    "#tensor to numpy\n",
    "tensor = torch.ones(7)\n",
    "numpytesor = tensor.numpy()\n",
    "numpytesor"
   ],
   "id": "5b839dcbae07c85",
   "outputs": [
    {
     "data": {
      "text/plain": [
       "array([1., 1., 1., 1., 1., 1., 1.], dtype=float32)"
      ]
     },
     "execution_count": 83,
     "metadata": {},
     "output_type": "execute_result"
    }
   ],
   "execution_count": 83
  },
  {
   "metadata": {
    "ExecuteTime": {
     "end_time": "2025-08-15T10:06:19.483020Z",
     "start_time": "2025-08-15T10:06:19.476629Z"
    }
   },
   "cell_type": "code",
   "source": [
    "import torch\n",
    "\n",
    "randomtensorA = torch.rand(3,4)\n",
    "randomtensorB = torch.rand(3,4)\n",
    "\n",
    "print(randomtensorA)\n",
    "print(randomtensorB)\n",
    "print(randomtensorA==randomtensorB)"
   ],
   "id": "2fcc369c79bc5805",
   "outputs": [
    {
     "name": "stdout",
     "output_type": "stream",
     "text": [
      "tensor([[0.9295, 0.0281, 0.1148, 0.6137],\n",
      "        [0.1310, 0.1693, 0.7331, 0.7882],\n",
      "        [0.6254, 0.5574, 0.7379, 0.1777]])\n",
      "tensor([[0.6642, 0.9108, 0.8658, 0.7383],\n",
      "        [0.8095, 0.0644, 0.0384, 0.7230],\n",
      "        [0.1931, 0.2104, 0.0615, 0.8684]])\n",
      "tensor([[False, False, False, False],\n",
      "        [False, False, False, False],\n",
      "        [False, False, False, False]])\n"
     ]
    }
   ],
   "execution_count": 85
  },
  {
   "metadata": {
    "ExecuteTime": {
     "end_time": "2025-08-15T10:07:51.667702Z",
     "start_time": "2025-08-15T10:07:51.664254Z"
    }
   },
   "cell_type": "code",
   "source": [
    "RANDOMSEED = 42\n",
    "torch.manual_seed(RANDOMSEED)\n",
    "randomC = torch.rand(3,4)\n",
    "torch.manual_seed(RANDOMSEED)\n",
    "randomD = torch.rand(3,4)"
   ],
   "id": "3450161bbeb6993f",
   "outputs": [],
   "execution_count": 87
  },
  {
   "metadata": {
    "ExecuteTime": {
     "end_time": "2025-08-15T10:08:06.641669Z",
     "start_time": "2025-08-15T10:08:06.637486Z"
    }
   },
   "cell_type": "code",
   "source": "randomC,randomD",
   "id": "787e8d66f337e63b",
   "outputs": [
    {
     "data": {
      "text/plain": [
       "(tensor([[0.8823, 0.9150, 0.3829, 0.9593],\n",
       "         [0.3904, 0.6009, 0.2566, 0.7936],\n",
       "         [0.9408, 0.1332, 0.9346, 0.5936]]),\n",
       " tensor([[0.8823, 0.9150, 0.3829, 0.9593],\n",
       "         [0.3904, 0.6009, 0.2566, 0.7936],\n",
       "         [0.9408, 0.1332, 0.9346, 0.5936]]))"
      ]
     },
     "execution_count": 88,
     "metadata": {},
     "output_type": "execute_result"
    }
   ],
   "execution_count": 88
  },
  {
   "metadata": {
    "ExecuteTime": {
     "end_time": "2025-08-15T10:19:19.246302Z",
     "start_time": "2025-08-15T10:19:19.243233Z"
    }
   },
   "cell_type": "code",
   "source": [
    "#accessing GPU (mps) for training\n",
    "device = \"mps\" if torch.backends.mps.is_available() else \"cpu\"\n",
    "device"
   ],
   "id": "bfd12b05f44be34d",
   "outputs": [
    {
     "data": {
      "text/plain": [
       "'mps'"
      ]
     },
     "execution_count": 90,
     "metadata": {},
     "output_type": "execute_result"
    }
   ],
   "execution_count": 90
  },
  {
   "metadata": {
    "ExecuteTime": {
     "end_time": "2025-08-15T10:26:51.885880Z",
     "start_time": "2025-08-15T10:26:51.879394Z"
    }
   },
   "cell_type": "code",
   "source": "torch.cuda.is_available()",
   "id": "f8a8749a7f048622",
   "outputs": [
    {
     "data": {
      "text/plain": [
       "False"
      ]
     },
     "execution_count": 91,
     "metadata": {},
     "output_type": "execute_result"
    }
   ],
   "execution_count": 91
  },
  {
   "metadata": {
    "ExecuteTime": {
     "end_time": "2025-08-15T10:27:44.860827Z",
     "start_time": "2025-08-15T10:27:44.858124Z"
    }
   },
   "cell_type": "code",
   "source": [
    "    import torch\n",
    "\n",
    "    if torch.backends.mps.is_available():\n",
    "        device = torch.device(\"mps\")\n",
    "        print(\"Using Apple Silicon MPS GPU.\")\n",
    "    else:\n",
    "        device = torch.device(\"cpu\")\n",
    "        print(\"Using CPU.\")\n"
   ],
   "id": "a7d655b453a802a0",
   "outputs": [
    {
     "name": "stdout",
     "output_type": "stream",
     "text": [
      "Using Apple Silicon MPS GPU.\n"
     ]
    }
   ],
   "execution_count": 95
  },
  {
   "metadata": {
    "ExecuteTime": {
     "end_time": "2025-08-15T10:30:00.085387Z",
     "start_time": "2025-08-15T10:30:00.081888Z"
    }
   },
   "cell_type": "code",
   "source": "tensor = torch.tensor([1,2,3])",
   "id": "8f4effac2e63e853",
   "outputs": [],
   "execution_count": 103
  },
  {
   "metadata": {
    "ExecuteTime": {
     "end_time": "2025-08-15T10:30:00.358572Z",
     "start_time": "2025-08-15T10:30:00.355371Z"
    }
   },
   "cell_type": "code",
   "source": "print(tensor,tensor.device)",
   "id": "46ac87c892bbfab5",
   "outputs": [
    {
     "name": "stdout",
     "output_type": "stream",
     "text": [
      "tensor([1, 2, 3]) cpu\n"
     ]
    }
   ],
   "execution_count": 104
  },
  {
   "metadata": {
    "ExecuteTime": {
     "end_time": "2025-08-15T10:33:31.883414Z",
     "start_time": "2025-08-15T10:33:31.880507Z"
    }
   },
   "cell_type": "code",
   "source": [
    "#moving tensors to GPU(mps)\n",
    "tensor_to_gpu = tensor.to(device)"
   ],
   "id": "3b45ecc466fc0254",
   "outputs": [],
   "execution_count": 113
  },
  {
   "metadata": {
    "ExecuteTime": {
     "end_time": "2025-08-15T10:33:32.173609Z",
     "start_time": "2025-08-15T10:33:32.170935Z"
    }
   },
   "cell_type": "code",
   "source": "print(tensor_to_gpu.device)",
   "id": "74375efb1bdf2af8",
   "outputs": [
    {
     "name": "stdout",
     "output_type": "stream",
     "text": [
      "mps:0\n"
     ]
    }
   ],
   "execution_count": 114
  },
  {
   "metadata": {
    "ExecuteTime": {
     "end_time": "2025-08-15T10:33:35.457747Z",
     "start_time": "2025-08-15T10:33:35.455412Z"
    }
   },
   "cell_type": "code",
   "source": [
    "#numpy needs cpu to work,so we should go back to cpu and then we need to use numpy\n",
    "# tensor.numpy()"
   ],
   "id": "480fbd365f43e887",
   "outputs": [],
   "execution_count": 115
  },
  {
   "metadata": {
    "ExecuteTime": {
     "end_time": "2025-08-15T10:33:54.502193Z",
     "start_time": "2025-08-15T10:33:54.498374Z"
    }
   },
   "cell_type": "code",
   "source": "tensor_to_cpu = tensor_to_gpu.cpu()",
   "id": "c9428dc6bcc05019",
   "outputs": [],
   "execution_count": 116
  },
  {
   "metadata": {
    "ExecuteTime": {
     "end_time": "2025-08-15T10:34:01.153598Z",
     "start_time": "2025-08-15T10:34:01.150838Z"
    }
   },
   "cell_type": "code",
   "source": "tensor_to_cpu.numpy()",
   "id": "f882678ee7f6c68",
   "outputs": [
    {
     "data": {
      "text/plain": [
       "array([1, 2, 3])"
      ]
     },
     "execution_count": 117,
     "metadata": {},
     "output_type": "execute_result"
    }
   ],
   "execution_count": 117
  },
  {
   "metadata": {
    "ExecuteTime": {
     "end_time": "2025-08-15T10:34:15.132226Z",
     "start_time": "2025-08-15T10:34:15.130010Z"
    }
   },
   "cell_type": "code",
   "source": "print(tensor_to_cpu.device)",
   "id": "2077373e6a82e4a8",
   "outputs": [
    {
     "name": "stdout",
     "output_type": "stream",
     "text": [
      "cpu\n"
     ]
    }
   ],
   "execution_count": 118
  },
  {
   "metadata": {},
   "cell_type": "code",
   "outputs": [],
   "execution_count": null,
   "source": "",
   "id": "631aa64e2195497c"
  }
 ],
 "metadata": {
  "kernelspec": {
   "display_name": "Python 3 (ipykernel)",
   "language": "python",
   "name": "python3"
  },
  "language_info": {
   "codemirror_mode": {
    "name": "ipython",
    "version": 3
   },
   "file_extension": ".py",
   "mimetype": "text/x-python",
   "name": "python",
   "nbconvert_exporter": "python",
   "pygments_lexer": "ipython3",
   "version": "3.13.5"
  }
 },
 "nbformat": 4,
 "nbformat_minor": 5
}
