{
 "cells": [
  {
   "cell_type": "code",
   "id": "initial_id",
   "metadata": {
    "collapsed": true
   },
   "source": [
    "import torch\n",
    "from torch import nn\n",
    "import matplotlib.pyplot as plt\n",
    "import numpy as np\n",
    "torch.__version__"
   ],
   "outputs": [],
   "execution_count": null
  },
  {
   "metadata": {},
   "cell_type": "markdown",
   "source": [
    "\n",
    "Data reading and preparing"
   ],
   "id": "3f63323a2d07425e"
  },
  {
   "metadata": {},
   "cell_type": "code",
   "source": [
    "weight = 0.7\n",
    "bias =0.3\n",
    "start =0\n",
    "end = 1\n",
    "step = 0.02\n",
    "X = torch.arange(start,end,step).unsqueeze(dim=1)\n",
    "y = weight * X + bias\n",
    "\n",
    "X[:10],y[:10]"
   ],
   "id": "97933f63ee13d36a",
   "outputs": [],
   "execution_count": null
  },
  {
   "metadata": {},
   "cell_type": "code",
   "source": [
    "trainsplit = int(0.8*len(X))\n",
    "xtrain,ytrain = X[:trainsplit],y[:trainsplit]\n",
    "xtest,ytest = X[trainsplit:],y[trainsplit:]\n",
    "len(xtrain),len(xtest),len(ytrain),len(ytest)"
   ],
   "id": "53888237960d5edd",
   "outputs": [],
   "execution_count": null
  },
  {
   "metadata": {},
   "cell_type": "code",
   "source": [
    "def plotpredictions(traindata=xtrain,trainlabels=ytrain,testdata=xtest,testlabels=ytest,predictions=None):\n",
    "    plt.figure(figsize=(10,7))\n",
    "    plt.scatter(traindata,trainlabels,c=\"b\",s=4,label=\"training data\")\n",
    "    plt.scatter(testdata,testlabels,c=\"g\",s=4,label=\"test data\")\n",
    "    if predictions is not None:\n",
    "        plt.scatter(testdata,predictions,c=\"r\",s=4,label=\"predictions\")\n",
    "    plt.legend(prop={\"size\":15})"
   ],
   "id": "8f3afea92b62b",
   "outputs": [],
   "execution_count": null
  },
  {
   "metadata": {},
   "cell_type": "markdown",
   "source": [
    "#pytorch model building essentials\n",
    "*torch.nn -> contains all buildings for computing graphs(NN)\n",
    "*torch.nn.parameter -> what params should our model try\n",
    "*torch.nn.Module -> base class for all NN modules\n",
    "* def forward() -> all nn.Module subclassess should overwrite forward() ,this will define what will happen in further computation"
   ],
   "id": "d6d2f1c88c2a26f3"
  },
  {
   "metadata": {},
   "cell_type": "code",
   "source": [
    "class LinearRegressionModel(nn.Module):#everything in pytorch inherits from nn.Module\n",
    "    def __init__(self):\n",
    "        super().__init__()\n",
    "        self.weights = nn.Parameter(torch.randn(1,requires_grad=True,dtype=torch.float32))\n",
    "        self.bias = nn.Parameter(torch.randn(1,requires_grad=True,dtype=torch.float32))\n",
    "        #nn.Parameter is a special type of tensor that is a module parameter.\n",
    "    def forward(self,x:torch.Tensor)->torch.Tensor:\n",
    "        return self.weights * x + self.bias\n",
    "\n"
   ],
   "id": "5201f68054884ef6",
   "outputs": [],
   "execution_count": null
  },
  {
   "metadata": {},
   "cell_type": "code",
   "source": "torch.manual_seed(42)",
   "id": "91554c0000695bb3",
   "outputs": [],
   "execution_count": null
  },
  {
   "metadata": {},
   "cell_type": "code",
   "source": [
    "model0 = LinearRegressionModel()\n",
    "list(model0.parameters())"
   ],
   "id": "21736ad8cbdefdf5",
   "outputs": [],
   "execution_count": null
  },
  {
   "metadata": {},
   "cell_type": "code",
   "source": "model0.state_dict()",
   "id": "e5f22c4a73fb0743",
   "outputs": [],
   "execution_count": null
  },
  {
   "metadata": {},
   "cell_type": "code",
   "source": [
    "#making prediction using torch.inference_mode()\n",
    "\n",
    "with torch.inference_mode():\n",
    "    ypred = model0(xtest)\n",
    "ypred"
   ],
   "id": "e1edd513ac6013af",
   "outputs": [],
   "execution_count": null
  },
  {
   "metadata": {},
   "cell_type": "code",
   "source": "plotpredictions(predictions=ypred)",
   "id": "c1e3d224758687da",
   "outputs": [],
   "execution_count": null
  },
  {
   "metadata": {},
   "cell_type": "code",
   "source": [
    "#loss function\n",
    "lossfn = nn.L1Loss()\n"
   ],
   "id": "3500223e634afcec",
   "outputs": [],
   "execution_count": null
  },
  {
   "metadata": {},
   "cell_type": "code",
   "source": [
    "##optimizer\n",
    "optimizer = torch.optim.SGD(model0.parameters(),lr=0.01)"
   ],
   "id": "d6b1e71618271823",
   "outputs": [],
   "execution_count": null
  },
  {
   "metadata": {},
   "cell_type": "code",
   "source": [
    "torch.manual_seed(42)\n",
    "epochs =600\n",
    "epochcount =[]\n",
    "lossvalues=[]\n",
    "test_loss =[]\n",
    "\n",
    "for epoch in range(epochs):\n",
    "    model0.train()\n",
    "    ypred = model0(xtrain)\n",
    "    loss = lossfn(ypred,ytrain)\n",
    "    optimizer.zero_grad()\n",
    "    loss.backward()\n",
    "    optimizer.step()\n",
    "    model0.eval()\n",
    "    with torch.inference_mode():\n",
    "        ypred = model0(xtest)\n",
    "        testloss = lossfn(ypred,ytest)\n",
    "    epochcount.append(epoch)\n",
    "    lossvalues.append(loss)\n",
    "    test_loss.append(testloss)\n",
    "    print(f\"epoch {epoch+1} test loss {testloss}\")\n",
    "\n",
    "print(model0.state_dict())"
   ],
   "id": "9128d3d42f51caee",
   "outputs": [],
   "execution_count": null
  },
  {
   "metadata": {},
   "cell_type": "code",
   "source": "plotpredictions(predictions=ypred)",
   "id": "d0f16f97ef116a54",
   "outputs": [],
   "execution_count": null
  },
  {
   "metadata": {},
   "cell_type": "code",
   "source": [
    "plt.plot(epochcount,np.array(torch.tensor(lossvalues).numpy()),label=\"training loss\")\n",
    "plt.plot(epochcount,test_loss,label=\"test loss\")\n",
    "plt.legend()\n",
    "plt.show()"
   ],
   "id": "e97d24306c4b4f30",
   "outputs": [],
   "execution_count": null
  },
  {
   "metadata": {},
   "cell_type": "code",
   "source": [
    "with torch.inference_mode():\n",
    "    yprednew = model0(xtest)"
   ],
   "id": "9a1bbdc30492632f",
   "outputs": [],
   "execution_count": null
  },
  {
   "metadata": {},
   "cell_type": "code",
   "source": "plotpredictions(predictions=yprednew)",
   "id": "6a95f82a28e498cd",
   "outputs": [],
   "execution_count": null
  },
  {
   "metadata": {},
   "cell_type": "markdown",
   "source": "<center> saving model in pytorch",
   "id": "6ebc4d47faa47abe"
  },
  {
   "metadata": {},
   "cell_type": "code",
   "source": [
    "from pathlib import Path\n",
    "\n",
    "modelpath = Path(\"model\")\n",
    "modelpath.mkdir(parents=True,exist_ok=True)\n",
    "\n",
    "modelname = \"basicPTmodel.pth\"\n",
    "modelsavepath = modelpath/modelname\n",
    "\n",
    "torch.save(obj=model0.state_dict(),f=modelsavepath)\n",
    "\n",
    "modelsavepath\n"
   ],
   "id": "bf2bb384daa418bd",
   "outputs": [],
   "execution_count": null
  },
  {
   "metadata": {},
   "cell_type": "markdown",
   "source": "<center> loading a model",
   "id": "a60934a52dcdda89"
  },
  {
   "metadata": {},
   "cell_type": "code",
   "source": [
    "loadedmodel = LinearRegressionModel()\n",
    "loadedmodel.load_state_dict(torch.load(f=modelsavepath))"
   ],
   "id": "2a1f5ce844f6ec32",
   "outputs": [],
   "execution_count": null
  },
  {
   "metadata": {},
   "cell_type": "code",
   "source": "loadedmodel.state_dict()",
   "id": "7ae6527ad0c34ca5",
   "outputs": [],
   "execution_count": null
  },
  {
   "metadata": {},
   "cell_type": "code",
   "source": [
    "loadedmodel.eval()\n",
    "with torch.inference_mode():\n",
    "    ypredloaded = loadedmodel(xtest)"
   ],
   "id": "3390de6960c9d944",
   "outputs": [],
   "execution_count": null
  },
  {
   "metadata": {},
   "cell_type": "code",
   "source": "yprednew == ypredloaded",
   "id": "e18bcbc14a190803",
   "outputs": [],
   "execution_count": null
  },
  {
   "metadata": {},
   "cell_type": "code",
   "source": "ypredloaded,yprednew",
   "id": "bf009087f3c6064f",
   "outputs": [],
   "execution_count": null
  },
  {
   "metadata": {},
   "cell_type": "code",
   "source": "",
   "id": "3df3ad7668da3e73",
   "outputs": [],
   "execution_count": null
  },
  {
   "metadata": {},
   "cell_type": "code",
   "source": [
    "import torch\n",
    "from torch import nn\n",
    "import matplotlib.pyplot as plt\n",
    "import numpy as np"
   ],
   "id": "e7a91f534c675ba9",
   "outputs": [],
   "execution_count": null
  },
  {
   "metadata": {},
   "cell_type": "code",
   "source": [
    "device = \"mps\" if torch.backends.mps.is_available() else \"cpu\"\n",
    "print(f\"using {device} device\")"
   ],
   "id": "e933e03d36d3c27d",
   "outputs": [],
   "execution_count": null
  },
  {
   "metadata": {},
   "cell_type": "code",
   "source": [
    "#data\n",
    "weight = 0.7\n",
    "bias = 0.3\n",
    "start =0\n",
    "end = 1\n",
    "step = 0.02\n",
    "X = torch.arange(start,end,step).unsqueeze(dim=1)\n",
    "y = weight * X + bias\n",
    "\n",
    "X[:10],y[:10]"
   ],
   "id": "ff49543a9595c9e4",
   "outputs": [],
   "execution_count": null
  },
  {
   "metadata": {},
   "cell_type": "code",
   "source": [
    "#split data\n",
    "trainsplit = int(0.8*len(X))\n",
    "xtrain,ytrain = X[:trainsplit],y[:trainsplit]\n",
    "xtest,ytest = X[trainsplit:],y[trainsplit:]\n",
    "len(xtrain),len(xtest),len(ytrain),len(ytest)"
   ],
   "id": "b1f12976cdbcdcd4",
   "outputs": [],
   "execution_count": null
  },
  {
   "metadata": {},
   "cell_type": "code",
   "source": [
    "#plot the data to visualize the data\n",
    "def plotpredictions(traindata=xtrain,trainlabels=ytrain,testdata=xtest,testlabels=ytest,predictions=None):\n",
    "    plt.figure(figsize=(10,7))\n",
    "    plt.scatter(traindata,trainlabels,c=\"b\",s=4,label=\"training data\")\n",
    "    plt.scatter(testdata,testlabels,c=\"g\",s=4,label=\"test data\",marker=\"x\")\n",
    "    if predictions is not None:\n",
    "        plt.scatter(testdata,predictions,c=\"r\",s=4,label=\"predictions\")\n",
    "    plt.legend(prop={\"size\":15})"
   ],
   "id": "674b82085fb83c3a",
   "outputs": [],
   "execution_count": null
  },
  {
   "metadata": {},
   "cell_type": "code",
   "source": "plotpredictions()",
   "id": "a9433b90269e89c3",
   "outputs": [],
   "execution_count": null
  },
  {
   "metadata": {},
   "cell_type": "code",
   "source": [
    "#Pytorch linear model\n",
    "class LinearRegressionModelv2(nn.Module):\n",
    "    def __init__(self):\n",
    "        super().__init__()\n",
    "        self.linearlayer = nn.Linear(in_features=1,out_features=1,bias=True)\n",
    "    def forward(self,x:torch.Tensor)->torch.Tensor:\n",
    "        return self.linearlayer(x)\n",
    "\n",
    "torch.manual_seed(42)\n",
    "model1 = LinearRegressionModelv2().to(device)\n",
    "model1.state_dict()"
   ],
   "id": "238c672340675044",
   "outputs": [],
   "execution_count": null
  },
  {
   "metadata": {},
   "cell_type": "code",
   "source": "next(model1.parameters()).device",
   "id": "54ce30ccc42bfa46",
   "outputs": [],
   "execution_count": null
  },
  {
   "metadata": {},
   "cell_type": "code",
   "source": [
    "#loss function\n",
    "lossfunction = nn.L1Loss()\n",
    "\n",
    "optimizer = torch.optim.SGD(params=model1.parameters(),lr=0.01)"
   ],
   "id": "b22ab0871375b84d",
   "outputs": [],
   "execution_count": null
  },
  {
   "metadata": {},
   "cell_type": "code",
   "source": [
    "torch.manual_seed(42)\n",
    "epochs = 200\n",
    "\n",
    "xtrain,ytrain = xtrain.to(device),ytrain.to(device)\n",
    "xtest,ytest = xtest.to(device),ytest.to(device)\n",
    "\n",
    "for epoch in range(epochs):\n",
    "    model1.train()\n",
    "    ypred = model1(xtrain.to(device))\n",
    "    loss = lossfunction(ypred,ytrain.to(device))\n",
    "    optimizer.zero_grad()\n",
    "    loss.backward()\n",
    "    optimizer.step()\n",
    "    model1.eval()\n",
    "    with torch.inference_mode():\n",
    "        ypred = model1(xtest.to(device))\n",
    "        testloss = lossfunction(ypred,ytest.to(device))\n",
    "    print(f\"epoch {epoch+1} test loss {testloss}\")\n"
   ],
   "id": "ad51e9eb053689bd",
   "outputs": [],
   "execution_count": null
  },
  {
   "metadata": {},
   "cell_type": "code",
   "source": "model1.state_dict(),ypred",
   "id": "914f5473f3139070",
   "outputs": [],
   "execution_count": null
  },
  {
   "metadata": {},
   "cell_type": "code",
   "source": [
    "#evaluatio=ng model\n",
    "model1.eval()\n",
    "\n",
    "with torch.inference_mode():\n",
    "    ypred = model1(xtest)\n",
    "ypred"
   ],
   "id": "282ab649484dae9d",
   "outputs": [],
   "execution_count": null
  },
  {
   "metadata": {},
   "cell_type": "code",
   "source": "plotpredictions(predictions=ypred.cpu())",
   "id": "f183176d374e5c84",
   "outputs": [],
   "execution_count": null
  },
  {
   "metadata": {},
   "cell_type": "code",
   "source": [
    "#saving and reloading\n",
    "from pathlib import Path\n",
    "\n",
    "modelpath = Path(\"model\")\n",
    "modelpath.mkdir(parents=True,exist_ok=True)\n",
    "\n",
    "modelname = \"model1.pth\"\n",
    "modelsavepath = modelpath/modelname\n",
    "\n",
    "torch.save(obj=model1.state_dict(),f=modelsavepath)\n",
    "\n",
    "modelsavepath\n"
   ],
   "id": "49a99d99ef2fbc65",
   "outputs": [],
   "execution_count": null
  },
  {
   "metadata": {},
   "cell_type": "code",
   "source": [
    "loadmdel1 = LinearRegressionModelv2()\n",
    "loadmdel1.load_state_dict(torch.load(f=modelsavepath))\n",
    "loadmdel1.to(device)"
   ],
   "id": "90170412d6439cb1",
   "outputs": [],
   "execution_count": null
  },
  {
   "metadata": {},
   "cell_type": "code",
   "source": "loadmdel1.state_dict()",
   "id": "a16177c57ba8ed02",
   "outputs": [],
   "execution_count": null
  },
  {
   "metadata": {},
   "cell_type": "code",
   "source": [
    "loadmdel1.eval()\n",
    "with torch.inference_mode():\n",
    "    loadedypred = loadmdel1(xtest.to(device))\n",
    "ypred==loadedypred"
   ],
   "id": "9f119da1fec8816d",
   "outputs": [],
   "execution_count": null
  },
  {
   "metadata": {},
   "cell_type": "code",
   "source": "plotpredictions(predictions=loadedypred.cpu())",
   "id": "666683479d0ae0d",
   "outputs": [],
   "execution_count": null
  },
  {
   "metadata": {},
   "cell_type": "code",
   "source": "",
   "id": "ac8e831d106429e2",
   "outputs": [],
   "execution_count": null
  }
 ],
 "metadata": {
  "kernelspec": {
   "display_name": "Python 3",
   "language": "python",
   "name": "python3"
  },
  "language_info": {
   "codemirror_mode": {
    "name": "ipython",
    "version": 2
   },
   "file_extension": ".py",
   "mimetype": "text/x-python",
   "name": "python",
   "nbconvert_exporter": "python",
   "pygments_lexer": "ipython2",
   "version": "2.7.6"
  }
 },
 "nbformat": 4,
 "nbformat_minor": 5
}
