{
 "cells": [
  {
   "cell_type": "code",
   "id": "initial_id",
   "metadata": {
    "collapsed": true,
    "jupyter": {
     "outputs_hidden": true
    }
   },
   "source": [
    "import torch\n",
    "from mpmath import arange\n",
    "from torch import dtype\n",
    "\n",
    "print(\"Hello World\")"
   ],
   "outputs": [],
   "execution_count": null
  },
  {
   "cell_type": "code",
   "id": "8aa7275333f4bb24",
   "metadata": {},
   "source": [
    "# pip install --pre torch torchvision torchaudio --extra-index-url https://download.pytorch.org/whl/nightly/cpu"
   ],
   "outputs": [],
   "execution_count": null
  },
  {
   "cell_type": "code",
   "id": "7090eccc8e96781f",
   "metadata": {},
   "source": [
    "import torch\n",
    "\n",
    "if torch.backends.mps.is_available():\n",
    "    mps_device = torch.device(\"mps\")\n",
    "    x = torch.ones(1, device=mps_device)\n",
    "    print (\"MPS device is available:\", x)\n",
    "else:\n",
    "    print (\"MPS device not found.\")\n",
    "\n"
   ],
   "outputs": [],
   "execution_count": null
  },
  {
   "cell_type": "code",
   "id": "71a0e39a8643e849",
   "metadata": {},
   "source": [
    "import torch\n",
    "\n",
    "if torch.backends.mps.is_available():\n",
    "    device = torch.device(\"mps\")\n",
    "    print(\"Using MPS (Metal Performance Shaders) for GPU acceleration\")\n",
    "else:\n",
    "    device = torch.device(\"cpu\")\n",
    "    print(\"MPS not available, falling back to CPU\")"
   ],
   "outputs": [],
   "execution_count": null
  },
  {
   "cell_type": "code",
   "id": "f41a3775b453292b",
   "metadata": {},
   "source": [
    "import torch\n",
    "import time\n",
    "\n",
    "def check_pytorch_device():\n",
    "    \"\"\"\n",
    "    Checks if PyTorch is configured to use the GPU (MPS) or CPU,\n",
    "    and performs a simple tensor operation to demonstrate.\n",
    "    \"\"\"\n",
    "\n",
    "    # 1. Determine the device to use\n",
    "    if torch.backends.mps.is_available():\n",
    "        device = torch.device(\"mps\")\n",
    "        print(\"MPS (Metal Performance Shaders) backend is available.\")\n",
    "        print(\"Using GPU for computations.\")\n",
    "    else:\n",
    "        device = torch.device(\"cpu\")\n",
    "        print(\"MPS backend not available.\")\n",
    "        print(\"Using CPU for computations.\")\n",
    "\n",
    "    # 2. Perform a sample tensor operation on the chosen device\n",
    "    try:\n",
    "        # Create tensors on the determined device\n",
    "        tensor_a = torch.randn(1000, 1000, device=device)\n",
    "        tensor_b = torch.randn(1000, 1000, device=device)\n",
    "\n",
    "        # Perform a matrix multiplication\n",
    "        start_time = time.time()\n",
    "        result = torch.matmul(tensor_a, tensor_b)\n",
    "        end_time = time.time()\n",
    "\n",
    "        print(f\"\\nPerformed a 1000x1000 matrix multiplication on {device.type}.\")\n",
    "        print(f\"Time taken: {end_time - start_time:.4f} seconds.\")\n",
    "        print(f\"Result device: {result.device}\")\n",
    "\n",
    "        # You can add more complex operations here to test further\n",
    "        # For example, create a simple neural network and run a forward pass\n",
    "\n",
    "    except RuntimeError as e:\n",
    "        print(f\"\\nAn error occurred during tensor operations: {e}\")\n",
    "        print(\"This might indicate issues with your PyTorch/MPS setup.\")\n",
    "        print(\"Double-check your PyTorch installation and environment configuration.\")\n",
    "\n",
    "if __name__ == \"__main__\":\n",
    "    check_pytorch_device()\n",
    "\n"
   ],
   "outputs": [],
   "execution_count": null
  },
  {
   "cell_type": "code",
   "id": "91b07c5e40c2dd36",
   "metadata": {},
   "source": [
    "import torch\n",
    "if torch.backends.mps.is_available():\n",
    "    device = torch.device(\"mps\")\n",
    "    print(\"Using MPS (Metal Performance Shaders) backend.\")\n",
    "# Allocate some tensors to demonstrate memory usage\n",
    "    x = torch.randn(1000, 1000, device=device)\n",
    "    y = torch.randn(1000, 1000, device=device)\n",
    "    print(f\"Current allocated memory: {torch.mps.driver_allocated_memory() / (10242):.2f} MB\")\n",
    "    print(f\"Current reserved memory: {torch.mps.current_allocated_memory() / (10242):.2f} MB\")\n",
    "else:\n",
    "    print(\"MPS backend not available.\")"
   ],
   "outputs": [],
   "execution_count": null
  },
  {
   "cell_type": "code",
   "id": "3b4bffce89027c3",
   "metadata": {},
   "source": [],
   "outputs": [],
   "execution_count": null
  },
  {
   "cell_type": "code",
   "id": "898acde0627cfa3b",
   "metadata": {},
   "source": [
    "print(torch.__version__)"
   ],
   "outputs": [],
   "execution_count": null
  },
  {
   "cell_type": "code",
   "id": "98be06bc0ab082cb",
   "metadata": {},
   "source": [
    "scalar = torch.tensor(7)\n",
    "scalar"
   ],
   "outputs": [],
   "execution_count": null
  },
  {
   "cell_type": "code",
   "id": "2ddbaf49374c0ef9",
   "metadata": {},
   "source": [
    "scalar.ndim"
   ],
   "outputs": [],
   "execution_count": null
  },
  {
   "cell_type": "code",
   "id": "3fa5c16c97cd66c5",
   "metadata": {},
   "source": [
    "vector = torch.tensor([1, 2, 3])\n",
    "vector"
   ],
   "outputs": [],
   "execution_count": null
  },
  {
   "cell_type": "code",
   "id": "6bc91168a76cec82",
   "metadata": {},
   "source": [
    "vector.shape"
   ],
   "outputs": [],
   "execution_count": null
  },
  {
   "cell_type": "code",
   "id": "fb172a980e1ecea9",
   "metadata": {},
   "source": [
    "matrix = torch.tensor([[1, 2, 3], [4, 5, 6]])\n",
    "matrix"
   ],
   "outputs": [],
   "execution_count": null
  },
  {
   "cell_type": "code",
   "id": "5ca768fcaa7bcbff",
   "metadata": {},
   "source": [
    "matrix.shape"
   ],
   "outputs": [],
   "execution_count": null
  },
  {
   "cell_type": "code",
   "id": "4b2806afc541b2df",
   "metadata": {},
   "source": [
    "tensors = torch.tensor([[[1, 2, 3], [4, 5, 6], [7, 8, 9]]])\n",
    "tensors"
   ],
   "outputs": [],
   "execution_count": null
  },
  {
   "cell_type": "code",
   "id": "366d67ab28d4c1",
   "metadata": {},
   "source": [
    "tensors.shape"
   ],
   "outputs": [],
   "execution_count": null
  },
  {
   "cell_type": "code",
   "id": "3ea4f11e5ee2ad9",
   "metadata": {},
   "source": [
    "tensors.ndim"
   ],
   "outputs": [],
   "execution_count": null
  },
  {
   "cell_type": "code",
   "id": "b23c12025e2f8319",
   "metadata": {},
   "source": [
    "tensors = torch.tensor([[[1,2,3],[4,5,6]],[[7,8,9],[10,11,12]],[[13,14,15],[16,17,18]]])\n",
    "tensors"
   ],
   "outputs": [],
   "execution_count": null
  },
  {
   "cell_type": "code",
   "id": "fb8217f064f0af44",
   "metadata": {},
   "source": [
    "tensors.shape,tensors.ndim"
   ],
   "outputs": [],
   "execution_count": null
  },
  {
   "cell_type": "code",
   "id": "4a6ab63b1e21b2d3",
   "metadata": {},
   "source": "random_temsor = torch.randn(3,4)",
   "outputs": [],
   "execution_count": null
  },
  {
   "metadata": {},
   "cell_type": "code",
   "source": "random_temsor",
   "id": "c4097b7e3e415be8",
   "outputs": [],
   "execution_count": null
  },
  {
   "metadata": {},
   "cell_type": "code",
   "source": [
    "zeros =torch.zeros(3,4)\n",
    "zeros"
   ],
   "id": "72f4d1702aa205be",
   "outputs": [],
   "execution_count": null
  },
  {
   "metadata": {},
   "cell_type": "code",
   "source": [
    "ones =torch.ones(3,4)\n",
    "ones"
   ],
   "id": "8979ac47be321a56",
   "outputs": [],
   "execution_count": null
  },
  {
   "metadata": {},
   "cell_type": "code",
   "source": "torch.arange(0,10)",
   "id": "3afbbd83170d6cff",
   "outputs": [],
   "execution_count": null
  },
  {
   "metadata": {},
   "cell_type": "code",
   "source": "",
   "id": "a32415701ccde1bd",
   "outputs": [],
   "execution_count": null
  },
  {
   "metadata": {},
   "cell_type": "code",
   "source": [
    "onetoten = torch.arange(start=1,end=11,step=1)\n",
    "onetoten"
   ],
   "id": "f2f900f86ca676de",
   "outputs": [],
   "execution_count": null
  },
  {
   "metadata": {},
   "cell_type": "code",
   "source": [
    "zeroes = torch.zeros_like(input=onetoten)\n",
    "zeroes"
   ],
   "id": "7611945cee03eb2f",
   "outputs": [],
   "execution_count": null
  },
  {
   "metadata": {},
   "cell_type": "code",
   "source": [
    "float32 = torch.tensor([1.0,2.0,3.0],dtype=None,device=None,requires_grad=False)\n",
    "float32.dtype\n",
    "# even dtype is given ,default is float"
   ],
   "id": "89ca4efca4e70f78",
   "outputs": [],
   "execution_count": null
  },
  {
   "metadata": {},
   "cell_type": "code",
   "source": "print(f\"{float32.device}\")",
   "id": "aed583ef2330d64d",
   "outputs": [],
   "execution_count": null
  },
  {
   "metadata": {},
   "cell_type": "code",
   "source": "tensor = torch.tensor([1,2,3])",
   "id": "525f7bac418dcb7d",
   "outputs": [],
   "execution_count": null
  },
  {
   "metadata": {},
   "cell_type": "code",
   "source": "tensor+10",
   "id": "21f772d9a763cfcc",
   "outputs": [],
   "execution_count": null
  },
  {
   "metadata": {},
   "cell_type": "code",
   "source": "tensor*10",
   "id": "d02a865c2be81e85",
   "outputs": [],
   "execution_count": null
  },
  {
   "metadata": {},
   "cell_type": "code",
   "source": "tensor-10",
   "id": "b684fd1c1fea2e54",
   "outputs": [],
   "execution_count": null
  },
  {
   "metadata": {},
   "cell_type": "code",
   "source": [
    "#inbuilt functions\n",
    "torch.mul(tensor,10)"
   ],
   "id": "126267d1d02518d9",
   "outputs": [],
   "execution_count": null
  },
  {
   "metadata": {},
   "cell_type": "code",
   "source": "torch.add(tensor,10)",
   "id": "4d3d0ae35a58710a",
   "outputs": [],
   "execution_count": null
  },
  {
   "metadata": {},
   "cell_type": "code",
   "source": "torch.sub(tensor,10)",
   "id": "9662e59d0407e3a",
   "outputs": [],
   "execution_count": null
  },
  {
   "metadata": {},
   "cell_type": "code",
   "source": "torch.pow(tensor,2)",
   "id": "c345c20fc343aad8",
   "outputs": [],
   "execution_count": null
  },
  {
   "metadata": {},
   "cell_type": "code",
   "source": [
    "#marix multiplication,dot product of matrixes (@)\n",
    "torch.matmul(tensor,tensor)"
   ],
   "id": "7eb2ca89efea7c1",
   "outputs": [],
   "execution_count": null
  },
  {
   "metadata": {},
   "cell_type": "code",
   "source": "tensor@tensor",
   "id": "32d343d6883bd06e",
   "outputs": [],
   "execution_count": null
  },
  {
   "metadata": {},
   "cell_type": "code",
   "source": [
    "x = torch.arange(0,100,10)\n",
    "x.dtype"
   ],
   "id": "37ab0fc5cd28d82f",
   "outputs": [],
   "execution_count": null
  },
  {
   "metadata": {},
   "cell_type": "code",
   "source": "torch.min(x)",
   "id": "e77629c4aae1a1b",
   "outputs": [],
   "execution_count": null
  },
  {
   "metadata": {},
   "cell_type": "code",
   "source": "torch.max(x)",
   "id": "4a8b6164f2841bb1",
   "outputs": [],
   "execution_count": null
  },
  {
   "metadata": {},
   "cell_type": "code",
   "source": [
    "torch.mean(x.type(torch.float32))\n",
    "#this may give datatype erroe bcz x is int,so convert it into float"
   ],
   "id": "e9c5e1bce8b4e00c",
   "outputs": [],
   "execution_count": null
  },
  {
   "metadata": {},
   "cell_type": "code",
   "source": "torch.sum(x)",
   "id": "4ea9ad2fbee25582",
   "outputs": [],
   "execution_count": null
  },
  {
   "metadata": {},
   "cell_type": "code",
   "source": "x.argmin()",
   "id": "362d57e8a6995a01",
   "outputs": [],
   "execution_count": null
  },
  {
   "metadata": {},
   "cell_type": "code",
   "source": "x[0]",
   "id": "7292b033cc82312e",
   "outputs": [],
   "execution_count": null
  },
  {
   "metadata": {},
   "cell_type": "code",
   "source": "x.argmax()",
   "id": "edc5f47b67e64166",
   "outputs": [],
   "execution_count": null
  },
  {
   "metadata": {},
   "cell_type": "code",
   "source": "import torch",
   "id": "cc97cfff0c8037d",
   "outputs": [],
   "execution_count": null
  },
  {
   "metadata": {},
   "cell_type": "code",
   "source": "x = torch.arange(1,10)",
   "id": "507ec90287480bfc",
   "outputs": [],
   "execution_count": null
  },
  {
   "metadata": {},
   "cell_type": "code",
   "source": [
    "xreshaped = x.reshape(9,1)\n",
    "xreshaped.shape"
   ],
   "id": "8d3f6296aaab4490",
   "outputs": [],
   "execution_count": null
  },
  {
   "metadata": {},
   "cell_type": "code",
   "source": [
    "z = x.view(1,9)\n",
    "z,z.shape"
   ],
   "id": "91fcb3f6abf38a46",
   "outputs": [],
   "execution_count": null
  },
  {
   "metadata": {},
   "cell_type": "code",
   "source": [
    "z[:,0]=5\n",
    "z,x\n",
    "#change in z will change the x as well"
   ],
   "id": "238513e8c70c6fc3",
   "outputs": [],
   "execution_count": null
  },
  {
   "metadata": {},
   "cell_type": "code",
   "source": "xstacked = torch.stack([x,x,x,x],dim=1)",
   "id": "46f17462ea79a6eb",
   "outputs": [],
   "execution_count": null
  },
  {
   "metadata": {},
   "cell_type": "code",
   "source": "xstacked",
   "id": "801925b2e5c1c9ab",
   "outputs": [],
   "execution_count": null
  },
  {
   "metadata": {},
   "cell_type": "code",
   "source": "xreshaped.squeeze()",
   "id": "dfbc1c5994faab56",
   "outputs": [],
   "execution_count": null
  },
  {
   "metadata": {},
   "cell_type": "code",
   "source": "xreshaped.squeeze().shape",
   "id": "a7d6c860f9a13952",
   "outputs": [],
   "execution_count": null
  },
  {
   "metadata": {},
   "cell_type": "code",
   "source": "xsqueezed = xreshaped.squeeze()",
   "id": "d5317bbba43021e4",
   "outputs": [],
   "execution_count": null
  },
  {
   "metadata": {},
   "cell_type": "code",
   "source": "xsqueezed.shape",
   "id": "64f390d6dfff4783",
   "outputs": [],
   "execution_count": null
  },
  {
   "metadata": {},
   "cell_type": "code",
   "source": "xunsq = xsqueezed.unsqueeze(dim=0)",
   "id": "174b216d51f2f6bb",
   "outputs": [],
   "execution_count": null
  },
  {
   "metadata": {},
   "cell_type": "code",
   "source": "xunsq.shape",
   "id": "1d3de0b4f6dfc698",
   "outputs": [],
   "execution_count": null
  },
  {
   "metadata": {},
   "cell_type": "code",
   "source": [
    "xoriginal = torch.rand(size=(224,224,3))\n",
    "xoriginal.shape"
   ],
   "id": "7aa74fde29f1806",
   "outputs": [],
   "execution_count": null
  },
  {
   "metadata": {},
   "cell_type": "code",
   "source": [
    "xpermuted = xoriginal.permute(2,0,1)\n",
    "#shifts axis\n",
    "xpermuted.shape"
   ],
   "id": "15fb3bce7bd186c",
   "outputs": [],
   "execution_count": null
  },
  {
   "metadata": {},
   "cell_type": "code",
   "source": "xoriginal",
   "id": "7f3f8eb1fe211748",
   "outputs": [],
   "execution_count": null
  },
  {
   "metadata": {},
   "cell_type": "code",
   "source": "xpermuted",
   "id": "dc3261ce45adfa9",
   "outputs": [],
   "execution_count": null
  },
  {
   "metadata": {},
   "cell_type": "code",
   "source": "x = torch.arange(1,10).reshape(1,3,3)",
   "id": "4bbc5dbcb28cd68a",
   "outputs": [],
   "execution_count": null
  },
  {
   "metadata": {},
   "cell_type": "code",
   "source": "x",
   "id": "b0275b20308b63be",
   "outputs": [],
   "execution_count": null
  },
  {
   "metadata": {},
   "cell_type": "code",
   "source": "x[0]",
   "id": "90626801c77ce934",
   "outputs": [],
   "execution_count": null
  },
  {
   "metadata": {},
   "cell_type": "code",
   "source": "x[0][0]",
   "id": "611de9d6c3fc077",
   "outputs": [],
   "execution_count": null
  },
  {
   "metadata": {},
   "cell_type": "code",
   "source": "x[0][0][0]",
   "id": "6d489503380713bb",
   "outputs": [],
   "execution_count": null
  },
  {
   "metadata": {},
   "cell_type": "code",
   "source": [
    "import torch\n",
    "import numpy as np\n",
    "#numpy to tensor"
   ],
   "id": "369d3a815c98e2b",
   "outputs": [],
   "execution_count": null
  },
  {
   "metadata": {},
   "cell_type": "code",
   "source": "array = np.arange(1.,8.);",
   "id": "d047d48e670523af",
   "outputs": [],
   "execution_count": null
  },
  {
   "metadata": {},
   "cell_type": "code",
   "source": "tensor = torch.from_numpy(array)",
   "id": "f5af6b6aa8bd9ef6",
   "outputs": [],
   "execution_count": null
  },
  {
   "metadata": {},
   "cell_type": "code",
   "source": "array,tensor",
   "id": "7979aedb25fae6e4",
   "outputs": [],
   "execution_count": null
  },
  {
   "metadata": {},
   "cell_type": "code",
   "source": "array = array + 1",
   "id": "9bd36755fcd176b9",
   "outputs": [],
   "execution_count": null
  },
  {
   "metadata": {},
   "cell_type": "code",
   "source": "array,tensor",
   "id": "11f2e313bdd48ddc",
   "outputs": [],
   "execution_count": null
  },
  {
   "metadata": {},
   "cell_type": "code",
   "source": [
    "#tensor to numpy\n",
    "tensor = torch.ones(7)\n",
    "numpytesor = tensor.numpy()\n",
    "numpytesor"
   ],
   "id": "5b839dcbae07c85",
   "outputs": [],
   "execution_count": null
  },
  {
   "metadata": {},
   "cell_type": "code",
   "source": [
    "import torch\n",
    "\n",
    "randomtensorA = torch.rand(3,4)\n",
    "randomtensorB = torch.rand(3,4)\n",
    "\n",
    "print(randomtensorA)\n",
    "print(randomtensorB)\n",
    "print(randomtensorA==randomtensorB)"
   ],
   "id": "2fcc369c79bc5805",
   "outputs": [],
   "execution_count": null
  },
  {
   "metadata": {},
   "cell_type": "code",
   "source": [
    "RANDOMSEED = 42\n",
    "torch.manual_seed(RANDOMSEED)\n",
    "randomC = torch.rand(3,4)\n",
    "torch.manual_seed(RANDOMSEED)\n",
    "randomD = torch.rand(3,4)"
   ],
   "id": "3450161bbeb6993f",
   "outputs": [],
   "execution_count": null
  },
  {
   "metadata": {},
   "cell_type": "code",
   "source": "randomC,randomD",
   "id": "787e8d66f337e63b",
   "outputs": [],
   "execution_count": null
  },
  {
   "metadata": {},
   "cell_type": "code",
   "source": [
    "#accessing GPU (mps) for training\n",
    "device = \"mps\" if torch.backends.mps.is_available() else \"cpu\"\n",
    "device"
   ],
   "id": "bfd12b05f44be34d",
   "outputs": [],
   "execution_count": null
  },
  {
   "metadata": {},
   "cell_type": "code",
   "source": "torch.cuda.is_available()",
   "id": "f8a8749a7f048622",
   "outputs": [],
   "execution_count": null
  },
  {
   "metadata": {},
   "cell_type": "code",
   "source": [
    "    import torch\n",
    "\n",
    "    if torch.backends.mps.is_available():\n",
    "        device = torch.device(\"mps\")\n",
    "        print(\"Using Apple Silicon MPS GPU.\")\n",
    "    else:\n",
    "        device = torch.device(\"cpu\")\n",
    "        print(\"Using CPU.\")\n"
   ],
   "id": "a7d655b453a802a0",
   "outputs": [],
   "execution_count": null
  },
  {
   "metadata": {},
   "cell_type": "code",
   "source": "tensor = torch.tensor([1,2,3])",
   "id": "8f4effac2e63e853",
   "outputs": [],
   "execution_count": null
  },
  {
   "metadata": {},
   "cell_type": "code",
   "source": "print(tensor,tensor.device)",
   "id": "46ac87c892bbfab5",
   "outputs": [],
   "execution_count": null
  },
  {
   "metadata": {},
   "cell_type": "code",
   "source": [
    "#moving tensors to GPU(mps)\n",
    "tensor_to_gpu = tensor.to(device)"
   ],
   "id": "3b45ecc466fc0254",
   "outputs": [],
   "execution_count": null
  },
  {
   "metadata": {},
   "cell_type": "code",
   "source": "print(tensor_to_gpu.device)",
   "id": "74375efb1bdf2af8",
   "outputs": [],
   "execution_count": null
  },
  {
   "metadata": {},
   "cell_type": "code",
   "source": [
    "#numpy needs cpu to work,so we should go back to cpu and then we need to use numpy\n",
    "# tensor.numpy()"
   ],
   "id": "480fbd365f43e887",
   "outputs": [],
   "execution_count": null
  },
  {
   "metadata": {},
   "cell_type": "code",
   "source": "tensor_to_cpu = tensor_to_gpu.cpu()",
   "id": "c9428dc6bcc05019",
   "outputs": [],
   "execution_count": null
  },
  {
   "metadata": {},
   "cell_type": "code",
   "source": "tensor_to_cpu.numpy()",
   "id": "f882678ee7f6c68",
   "outputs": [],
   "execution_count": null
  },
  {
   "metadata": {},
   "cell_type": "code",
   "source": "print(tensor_to_cpu.device)",
   "id": "2077373e6a82e4a8",
   "outputs": [],
   "execution_count": null
  },
  {
   "metadata": {},
   "cell_type": "code",
   "source": "",
   "id": "631aa64e2195497c",
   "outputs": [],
   "execution_count": null
  }
 ],
 "metadata": {
  "kernelspec": {
   "display_name": "Python 3 (ipykernel)",
   "language": "python",
   "name": "python3"
  },
  "language_info": {
   "codemirror_mode": {
    "name": "ipython",
    "version": 3
   },
   "file_extension": ".py",
   "mimetype": "text/x-python",
   "name": "python",
   "nbconvert_exporter": "python",
   "pygments_lexer": "ipython3",
   "version": "3.13.5"
  }
 },
 "nbformat": 4,
 "nbformat_minor": 5
}
