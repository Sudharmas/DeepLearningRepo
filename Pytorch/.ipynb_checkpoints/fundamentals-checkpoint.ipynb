{
 "cells": [
  {
   "cell_type": "code",
   "execution_count": 1,
   "id": "initial_id",
   "metadata": {
    "ExecuteTime": {
     "end_time": "2025-08-14T04:42:44.079305Z",
     "start_time": "2025-08-14T04:42:43.137957Z"
    },
    "collapsed": true,
    "jupyter": {
     "outputs_hidden": true
    }
   },
   "outputs": [
    {
     "name": "stdout",
     "output_type": "stream",
     "text": [
      "Hello World\n"
     ]
    }
   ],
   "source": [
    "import torch\n",
    "\n",
    "print(\"Hello World\")"
   ]
  },
  {
   "cell_type": "code",
   "execution_count": null,
   "id": "8aa7275333f4bb24",
   "metadata": {},
   "outputs": [],
   "source": [
    "# pip install --pre torch torchvision torchaudio --extra-index-url https://download.pytorch.org/whl/nightly/cpu"
   ]
  },
  {
   "cell_type": "code",
   "execution_count": null,
   "id": "7090eccc8e96781f",
   "metadata": {},
   "outputs": [],
   "source": [
    "# import torch\n",
    "#\n",
    "# if torch.backends.mps.is_available():\n",
    "#     mps_device = torch.device(\"mps\")\n",
    "#     x = torch.ones(1, device=mps_device)\n",
    "#     print (\"MPS device is available:\", x)\n",
    "# else:\n",
    "#     print (\"MPS device not found.\")\n",
    "#\n"
   ]
  },
  {
   "cell_type": "code",
   "execution_count": null,
   "id": "71a0e39a8643e849",
   "metadata": {},
   "outputs": [],
   "source": [
    "# import torch\n",
    "#\n",
    "# if torch.backends.mps.is_available():\n",
    "#     device = torch.device(\"mps\")\n",
    "#     print(\"Using MPS (Metal Performance Shaders) for GPU acceleration\")\n",
    "# else:\n",
    "#     device = torch.device(\"cpu\")\n",
    "#     print(\"MPS not available, falling back to CPU\")"
   ]
  },
  {
   "cell_type": "code",
   "execution_count": null,
   "id": "f41a3775b453292b",
   "metadata": {},
   "outputs": [],
   "source": [
    "# import torch\n",
    "# import time\n",
    "#\n",
    "# def check_pytorch_device():\n",
    "#     \"\"\"\n",
    "#     Checks if PyTorch is configured to use the GPU (MPS) or CPU,\n",
    "#     and performs a simple tensor operation to demonstrate.\n",
    "#     \"\"\"\n",
    "#\n",
    "#     # 1. Determine the device to use\n",
    "#     if torch.backends.mps.is_available():\n",
    "#         device = torch.device(\"mps\")\n",
    "#         print(\"MPS (Metal Performance Shaders) backend is available.\")\n",
    "#         print(\"Using GPU for computations.\")\n",
    "#     else:\n",
    "#         device = torch.device(\"cpu\")\n",
    "#         print(\"MPS backend not available.\")\n",
    "#         print(\"Using CPU for computations.\")\n",
    "#\n",
    "#     # 2. Perform a sample tensor operation on the chosen device\n",
    "#     try:\n",
    "#         # Create tensors on the determined device\n",
    "#         tensor_a = torch.randn(1000, 1000, device=device)\n",
    "#         tensor_b = torch.randn(1000, 1000, device=device)\n",
    "#\n",
    "#         # Perform a matrix multiplication\n",
    "#         start_time = time.time()\n",
    "#         result = torch.matmul(tensor_a, tensor_b)\n",
    "#         end_time = time.time()\n",
    "#\n",
    "#         print(f\"\\nPerformed a 1000x1000 matrix multiplication on {device.type}.\")\n",
    "#         print(f\"Time taken: {end_time - start_time:.4f} seconds.\")\n",
    "#         print(f\"Result device: {result.device}\")\n",
    "#\n",
    "#         # You can add more complex operations here to test further\n",
    "#         # For example, create a simple neural network and run a forward pass\n",
    "#\n",
    "#     except RuntimeError as e:\n",
    "#         print(f\"\\nAn error occurred during tensor operations: {e}\")\n",
    "#         print(\"This might indicate issues with your PyTorch/MPS setup.\")\n",
    "#         print(\"Double-check your PyTorch installation and environment configuration.\")\n",
    "#\n",
    "# if __name__ == \"__main__\":\n",
    "#     check_pytorch_device()\n",
    "#\n"
   ]
  },
  {
   "cell_type": "code",
   "execution_count": 27,
   "id": "91b07c5e40c2dd36",
   "metadata": {
    "ExecuteTime": {
     "end_time": "2025-08-14T04:43:06.208395Z",
     "start_time": "2025-08-14T04:43:06.204279Z"
    }
   },
   "outputs": [],
   "source": [
    "# import torch\n",
    "# if torch.backends.mps.is_available():\n",
    "#     device = torch.device(\"mps\")\n",
    "#     print(\"Using MPS (Metal Performance Shaders) backend.\")\n",
    "# # Allocate some tensors to demonstrate memory usage\n",
    "#     x = torch.randn(1000, 1000, device=device)\n",
    "#     y = torch.randn(1000, 1000, device=device)\n",
    "#     print(f\"Current allocated memory: {torch.mps.driver_allocated_memory() / (10242):.2f} MB\")\n",
    "#     print(f\"Current reserved memory: {torch.mps.current_allocated_memory() / (10242):.2f} MB\")\n",
    "# else:\n",
    "#     print(\"MPS backend not available.\")"
   ]
  },
  {
   "cell_type": "code",
   "execution_count": null,
   "id": "3b4bffce89027c3",
   "metadata": {
    "ExecuteTime": {
     "end_time": "2025-08-13T14:38:44.898349Z",
     "start_time": "2025-08-13T14:38:44.896352Z"
    }
   },
   "outputs": [],
   "source": []
  },
  {
   "cell_type": "code",
   "execution_count": 15,
   "id": "898acde0627cfa3b",
   "metadata": {
    "ExecuteTime": {
     "end_time": "2025-08-13T14:41:38.725230Z",
     "start_time": "2025-08-13T14:41:38.722396Z"
    }
   },
   "outputs": [
    {
     "name": "stdout",
     "output_type": "stream",
     "text": [
      "2.9.0.dev20250813\n"
     ]
    }
   ],
   "source": [
    "print(torch.__version__)"
   ]
  },
  {
   "cell_type": "code",
   "execution_count": 17,
   "id": "98be06bc0ab082cb",
   "metadata": {
    "ExecuteTime": {
     "end_time": "2025-08-13T14:52:50.078718Z",
     "start_time": "2025-08-13T14:52:50.072523Z"
    }
   },
   "outputs": [
    {
     "data": {
      "text/plain": [
       "tensor(7)"
      ]
     },
     "execution_count": 17,
     "metadata": {},
     "output_type": "execute_result"
    }
   ],
   "source": [
    "scalar = torch.tensor(7)\n",
    "scalar"
   ]
  },
  {
   "cell_type": "code",
   "execution_count": 18,
   "id": "2ddbaf49374c0ef9",
   "metadata": {
    "ExecuteTime": {
     "end_time": "2025-08-13T14:54:59.219797Z",
     "start_time": "2025-08-13T14:54:59.217306Z"
    }
   },
   "outputs": [
    {
     "data": {
      "text/plain": [
       "0"
      ]
     },
     "execution_count": 18,
     "metadata": {},
     "output_type": "execute_result"
    }
   ],
   "source": [
    "scalar.ndim"
   ]
  },
  {
   "cell_type": "code",
   "execution_count": 19,
   "id": "3fa5c16c97cd66c5",
   "metadata": {
    "ExecuteTime": {
     "end_time": "2025-08-13T15:12:37.457890Z",
     "start_time": "2025-08-13T15:12:37.453285Z"
    }
   },
   "outputs": [
    {
     "data": {
      "text/plain": [
       "tensor([1, 2, 3])"
      ]
     },
     "execution_count": 19,
     "metadata": {},
     "output_type": "execute_result"
    }
   ],
   "source": [
    "vector = torch.tensor([1, 2, 3])\n",
    "vector"
   ]
  },
  {
   "cell_type": "code",
   "execution_count": 20,
   "id": "6bc91168a76cec82",
   "metadata": {
    "ExecuteTime": {
     "end_time": "2025-08-13T15:12:43.468186Z",
     "start_time": "2025-08-13T15:12:43.465651Z"
    }
   },
   "outputs": [
    {
     "data": {
      "text/plain": [
       "torch.Size([3])"
      ]
     },
     "execution_count": 20,
     "metadata": {},
     "output_type": "execute_result"
    }
   ],
   "source": [
    "vector.shape"
   ]
  },
  {
   "cell_type": "code",
   "execution_count": 21,
   "id": "fb172a980e1ecea9",
   "metadata": {
    "ExecuteTime": {
     "end_time": "2025-08-13T15:13:39.984355Z",
     "start_time": "2025-08-13T15:13:39.981175Z"
    }
   },
   "outputs": [
    {
     "data": {
      "text/plain": [
       "tensor([[1, 2, 3],\n",
       "        [4, 5, 6]])"
      ]
     },
     "execution_count": 21,
     "metadata": {},
     "output_type": "execute_result"
    }
   ],
   "source": [
    "matrix = torch.tensor([[1, 2, 3], [4, 5, 6]])\n",
    "matrix"
   ]
  },
  {
   "cell_type": "code",
   "execution_count": 22,
   "id": "5ca768fcaa7bcbff",
   "metadata": {
    "ExecuteTime": {
     "end_time": "2025-08-13T15:13:42.519834Z",
     "start_time": "2025-08-13T15:13:42.517532Z"
    }
   },
   "outputs": [
    {
     "data": {
      "text/plain": [
       "torch.Size([2, 3])"
      ]
     },
     "execution_count": 22,
     "metadata": {},
     "output_type": "execute_result"
    }
   ],
   "source": [
    "matrix.shape"
   ]
  },
  {
   "cell_type": "code",
   "execution_count": 25,
   "id": "4b2806afc541b2df",
   "metadata": {
    "ExecuteTime": {
     "end_time": "2025-08-13T15:18:21.122404Z",
     "start_time": "2025-08-13T15:18:21.118768Z"
    }
   },
   "outputs": [
    {
     "data": {
      "text/plain": [
       "tensor([[[1, 2, 3],\n",
       "         [4, 5, 6],\n",
       "         [7, 8, 9]]])"
      ]
     },
     "execution_count": 25,
     "metadata": {},
     "output_type": "execute_result"
    }
   ],
   "source": [
    "tensors = torch.tensor([[[1, 2, 3], [4, 5, 6], [7, 8, 9]]])\n",
    "tensors"
   ]
  },
  {
   "cell_type": "code",
   "execution_count": 26,
   "id": "366d67ab28d4c1",
   "metadata": {
    "ExecuteTime": {
     "end_time": "2025-08-13T15:18:21.890404Z",
     "start_time": "2025-08-13T15:18:21.886563Z"
    }
   },
   "outputs": [
    {
     "data": {
      "text/plain": [
       "torch.Size([1, 3, 3])"
      ]
     },
     "execution_count": 26,
     "metadata": {},
     "output_type": "execute_result"
    }
   ],
   "source": [
    "tensors.shape"
   ]
  },
  {
   "cell_type": "code",
   "execution_count": 27,
   "id": "3ea4f11e5ee2ad9",
   "metadata": {
    "ExecuteTime": {
     "end_time": "2025-08-13T15:19:36.570529Z",
     "start_time": "2025-08-13T15:19:36.567676Z"
    }
   },
   "outputs": [
    {
     "data": {
      "text/plain": [
       "3"
      ]
     },
     "execution_count": 27,
     "metadata": {},
     "output_type": "execute_result"
    }
   ],
   "source": [
    "tensors.ndim"
   ]
  },
  {
   "cell_type": "code",
   "execution_count": 24,
   "id": "b23c12025e2f8319",
   "metadata": {
    "ExecuteTime": {
     "end_time": "2025-08-14T04:50:38.711786Z",
     "start_time": "2025-08-14T04:50:38.705442Z"
    }
   },
   "outputs": [
    {
     "data": {
      "text/plain": [
       "tensor([[[ 1,  2,  3],\n",
       "         [ 4,  5,  6]],\n",
       "\n",
       "        [[ 7,  8,  9],\n",
       "         [10, 11, 12]],\n",
       "\n",
       "        [[13, 14, 15],\n",
       "         [16, 17, 18]]])"
      ]
     },
     "execution_count": 24,
     "metadata": {},
     "output_type": "execute_result"
    }
   ],
   "source": [
    "tensors = torch.tensor([[[1,2,3],[4,5,6]],[[7,8,9],[10,11,12]],[[13,14,15],[16,17,18]]])\n",
    "tensors"
   ]
  },
  {
   "cell_type": "code",
   "execution_count": 25,
   "id": "fb8217f064f0af44",
   "metadata": {
    "ExecuteTime": {
     "end_time": "2025-08-14T04:50:39.326948Z",
     "start_time": "2025-08-14T04:50:39.322596Z"
    }
   },
   "outputs": [
    {
     "data": {
      "text/plain": [
       "(torch.Size([3, 2, 3]), 3)"
      ]
     },
     "execution_count": 25,
     "metadata": {},
     "output_type": "execute_result"
    }
   ],
   "source": [
    "tensors.shape,tensors.ndim"
   ]
  },
  {
   "cell_type": "code",
   "execution_count": null,
   "id": "4a6ab63b1e21b2d3",
   "metadata": {},
   "outputs": [],
   "source": []
  }
 ],
 "metadata": {
  "kernelspec": {
   "display_name": "Python 3 (ipykernel)",
   "language": "python",
   "name": "python3"
  },
  "language_info": {
   "codemirror_mode": {
    "name": "ipython",
    "version": 3
   },
   "file_extension": ".py",
   "mimetype": "text/x-python",
   "name": "python",
   "nbconvert_exporter": "python",
   "pygments_lexer": "ipython3",
   "version": "3.13.5"
  }
 },
 "nbformat": 4,
 "nbformat_minor": 5
}
